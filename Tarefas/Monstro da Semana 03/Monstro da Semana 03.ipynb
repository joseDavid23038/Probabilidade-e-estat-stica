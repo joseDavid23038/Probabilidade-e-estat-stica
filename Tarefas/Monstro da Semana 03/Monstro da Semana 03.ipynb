{
 "cells": [
  {
   "cell_type": "markdown",
   "metadata": {},
   "source": [
    "Meu computador, meu laboratório\n",
    "===============================\n",
    "\n"
   ]
  },
  {
   "cell_type": "markdown",
   "metadata": {},
   "source": [
    "## Objetivo\n",
    "\n"
   ]
  },
  {
   "cell_type": "markdown",
   "metadata": {},
   "source": [
    "Elabore uma pergunta/hipótese e teste ela usando um experimento computacional. Mostre graficamente um histograma dos resultados obtidos nas suas simulações e discuta se conseguiu responder sua pergunta/hipótese. Tente ser criativo e realizar um experimento suficientemente diferente dos realizados em sala.\n",
    "\n",
    "Sugestões de situações/processos para simular:\n",
    "\n",
    "-   Baralho de cartas (ex: qual a chance de sortear 5 cartas do mesmo naipe ou qual a chance sortear 3 cartas em ordem crescente. Pode pensar em aplicações em jogos como Poker ou Truco pois, afinal, a probabilidade nasceu nos jogos de azar);\n",
    "-   Jogos de tabuleiros (pensar em estratégias de otimização assim como as discutidas sobre o jogo Catan em aula);\n",
    "-   Datas de aniversário (ex: qual chance de pelo menos duas pessoas fazerem aniversário no mesmo dia num grupo de $n$ pessoas)\n",
    "\n",
    "Escolha o experimento que preferir, não precisa se limitar às sugestões.\n",
    "\n"
   ]
  },
  {
   "cell_type": "markdown",
   "metadata": {},
   "source": [
    "## Resultado e discussão\n",
    "\n"
   ]
  },
  {
   "attachments": {},
   "cell_type": "markdown",
   "metadata": {},
   "source": [
    "<h3>Trem amaldiçoado</h3>\n",
    "\n",
    "Imagine que você está em um jogo em que há um trem que muda aleatoriamente a posição (cores) dos vagões a cada 15 minutos. A cada estação que o trem passa, um vagão é amaldiçoado por um deus sem rosto, exceto o vagão protegido por um papa está e o vagão em que você está, pois estarão protegidos. O objetivo é ficar no vagão protegido no momento em que sobrar somente dois vagões a serem amaldiçoados, pois a proteção do papa é maior do que a sua, assim o seu vagão será amadiçoado, e você perderá o jogo. Existem 5 vagões possiveis para escolher (roxo, amarelo, verde, azul, vermelho) você pode escolher qualquer um deles, mas nunca saberá onde está o papa, e a cada estação você pode trocar de vagão ou ficar nele. Qual é a estratégia mais vantajosa?\n",
    "\n",
    "**Cenário e Estratégias:**\n",
    "\n",
    "1. **Estratégia de Manter:**\n",
    "   - Nesta estratégia, você escolhe um vagão inicial (roxo, amarelo, verde, azul ou vermelho) e fica nele ao longo do jogo, independentemente das mudanças nas posições dos vagões. A cada estação, um vagão é amaldiçoado e outro é protegido. \n",
    "\n",
    "\n",
    "\n",
    "2. **Estratégia de Trocar:**\n",
    "   - Nesta estratégia, você escolhe um vagão inicial e decide trocar para um novo vagão a cada estação. Sua escolha é baseada na suposição de que a probabilidade de que o próximo vagão amaldiçoado seja menor caso você troque. \n",
    "\n",
    "**Análise de Probabilidade:**\n",
    "\n",
    "\n",
    "**Conclusão:**\n",
    "\n"
   ]
  },
  {
   "cell_type": "code",
   "execution_count": 54,
   "metadata": {},
   "outputs": [],
   "source": [
    "'''IMPORTS'''\n",
    "import random as rd"
   ]
  },
  {
   "cell_type": "code",
   "execution_count": 55,
   "metadata": {},
   "outputs": [],
   "source": [
    "'''FUNÇÕES'''\n",
    "\n",
    "def trem_amaldiçoado_brincadeirinha(trocar = True):\n",
    "\n",
    "    Game_over = False\n",
    "\n",
    "    Vagoes = ['Amarelo', 'Roxo', 'Verde', 'Azul', 'Vermelho']\n",
    "\n",
    "    Vagao_do_Papa = Vagoes.pop(Vagoes.index(rd.choice(Vagoes)))\n",
    "\n",
    "    Vagao_escolhido = input('Escolha o vagão de entrada: ')\n",
    "\n",
    "    if Vagao_do_Papa == Vagao_escolhido:\n",
    "        if trocar == False:\n",
    "            Game_over = True\n",
    "            Win = True\n",
    "    else:\n",
    "        if trocar == False:\n",
    "            Game_over = True\n",
    "            Win = False\n",
    "        Vagao_escolhido = Vagoes.pop(Vagoes.index(Vagao_escolhido))\n",
    "\n",
    "\n",
    "    while Game_over == False:\n",
    "\n",
    "        Vagao_amaldicoado = Vagoes.pop(Vagoes.index(rd.choice(Vagoes)))\n",
    "\n",
    "        print(Vagao_amaldicoado)\n",
    "        \n",
    "        Vagoes.append(Vagao_escolhido)\n",
    "\n",
    "        Vagao_escolhido = input('Escolha um novo vagão: ')\n",
    "\n",
    "        if Vagao_do_Papa != Vagao_escolhido:\n",
    "            Vagao_escolhido = Vagoes.pop(Vagoes.index(Vagao_escolhido))\n",
    "\n",
    "        if len(Vagoes) == 0 and Vagao_do_Papa != Vagao_escolhido:\n",
    "            Game_over = True\n",
    "            Win = False\n",
    "        elif len(Vagoes) == 0 and Vagao_do_Papa == Vagao_escolhido:\n",
    "            Game_over = True\n",
    "            Win = True\n",
    "\n",
    "\n",
    "\n",
    "    Retorno = f'O vagão do Papa era {Vagao_do_Papa} e o seu era {Vagao_escolhido}, logo você {Win}!!'\n",
    "\n",
    "    return Retorno\n",
    "\n",
    "def trem_amaldiçoado_estatistica(trocar = True):\n",
    "\n",
    "    Game_over = False\n",
    "\n",
    "    Vagoes = ['Amarelo', 'Roxo', 'Verde', 'Azul', 'Vermelho']\n",
    "\n",
    "    Vagao_escolhido = rd.choice(Vagoes)\n",
    "\n",
    "    Vagao_do_Papa = Vagoes.pop(Vagoes.index(rd.choice(Vagoes)))\n",
    "\n",
    "    #Vagao_escolhido = input('Escolha o vagão de entrada: ')\n",
    "\n",
    "    if Vagao_do_Papa == Vagao_escolhido:\n",
    "        if trocar == False:\n",
    "            Game_over = True\n",
    "            Win = True\n",
    "    else:\n",
    "        if trocar == False:\n",
    "            Game_over = True\n",
    "            Win = False\n",
    "        Vagao_escolhido = Vagoes.pop(Vagoes.index(Vagao_escolhido))\n",
    "\n",
    "\n",
    "    while Game_over == False:\n",
    "\n",
    "\n",
    "        Vagao_amaldicoado = Vagoes.pop(Vagoes.index(rd.choice(Vagoes)))\n",
    "\n",
    "        \n",
    "        Vagoes.append(Vagao_escolhido)\n",
    "        Vagoes.append(Vagao_do_Papa)\n",
    "\n",
    "        Vagao_escolhido = rd.choice(Vagoes)\n",
    "        \n",
    "        if Vagao_escolhido in Vagoes:\n",
    "            Vagoes.pop(Vagoes.index(Vagao_escolhido))\n",
    "            \n",
    "        if Vagao_do_Papa in Vagoes:\n",
    "            Vagoes.pop(Vagoes.index(Vagao_do_Papa))\n",
    "        \n",
    "\n",
    "        if len(Vagoes) == 2 and Vagao_do_Papa != Vagao_escolhido:\n",
    "            Game_over = True\n",
    "            Win = False\n",
    "            break\n",
    "        elif len(Vagoes) == 2 and Vagao_do_Papa == Vagao_escolhido:\n",
    "            Game_over = True\n",
    "            Win = True\n",
    "            break\n",
    "\n",
    "\n",
    "    return Win\n",
    "\n",
    "def grafico_barras(X, Y, titulo, X_Y, LEGENDAS_COLORS = [], LEGENDAS = [], COLORS = '#804a81', LG = False):\n",
    "    from bokeh.plotting import figure, show\n",
    "    from bokeh.io import output_notebook\n",
    "    from bokeh.models import LabelSet\n",
    "    from bokeh.models import Legend, LegendItem\n",
    "    from bokeh.layouts import row\n",
    "    from bokeh.models.annotations import LegendItem as BokehLegendItem\n",
    "    from bokeh.models.ranges import FactorRange\n",
    "    \n",
    "    output_notebook()\n",
    "\n",
    "    # Criar figura\n",
    "    p = figure(x_range=X, title=titulo, x_axis_label=X_Y[0], y_axis_label=X_Y[1])\n",
    "    \n",
    "    if LG:\n",
    "        # Criar a legenda\n",
    "        legend = Legend(items=[])\n",
    "\n",
    "        # Adicionar cada item da legenda com retângulo de cor\n",
    "        for legend_label, color in zip(LEGENDAS, LEGENDAS_COLORS):\n",
    "            # Criar o retângulo de cor\n",
    "            rect = p.rect(x=0, y=0, fill_color=color, line_color=None)\n",
    "            # Criar o item da legenda com o retângulo de cor e o rótulo\n",
    "            legend_item = BokehLegendItem(label=legend_label, renderers=[rect])\n",
    "            # Adicionar o LegendItem à legenda\n",
    "            legend.items.append(legend_item)\n",
    "\n",
    "        # Adicionar a legenda ao gráfico\n",
    "        p.add_layout(legend, 'center')\n",
    "\n",
    "    # Adicionar o gráfico de barras\n",
    "    p.vbar(x=X, top=Y, width=0.5, color=COLORS)\n",
    "    \n",
    "    p.xaxis.major_label_orientation = 0.8  # Rotacionar os rótulos em um ângulo específico (em radianos)\n",
    "\n",
    "    # Exibir o gráfico\n",
    "    show(p)\n",
    "    \n",
    "    return\n",
    "\n",
    "def grafico_pizza(data, titulo, LEGENDAS):\n",
    "\n",
    "        from bokeh.plotting import figure, show\n",
    "        from math import pi\n",
    "        import pandas as pd\n",
    "        from bokeh.palettes import Category20c\n",
    "        from bokeh.io import output_notebook\n",
    "\n",
    "\n",
    "        # Contar a quantidade de True e False\n",
    "        true_count = data.count(True)\n",
    "        false_count = data.count(False)\n",
    "\n",
    "        # Criar um DataFrame\n",
    "        data = pd.DataFrame({'value': [true_count, false_count], 'label': LEGENDAS})\n",
    "\n",
    "        # Calcular os ângulos\n",
    "        data['angle'] = data['value']/data['value'].sum() * 2*pi\n",
    "\n",
    "        # Definir as cores\n",
    "        colors = [\"red\", \"blue\", \"green\", \"yellow\"]\n",
    "        cores = []\n",
    "\n",
    "        if len(LEGENDAS) < 4:\n",
    "                for i in range(len(LEGENDAS)):\n",
    "                        cores.append(colors[i])\n",
    "        elif len(LEGENDAS) >= 4:                        \n",
    "                cores = Category20c[len(LEGENDAS)]\n",
    "                \n",
    "        data['color'] = cores\n",
    "\n",
    "        # Criar o gráfico\n",
    "        p = figure(plot_height=350, title=titulo, toolbar_location=None, tools=\"hover\", tooltips=\"@label: @value\", x_range=(-0.5, 1.0))\n",
    "\n",
    "        # Adicionar os setores\n",
    "        #p.wedge(x=0, y=1, radius=0.4, start_angle=data['angle'].shift(fill_value=0), end_angle=data['angle'], line_color=\"white\", fill_color='color', legend_field='label', source=data)\n",
    "\n",
    "        p.wedge(x=0, y=1, radius=0.4,\n",
    "                start_angle=cumsum('angle', include_zero=True), end_angle=cumsum('angle'),\n",
    "                line_color=\"white\", fill_color='color', legend_field='label', source=data)\n",
    "\n",
    "        # Remover grade e eixos\n",
    "        p.axis.axis_label = None\n",
    "        p.axis.visible = False\n",
    "        p.grid.grid_line_color = None\n",
    "\n",
    "        # Mostrar o gráfico\n",
    "        output_notebook()\n",
    "        show(p)\n",
    "        \n",
    "        return\n",
    "\n"
   ]
  },
  {
   "cell_type": "markdown",
   "metadata": {},
   "source": [
    "Agora vamos fazer o seguinte, rodaremos o codigo  10 mil vezes com o opção <kbd>`trocar = True`</kbd> e 10 mil vezes <kbd>`trocar = False`</kbd>, assim podendo ver na pratica o que aconteceria antes de olharmos a teoria.\n"
   ]
  },
  {
   "cell_type": "code",
   "execution_count": 56,
   "metadata": {},
   "outputs": [],
   "source": [
    "'''Script'''\n",
    "Sem_trocar = []\n",
    "Trocando = []\n",
    "\n",
    "for _ in range(10000):\n",
    "    Sem_trocar.append(trem_amaldiçoado_estatistica(trocar=False))\n",
    "    Trocando.append(trem_amaldiçoado_estatistica())"
   ]
  },
  {
   "cell_type": "code",
   "execution_count": 57,
   "metadata": {},
   "outputs": [
    {
     "data": {
      "text/html": [
       "<div class=\"bk-root\">\n",
       "        <a href=\"https://bokeh.org\" target=\"_blank\" class=\"bk-logo bk-logo-small bk-logo-notebook\"></a>\n",
       "        <span id=\"3081\">Loading BokehJS ...</span>\n",
       "    </div>\n"
      ]
     },
     "metadata": {},
     "output_type": "display_data"
    },
    {
     "data": {
      "application/javascript": "(function(root) {\n  function now() {\n    return new Date();\n  }\n\n  const force = true;\n\n  if (typeof root._bokeh_onload_callbacks === \"undefined\" || force === true) {\n    root._bokeh_onload_callbacks = [];\n    root._bokeh_is_loading = undefined;\n  }\n\nconst JS_MIME_TYPE = 'application/javascript';\n  const HTML_MIME_TYPE = 'text/html';\n  const EXEC_MIME_TYPE = 'application/vnd.bokehjs_exec.v0+json';\n  const CLASS_NAME = 'output_bokeh rendered_html';\n\n  /**\n   * Render data to the DOM node\n   */\n  function render(props, node) {\n    const script = document.createElement(\"script\");\n    node.appendChild(script);\n  }\n\n  /**\n   * Handle when an output is cleared or removed\n   */\n  function handleClearOutput(event, handle) {\n    const cell = handle.cell;\n\n    const id = cell.output_area._bokeh_element_id;\n    const server_id = cell.output_area._bokeh_server_id;\n    // Clean up Bokeh references\n    if (id != null && id in Bokeh.index) {\n      Bokeh.index[id].model.document.clear();\n      delete Bokeh.index[id];\n    }\n\n    if (server_id !== undefined) {\n      // Clean up Bokeh references\n      const cmd_clean = \"from bokeh.io.state import curstate; print(curstate().uuid_to_server['\" + server_id + \"'].get_sessions()[0].document.roots[0]._id)\";\n      cell.notebook.kernel.execute(cmd_clean, {\n        iopub: {\n          output: function(msg) {\n            const id = msg.content.text.trim();\n            if (id in Bokeh.index) {\n              Bokeh.index[id].model.document.clear();\n              delete Bokeh.index[id];\n            }\n          }\n        }\n      });\n      // Destroy server and session\n      const cmd_destroy = \"import bokeh.io.notebook as ion; ion.destroy_server('\" + server_id + \"')\";\n      cell.notebook.kernel.execute(cmd_destroy);\n    }\n  }\n\n  /**\n   * Handle when a new output is added\n   */\n  function handleAddOutput(event, handle) {\n    const output_area = handle.output_area;\n    const output = handle.output;\n\n    // limit handleAddOutput to display_data with EXEC_MIME_TYPE content only\n    if ((output.output_type != \"display_data\") || (!Object.prototype.hasOwnProperty.call(output.data, EXEC_MIME_TYPE))) {\n      return\n    }\n\n    const toinsert = output_area.element.find(\".\" + CLASS_NAME.split(' ')[0]);\n\n    if (output.metadata[EXEC_MIME_TYPE][\"id\"] !== undefined) {\n      toinsert[toinsert.length - 1].firstChild.textContent = output.data[JS_MIME_TYPE];\n      // store reference to embed id on output_area\n      output_area._bokeh_element_id = output.metadata[EXEC_MIME_TYPE][\"id\"];\n    }\n    if (output.metadata[EXEC_MIME_TYPE][\"server_id\"] !== undefined) {\n      const bk_div = document.createElement(\"div\");\n      bk_div.innerHTML = output.data[HTML_MIME_TYPE];\n      const script_attrs = bk_div.children[0].attributes;\n      for (let i = 0; i < script_attrs.length; i++) {\n        toinsert[toinsert.length - 1].firstChild.setAttribute(script_attrs[i].name, script_attrs[i].value);\n        toinsert[toinsert.length - 1].firstChild.textContent = bk_div.children[0].textContent\n      }\n      // store reference to server id on output_area\n      output_area._bokeh_server_id = output.metadata[EXEC_MIME_TYPE][\"server_id\"];\n    }\n  }\n\n  function register_renderer(events, OutputArea) {\n\n    function append_mime(data, metadata, element) {\n      // create a DOM node to render to\n      const toinsert = this.create_output_subarea(\n        metadata,\n        CLASS_NAME,\n        EXEC_MIME_TYPE\n      );\n      this.keyboard_manager.register_events(toinsert);\n      // Render to node\n      const props = {data: data, metadata: metadata[EXEC_MIME_TYPE]};\n      render(props, toinsert[toinsert.length - 1]);\n      element.append(toinsert);\n      return toinsert\n    }\n\n    /* Handle when an output is cleared or removed */\n    events.on('clear_output.CodeCell', handleClearOutput);\n    events.on('delete.Cell', handleClearOutput);\n\n    /* Handle when a new output is added */\n    events.on('output_added.OutputArea', handleAddOutput);\n\n    /**\n     * Register the mime type and append_mime function with output_area\n     */\n    OutputArea.prototype.register_mime_type(EXEC_MIME_TYPE, append_mime, {\n      /* Is output safe? */\n      safe: true,\n      /* Index of renderer in `output_area.display_order` */\n      index: 0\n    });\n  }\n\n  // register the mime type if in Jupyter Notebook environment and previously unregistered\n  if (root.Jupyter !== undefined) {\n    const events = require('base/js/events');\n    const OutputArea = require('notebook/js/outputarea').OutputArea;\n\n    if (OutputArea.prototype.mime_types().indexOf(EXEC_MIME_TYPE) == -1) {\n      register_renderer(events, OutputArea);\n    }\n  }\n  if (typeof (root._bokeh_timeout) === \"undefined\" || force === true) {\n    root._bokeh_timeout = Date.now() + 5000;\n    root._bokeh_failed_load = false;\n  }\n\n  const NB_LOAD_WARNING = {'data': {'text/html':\n     \"<div style='background-color: #fdd'>\\n\"+\n     \"<p>\\n\"+\n     \"BokehJS does not appear to have successfully loaded. If loading BokehJS from CDN, this \\n\"+\n     \"may be due to a slow or bad network connection. Possible fixes:\\n\"+\n     \"</p>\\n\"+\n     \"<ul>\\n\"+\n     \"<li>re-rerun `output_notebook()` to attempt to load from CDN again, or</li>\\n\"+\n     \"<li>use INLINE resources instead, as so:</li>\\n\"+\n     \"</ul>\\n\"+\n     \"<code>\\n\"+\n     \"from bokeh.resources import INLINE\\n\"+\n     \"output_notebook(resources=INLINE)\\n\"+\n     \"</code>\\n\"+\n     \"</div>\"}};\n\n  function display_loaded() {\n    const el = document.getElementById(\"3081\");\n    if (el != null) {\n      el.textContent = \"BokehJS is loading...\";\n    }\n    if (root.Bokeh !== undefined) {\n      if (el != null) {\n        el.textContent = \"BokehJS \" + root.Bokeh.version + \" successfully loaded.\";\n      }\n    } else if (Date.now() < root._bokeh_timeout) {\n      setTimeout(display_loaded, 100)\n    }\n  }\n\n  function run_callbacks() {\n    try {\n      root._bokeh_onload_callbacks.forEach(function(callback) {\n        if (callback != null)\n          callback();\n      });\n    } finally {\n      delete root._bokeh_onload_callbacks\n    }\n    console.debug(\"Bokeh: all callbacks have finished\");\n  }\n\n  function load_libs(css_urls, js_urls, callback) {\n    if (css_urls == null) css_urls = [];\n    if (js_urls == null) js_urls = [];\n\n    root._bokeh_onload_callbacks.push(callback);\n    if (root._bokeh_is_loading > 0) {\n      console.debug(\"Bokeh: BokehJS is being loaded, scheduling callback at\", now());\n      return null;\n    }\n    if (js_urls == null || js_urls.length === 0) {\n      run_callbacks();\n      return null;\n    }\n    console.debug(\"Bokeh: BokehJS not loaded, scheduling load and callback at\", now());\n    root._bokeh_is_loading = css_urls.length + js_urls.length;\n\n    function on_load() {\n      root._bokeh_is_loading--;\n      if (root._bokeh_is_loading === 0) {\n        console.debug(\"Bokeh: all BokehJS libraries/stylesheets loaded\");\n        run_callbacks()\n      }\n    }\n\n    function on_error(url) {\n      console.error(\"failed to load \" + url);\n    }\n\n    for (let i = 0; i < css_urls.length; i++) {\n      const url = css_urls[i];\n      const element = document.createElement(\"link\");\n      element.onload = on_load;\n      element.onerror = on_error.bind(null, url);\n      element.rel = \"stylesheet\";\n      element.type = \"text/css\";\n      element.href = url;\n      console.debug(\"Bokeh: injecting link tag for BokehJS stylesheet: \", url);\n      document.body.appendChild(element);\n    }\n\n    for (let i = 0; i < js_urls.length; i++) {\n      const url = js_urls[i];\n      const element = document.createElement('script');\n      element.onload = on_load;\n      element.onerror = on_error.bind(null, url);\n      element.async = false;\n      element.src = url;\n      console.debug(\"Bokeh: injecting script tag for BokehJS library: \", url);\n      document.head.appendChild(element);\n    }\n  };\n\n  function inject_raw_css(css) {\n    const element = document.createElement(\"style\");\n    element.appendChild(document.createTextNode(css));\n    document.body.appendChild(element);\n  }\n\n  const js_urls = [\"https://cdn.bokeh.org/bokeh/release/bokeh-2.4.3.min.js\", \"https://cdn.bokeh.org/bokeh/release/bokeh-gl-2.4.3.min.js\", \"https://cdn.bokeh.org/bokeh/release/bokeh-widgets-2.4.3.min.js\", \"https://cdn.bokeh.org/bokeh/release/bokeh-tables-2.4.3.min.js\", \"https://cdn.bokeh.org/bokeh/release/bokeh-mathjax-2.4.3.min.js\"];\n  const css_urls = [];\n\n  const inline_js = [    function(Bokeh) {\n      Bokeh.set_log_level(\"info\");\n    },\nfunction(Bokeh) {\n    }\n  ];\n\n  function run_inline_js() {\n    if (root.Bokeh !== undefined || force === true) {\n          for (let i = 0; i < inline_js.length; i++) {\n      inline_js[i].call(root, root.Bokeh);\n    }\nif (force === true) {\n        display_loaded();\n      }} else if (Date.now() < root._bokeh_timeout) {\n      setTimeout(run_inline_js, 100);\n    } else if (!root._bokeh_failed_load) {\n      console.log(\"Bokeh: BokehJS failed to load within specified timeout.\");\n      root._bokeh_failed_load = true;\n    } else if (force !== true) {\n      const cell = $(document.getElementById(\"3081\")).parents('.cell').data().cell;\n      cell.output_area.append_execute_result(NB_LOAD_WARNING)\n    }\n  }\n\n  if (root._bokeh_is_loading === 0) {\n    console.debug(\"Bokeh: BokehJS loaded, going straight to plotting\");\n    run_inline_js();\n  } else {\n    load_libs(css_urls, js_urls, function() {\n      console.debug(\"Bokeh: BokehJS plotting callback run at\", now());\n      run_inline_js();\n    });\n  }\n}(window));",
      "application/vnd.bokehjs_load.v0+json": ""
     },
     "metadata": {},
     "output_type": "display_data"
    },
    {
     "data": {
      "text/html": [
       "\n",
       "  <div class=\"bk-root\" id=\"1bd86d1c-c1f7-4116-8d3d-199a92ba079d\" data-root-id=\"3039\"></div>\n"
      ]
     },
     "metadata": {},
     "output_type": "display_data"
    },
    {
     "data": {
      "application/javascript": "(function(root) {\n  function embed_document(root) {\n  const docs_json = {\"b5a49381-53f0-495f-8503-1c5bad560b2f\":{\"defs\":[],\"roots\":{\"references\":[{\"attributes\":{\"below\":[{\"id\":\"3050\"}],\"center\":[{\"id\":\"3053\"},{\"id\":\"3057\"},{\"id\":\"3079\"}],\"height\":350,\"left\":[{\"id\":\"3054\"}],\"renderers\":[{\"id\":\"3068\"}],\"title\":{\"id\":\"3040\"},\"toolbar\":{\"id\":\"3059\"},\"toolbar_location\":null,\"x_range\":{\"id\":\"3042\"},\"x_scale\":{\"id\":\"3046\"},\"y_range\":{\"id\":\"3044\"},\"y_scale\":{\"id\":\"3048\"}},\"id\":\"3039\",\"subtype\":\"Figure\",\"type\":\"Plot\"},{\"attributes\":{},\"id\":\"3076\",\"type\":\"AllLabels\"},{\"attributes\":{},\"id\":\"3073\",\"type\":\"AllLabels\"},{\"attributes\":{},\"id\":\"3044\",\"type\":\"DataRange1d\"},{\"attributes\":{\"coordinates\":null,\"group\":null,\"items\":[{\"id\":\"3080\"}]},\"id\":\"3079\",\"type\":\"Legend\"},{\"attributes\":{\"tools\":[{\"id\":\"3058\"}]},\"id\":\"3059\",\"type\":\"Toolbar\"},{\"attributes\":{\"source\":{\"id\":\"3063\"}},\"id\":\"3069\",\"type\":\"CDSView\"},{\"attributes\":{},\"id\":\"3078\",\"type\":\"Selection\"},{\"attributes\":{\"field\":\"angle\",\"include_zero\":true},\"id\":\"3061\",\"type\":\"CumSum\"},{\"attributes\":{\"start\":-0.5},\"id\":\"3042\",\"type\":\"Range1d\"},{\"attributes\":{},\"id\":\"3048\",\"type\":\"LinearScale\"},{\"attributes\":{\"axis\":{\"id\":\"3054\"},\"coordinates\":null,\"dimension\":1,\"grid_line_color\":null,\"group\":null,\"ticker\":null},\"id\":\"3057\",\"type\":\"Grid\"},{\"attributes\":{},\"id\":\"3077\",\"type\":\"UnionRenderers\"},{\"attributes\":{\"label\":{\"field\":\"label\"},\"renderers\":[{\"id\":\"3068\"}]},\"id\":\"3080\",\"type\":\"LegendItem\"},{\"attributes\":{\"coordinates\":null,\"formatter\":{\"id\":\"3075\"},\"group\":null,\"major_label_policy\":{\"id\":\"3076\"},\"ticker\":{\"id\":\"3051\"},\"visible\":false},\"id\":\"3050\",\"type\":\"LinearAxis\"},{\"attributes\":{\"callback\":null,\"tooltips\":\"@label: @value\"},\"id\":\"3058\",\"type\":\"HoverTool\"},{\"attributes\":{\"coordinates\":null,\"formatter\":{\"id\":\"3072\"},\"group\":null,\"major_label_policy\":{\"id\":\"3073\"},\"ticker\":{\"id\":\"3055\"},\"visible\":false},\"id\":\"3054\",\"type\":\"LinearAxis\"},{\"attributes\":{\"coordinates\":null,\"data_source\":{\"id\":\"3063\"},\"glyph\":{\"id\":\"3065\"},\"group\":null,\"hover_glyph\":null,\"muted_glyph\":{\"id\":\"3067\"},\"nonselection_glyph\":{\"id\":\"3066\"},\"view\":{\"id\":\"3069\"}},\"id\":\"3068\",\"type\":\"GlyphRenderer\"},{\"attributes\":{\"axis\":{\"id\":\"3050\"},\"coordinates\":null,\"grid_line_color\":null,\"group\":null,\"ticker\":null},\"id\":\"3053\",\"type\":\"Grid\"},{\"attributes\":{\"end_angle\":{\"expr\":{\"id\":\"3062\"}},\"fill_alpha\":{\"value\":0.2},\"fill_color\":{\"field\":\"color\"},\"hatch_alpha\":{\"value\":0.2},\"line_alpha\":{\"value\":0.2},\"line_color\":{\"value\":\"white\"},\"radius\":{\"value\":0.4},\"start_angle\":{\"expr\":{\"id\":\"3061\"}},\"x\":{\"value\":0},\"y\":{\"value\":1}},\"id\":\"3067\",\"type\":\"Wedge\"},{\"attributes\":{\"data\":{\"angle\":{\"__ndarray__\":\"T68CGTtR9D9FgQOOrA0UQA==\",\"dtype\":\"float64\",\"order\":\"little\",\"shape\":[2]},\"color\":[\"red\",\"blue\"],\"index\":[0,1],\"label\":[\"True\",\"False\"],\"value\":[2021,7979]},\"selected\":{\"id\":\"3078\"},\"selection_policy\":{\"id\":\"3077\"}},\"id\":\"3063\",\"type\":\"ColumnDataSource\"},{\"attributes\":{},\"id\":\"3055\",\"type\":\"BasicTicker\"},{\"attributes\":{\"coordinates\":null,\"group\":null,\"text\":\"teste\"},\"id\":\"3040\",\"type\":\"Title\"},{\"attributes\":{},\"id\":\"3051\",\"type\":\"BasicTicker\"},{\"attributes\":{\"end_angle\":{\"expr\":{\"id\":\"3062\"}},\"fill_alpha\":{\"value\":0.1},\"fill_color\":{\"field\":\"color\"},\"hatch_alpha\":{\"value\":0.1},\"line_alpha\":{\"value\":0.1},\"line_color\":{\"value\":\"white\"},\"radius\":{\"value\":0.4},\"start_angle\":{\"expr\":{\"id\":\"3061\"}},\"x\":{\"value\":0},\"y\":{\"value\":1}},\"id\":\"3066\",\"type\":\"Wedge\"},{\"attributes\":{},\"id\":\"3046\",\"type\":\"LinearScale\"},{\"attributes\":{},\"id\":\"3075\",\"type\":\"BasicTickFormatter\"},{\"attributes\":{\"field\":\"angle\"},\"id\":\"3062\",\"type\":\"CumSum\"},{\"attributes\":{},\"id\":\"3072\",\"type\":\"BasicTickFormatter\"},{\"attributes\":{\"end_angle\":{\"expr\":{\"id\":\"3062\"}},\"fill_color\":{\"field\":\"color\"},\"line_color\":{\"value\":\"white\"},\"radius\":{\"value\":0.4},\"start_angle\":{\"expr\":{\"id\":\"3061\"}},\"x\":{\"value\":0},\"y\":{\"value\":1}},\"id\":\"3065\",\"type\":\"Wedge\"}],\"root_ids\":[\"3039\"]},\"title\":\"Bokeh Application\",\"version\":\"2.4.3\"}};\n  const render_items = [{\"docid\":\"b5a49381-53f0-495f-8503-1c5bad560b2f\",\"root_ids\":[\"3039\"],\"roots\":{\"3039\":\"1bd86d1c-c1f7-4116-8d3d-199a92ba079d\"}}];\n  root.Bokeh.embed.embed_items_notebook(docs_json, render_items);\n  }\n  if (root.Bokeh !== undefined) {\n    embed_document(root);\n  } else {\n    let attempts = 0;\n    const timer = setInterval(function(root) {\n      if (root.Bokeh !== undefined) {\n        clearInterval(timer);\n        embed_document(root);\n      } else {\n        attempts++;\n        if (attempts > 100) {\n          clearInterval(timer);\n          console.log(\"Bokeh: ERROR: Unable to run BokehJS code because BokehJS library is missing\");\n        }\n      }\n    }, 10, root)\n  }\n})(window);",
      "application/vnd.bokehjs_exec.v0+json": ""
     },
     "metadata": {
      "application/vnd.bokehjs_exec.v0+json": {
       "id": "3039"
      }
     },
     "output_type": "display_data"
    }
   ],
   "source": [
    "grafico_pizza(Sem_trocar, 'teste', ['True', 'False'])"
   ]
  },
  {
   "cell_type": "code",
   "execution_count": 58,
   "metadata": {},
   "outputs": [
    {
     "data": {
      "text/html": [
       "<div class=\"bk-root\">\n",
       "        <a href=\"https://bokeh.org\" target=\"_blank\" class=\"bk-logo bk-logo-small bk-logo-notebook\"></a>\n",
       "        <span id=\"3295\">Loading BokehJS ...</span>\n",
       "    </div>\n"
      ]
     },
     "metadata": {},
     "output_type": "display_data"
    },
    {
     "data": {
      "application/javascript": "(function(root) {\n  function now() {\n    return new Date();\n  }\n\n  const force = true;\n\n  if (typeof root._bokeh_onload_callbacks === \"undefined\" || force === true) {\n    root._bokeh_onload_callbacks = [];\n    root._bokeh_is_loading = undefined;\n  }\n\nconst JS_MIME_TYPE = 'application/javascript';\n  const HTML_MIME_TYPE = 'text/html';\n  const EXEC_MIME_TYPE = 'application/vnd.bokehjs_exec.v0+json';\n  const CLASS_NAME = 'output_bokeh rendered_html';\n\n  /**\n   * Render data to the DOM node\n   */\n  function render(props, node) {\n    const script = document.createElement(\"script\");\n    node.appendChild(script);\n  }\n\n  /**\n   * Handle when an output is cleared or removed\n   */\n  function handleClearOutput(event, handle) {\n    const cell = handle.cell;\n\n    const id = cell.output_area._bokeh_element_id;\n    const server_id = cell.output_area._bokeh_server_id;\n    // Clean up Bokeh references\n    if (id != null && id in Bokeh.index) {\n      Bokeh.index[id].model.document.clear();\n      delete Bokeh.index[id];\n    }\n\n    if (server_id !== undefined) {\n      // Clean up Bokeh references\n      const cmd_clean = \"from bokeh.io.state import curstate; print(curstate().uuid_to_server['\" + server_id + \"'].get_sessions()[0].document.roots[0]._id)\";\n      cell.notebook.kernel.execute(cmd_clean, {\n        iopub: {\n          output: function(msg) {\n            const id = msg.content.text.trim();\n            if (id in Bokeh.index) {\n              Bokeh.index[id].model.document.clear();\n              delete Bokeh.index[id];\n            }\n          }\n        }\n      });\n      // Destroy server and session\n      const cmd_destroy = \"import bokeh.io.notebook as ion; ion.destroy_server('\" + server_id + \"')\";\n      cell.notebook.kernel.execute(cmd_destroy);\n    }\n  }\n\n  /**\n   * Handle when a new output is added\n   */\n  function handleAddOutput(event, handle) {\n    const output_area = handle.output_area;\n    const output = handle.output;\n\n    // limit handleAddOutput to display_data with EXEC_MIME_TYPE content only\n    if ((output.output_type != \"display_data\") || (!Object.prototype.hasOwnProperty.call(output.data, EXEC_MIME_TYPE))) {\n      return\n    }\n\n    const toinsert = output_area.element.find(\".\" + CLASS_NAME.split(' ')[0]);\n\n    if (output.metadata[EXEC_MIME_TYPE][\"id\"] !== undefined) {\n      toinsert[toinsert.length - 1].firstChild.textContent = output.data[JS_MIME_TYPE];\n      // store reference to embed id on output_area\n      output_area._bokeh_element_id = output.metadata[EXEC_MIME_TYPE][\"id\"];\n    }\n    if (output.metadata[EXEC_MIME_TYPE][\"server_id\"] !== undefined) {\n      const bk_div = document.createElement(\"div\");\n      bk_div.innerHTML = output.data[HTML_MIME_TYPE];\n      const script_attrs = bk_div.children[0].attributes;\n      for (let i = 0; i < script_attrs.length; i++) {\n        toinsert[toinsert.length - 1].firstChild.setAttribute(script_attrs[i].name, script_attrs[i].value);\n        toinsert[toinsert.length - 1].firstChild.textContent = bk_div.children[0].textContent\n      }\n      // store reference to server id on output_area\n      output_area._bokeh_server_id = output.metadata[EXEC_MIME_TYPE][\"server_id\"];\n    }\n  }\n\n  function register_renderer(events, OutputArea) {\n\n    function append_mime(data, metadata, element) {\n      // create a DOM node to render to\n      const toinsert = this.create_output_subarea(\n        metadata,\n        CLASS_NAME,\n        EXEC_MIME_TYPE\n      );\n      this.keyboard_manager.register_events(toinsert);\n      // Render to node\n      const props = {data: data, metadata: metadata[EXEC_MIME_TYPE]};\n      render(props, toinsert[toinsert.length - 1]);\n      element.append(toinsert);\n      return toinsert\n    }\n\n    /* Handle when an output is cleared or removed */\n    events.on('clear_output.CodeCell', handleClearOutput);\n    events.on('delete.Cell', handleClearOutput);\n\n    /* Handle when a new output is added */\n    events.on('output_added.OutputArea', handleAddOutput);\n\n    /**\n     * Register the mime type and append_mime function with output_area\n     */\n    OutputArea.prototype.register_mime_type(EXEC_MIME_TYPE, append_mime, {\n      /* Is output safe? */\n      safe: true,\n      /* Index of renderer in `output_area.display_order` */\n      index: 0\n    });\n  }\n\n  // register the mime type if in Jupyter Notebook environment and previously unregistered\n  if (root.Jupyter !== undefined) {\n    const events = require('base/js/events');\n    const OutputArea = require('notebook/js/outputarea').OutputArea;\n\n    if (OutputArea.prototype.mime_types().indexOf(EXEC_MIME_TYPE) == -1) {\n      register_renderer(events, OutputArea);\n    }\n  }\n  if (typeof (root._bokeh_timeout) === \"undefined\" || force === true) {\n    root._bokeh_timeout = Date.now() + 5000;\n    root._bokeh_failed_load = false;\n  }\n\n  const NB_LOAD_WARNING = {'data': {'text/html':\n     \"<div style='background-color: #fdd'>\\n\"+\n     \"<p>\\n\"+\n     \"BokehJS does not appear to have successfully loaded. If loading BokehJS from CDN, this \\n\"+\n     \"may be due to a slow or bad network connection. Possible fixes:\\n\"+\n     \"</p>\\n\"+\n     \"<ul>\\n\"+\n     \"<li>re-rerun `output_notebook()` to attempt to load from CDN again, or</li>\\n\"+\n     \"<li>use INLINE resources instead, as so:</li>\\n\"+\n     \"</ul>\\n\"+\n     \"<code>\\n\"+\n     \"from bokeh.resources import INLINE\\n\"+\n     \"output_notebook(resources=INLINE)\\n\"+\n     \"</code>\\n\"+\n     \"</div>\"}};\n\n  function display_loaded() {\n    const el = document.getElementById(\"3295\");\n    if (el != null) {\n      el.textContent = \"BokehJS is loading...\";\n    }\n    if (root.Bokeh !== undefined) {\n      if (el != null) {\n        el.textContent = \"BokehJS \" + root.Bokeh.version + \" successfully loaded.\";\n      }\n    } else if (Date.now() < root._bokeh_timeout) {\n      setTimeout(display_loaded, 100)\n    }\n  }\n\n  function run_callbacks() {\n    try {\n      root._bokeh_onload_callbacks.forEach(function(callback) {\n        if (callback != null)\n          callback();\n      });\n    } finally {\n      delete root._bokeh_onload_callbacks\n    }\n    console.debug(\"Bokeh: all callbacks have finished\");\n  }\n\n  function load_libs(css_urls, js_urls, callback) {\n    if (css_urls == null) css_urls = [];\n    if (js_urls == null) js_urls = [];\n\n    root._bokeh_onload_callbacks.push(callback);\n    if (root._bokeh_is_loading > 0) {\n      console.debug(\"Bokeh: BokehJS is being loaded, scheduling callback at\", now());\n      return null;\n    }\n    if (js_urls == null || js_urls.length === 0) {\n      run_callbacks();\n      return null;\n    }\n    console.debug(\"Bokeh: BokehJS not loaded, scheduling load and callback at\", now());\n    root._bokeh_is_loading = css_urls.length + js_urls.length;\n\n    function on_load() {\n      root._bokeh_is_loading--;\n      if (root._bokeh_is_loading === 0) {\n        console.debug(\"Bokeh: all BokehJS libraries/stylesheets loaded\");\n        run_callbacks()\n      }\n    }\n\n    function on_error(url) {\n      console.error(\"failed to load \" + url);\n    }\n\n    for (let i = 0; i < css_urls.length; i++) {\n      const url = css_urls[i];\n      const element = document.createElement(\"link\");\n      element.onload = on_load;\n      element.onerror = on_error.bind(null, url);\n      element.rel = \"stylesheet\";\n      element.type = \"text/css\";\n      element.href = url;\n      console.debug(\"Bokeh: injecting link tag for BokehJS stylesheet: \", url);\n      document.body.appendChild(element);\n    }\n\n    for (let i = 0; i < js_urls.length; i++) {\n      const url = js_urls[i];\n      const element = document.createElement('script');\n      element.onload = on_load;\n      element.onerror = on_error.bind(null, url);\n      element.async = false;\n      element.src = url;\n      console.debug(\"Bokeh: injecting script tag for BokehJS library: \", url);\n      document.head.appendChild(element);\n    }\n  };\n\n  function inject_raw_css(css) {\n    const element = document.createElement(\"style\");\n    element.appendChild(document.createTextNode(css));\n    document.body.appendChild(element);\n  }\n\n  const js_urls = [\"https://cdn.bokeh.org/bokeh/release/bokeh-2.4.3.min.js\", \"https://cdn.bokeh.org/bokeh/release/bokeh-gl-2.4.3.min.js\", \"https://cdn.bokeh.org/bokeh/release/bokeh-widgets-2.4.3.min.js\", \"https://cdn.bokeh.org/bokeh/release/bokeh-tables-2.4.3.min.js\", \"https://cdn.bokeh.org/bokeh/release/bokeh-mathjax-2.4.3.min.js\"];\n  const css_urls = [];\n\n  const inline_js = [    function(Bokeh) {\n      Bokeh.set_log_level(\"info\");\n    },\nfunction(Bokeh) {\n    }\n  ];\n\n  function run_inline_js() {\n    if (root.Bokeh !== undefined || force === true) {\n          for (let i = 0; i < inline_js.length; i++) {\n      inline_js[i].call(root, root.Bokeh);\n    }\nif (force === true) {\n        display_loaded();\n      }} else if (Date.now() < root._bokeh_timeout) {\n      setTimeout(run_inline_js, 100);\n    } else if (!root._bokeh_failed_load) {\n      console.log(\"Bokeh: BokehJS failed to load within specified timeout.\");\n      root._bokeh_failed_load = true;\n    } else if (force !== true) {\n      const cell = $(document.getElementById(\"3295\")).parents('.cell').data().cell;\n      cell.output_area.append_execute_result(NB_LOAD_WARNING)\n    }\n  }\n\n  if (root._bokeh_is_loading === 0) {\n    console.debug(\"Bokeh: BokehJS loaded, going straight to plotting\");\n    run_inline_js();\n  } else {\n    load_libs(css_urls, js_urls, function() {\n      console.debug(\"Bokeh: BokehJS plotting callback run at\", now());\n      run_inline_js();\n    });\n  }\n}(window));",
      "application/vnd.bokehjs_load.v0+json": ""
     },
     "metadata": {},
     "output_type": "display_data"
    },
    {
     "data": {
      "text/html": [
       "\n",
       "  <div class=\"bk-root\" id=\"db738921-aefe-41c0-9fa5-4683de691025\" data-root-id=\"3253\"></div>\n"
      ]
     },
     "metadata": {},
     "output_type": "display_data"
    },
    {
     "data": {
      "application/javascript": "(function(root) {\n  function embed_document(root) {\n  const docs_json = {\"bf60986c-41e6-45d8-8fc0-8c4c4f118ec4\":{\"defs\":[],\"roots\":{\"references\":[{\"attributes\":{\"below\":[{\"id\":\"3264\"}],\"center\":[{\"id\":\"3267\"},{\"id\":\"3271\"},{\"id\":\"3293\"}],\"height\":350,\"left\":[{\"id\":\"3268\"}],\"renderers\":[{\"id\":\"3282\"}],\"title\":{\"id\":\"3254\"},\"toolbar\":{\"id\":\"3273\"},\"toolbar_location\":null,\"x_range\":{\"id\":\"3256\"},\"x_scale\":{\"id\":\"3260\"},\"y_range\":{\"id\":\"3258\"},\"y_scale\":{\"id\":\"3262\"}},\"id\":\"3253\",\"subtype\":\"Figure\",\"type\":\"Plot\"},{\"attributes\":{\"end_angle\":{\"expr\":{\"id\":\"3276\"}},\"fill_alpha\":{\"value\":0.2},\"fill_color\":{\"field\":\"color\"},\"hatch_alpha\":{\"value\":0.2},\"line_alpha\":{\"value\":0.2},\"line_color\":{\"value\":\"white\"},\"radius\":{\"value\":0.4},\"start_angle\":{\"expr\":{\"id\":\"3275\"}},\"x\":{\"value\":0},\"y\":{\"value\":1}},\"id\":\"3281\",\"type\":\"Wedge\"},{\"attributes\":{},\"id\":\"3290\",\"type\":\"AllLabels\"},{\"attributes\":{\"coordinates\":null,\"group\":null,\"items\":[{\"id\":\"3294\"}]},\"id\":\"3293\",\"type\":\"Legend\"},{\"attributes\":{},\"id\":\"3260\",\"type\":\"LinearScale\"},{\"attributes\":{\"label\":{\"field\":\"label\"},\"renderers\":[{\"id\":\"3282\"}]},\"id\":\"3294\",\"type\":\"LegendItem\"},{\"attributes\":{\"coordinates\":null,\"group\":null,\"text\":\"teste\"},\"id\":\"3254\",\"type\":\"Title\"},{\"attributes\":{\"field\":\"angle\"},\"id\":\"3276\",\"type\":\"CumSum\"},{\"attributes\":{\"source\":{\"id\":\"3277\"}},\"id\":\"3283\",\"type\":\"CDSView\"},{\"attributes\":{},\"id\":\"3258\",\"type\":\"DataRange1d\"},{\"attributes\":{\"coordinates\":null,\"data_source\":{\"id\":\"3277\"},\"glyph\":{\"id\":\"3279\"},\"group\":null,\"hover_glyph\":null,\"muted_glyph\":{\"id\":\"3281\"},\"nonselection_glyph\":{\"id\":\"3280\"},\"view\":{\"id\":\"3283\"}},\"id\":\"3282\",\"type\":\"GlyphRenderer\"},{\"attributes\":{},\"id\":\"3262\",\"type\":\"LinearScale\"},{\"attributes\":{},\"id\":\"3291\",\"type\":\"UnionRenderers\"},{\"attributes\":{},\"id\":\"3265\",\"type\":\"BasicTicker\"},{\"attributes\":{\"coordinates\":null,\"formatter\":{\"id\":\"3286\"},\"group\":null,\"major_label_policy\":{\"id\":\"3287\"},\"ticker\":{\"id\":\"3269\"},\"visible\":false},\"id\":\"3268\",\"type\":\"LinearAxis\"},{\"attributes\":{},\"id\":\"3292\",\"type\":\"Selection\"},{\"attributes\":{\"field\":\"angle\",\"include_zero\":true},\"id\":\"3275\",\"type\":\"CumSum\"},{\"attributes\":{\"axis\":{\"id\":\"3268\"},\"coordinates\":null,\"dimension\":1,\"grid_line_color\":null,\"group\":null,\"ticker\":null},\"id\":\"3271\",\"type\":\"Grid\"},{\"attributes\":{},\"id\":\"3269\",\"type\":\"BasicTicker\"},{\"attributes\":{\"end_angle\":{\"expr\":{\"id\":\"3276\"}},\"fill_color\":{\"field\":\"color\"},\"line_color\":{\"value\":\"white\"},\"radius\":{\"value\":0.4},\"start_angle\":{\"expr\":{\"id\":\"3275\"}},\"x\":{\"value\":0},\"y\":{\"value\":1}},\"id\":\"3279\",\"type\":\"Wedge\"},{\"attributes\":{\"callback\":null,\"tooltips\":\"@label: @value\"},\"id\":\"3272\",\"type\":\"HoverTool\"},{\"attributes\":{\"coordinates\":null,\"formatter\":{\"id\":\"3289\"},\"group\":null,\"major_label_policy\":{\"id\":\"3290\"},\"ticker\":{\"id\":\"3265\"},\"visible\":false},\"id\":\"3264\",\"type\":\"LinearAxis\"},{\"attributes\":{\"start\":-0.5},\"id\":\"3256\",\"type\":\"Range1d\"},{\"attributes\":{\"data\":{\"angle\":{\"__ndarray__\":\"fX8PTkeM8j85TcCA6X4UQA==\",\"dtype\":\"float64\",\"order\":\"little\",\"shape\":[2]},\"color\":[\"red\",\"blue\"],\"index\":[0,1],\"label\":[\"True\",\"False\"],\"value\":[1845,8155]},\"selected\":{\"id\":\"3292\"},\"selection_policy\":{\"id\":\"3291\"}},\"id\":\"3277\",\"type\":\"ColumnDataSource\"},{\"attributes\":{\"tools\":[{\"id\":\"3272\"}]},\"id\":\"3273\",\"type\":\"Toolbar\"},{\"attributes\":{},\"id\":\"3286\",\"type\":\"BasicTickFormatter\"},{\"attributes\":{\"axis\":{\"id\":\"3264\"},\"coordinates\":null,\"grid_line_color\":null,\"group\":null,\"ticker\":null},\"id\":\"3267\",\"type\":\"Grid\"},{\"attributes\":{\"end_angle\":{\"expr\":{\"id\":\"3276\"}},\"fill_alpha\":{\"value\":0.1},\"fill_color\":{\"field\":\"color\"},\"hatch_alpha\":{\"value\":0.1},\"line_alpha\":{\"value\":0.1},\"line_color\":{\"value\":\"white\"},\"radius\":{\"value\":0.4},\"start_angle\":{\"expr\":{\"id\":\"3275\"}},\"x\":{\"value\":0},\"y\":{\"value\":1}},\"id\":\"3280\",\"type\":\"Wedge\"},{\"attributes\":{},\"id\":\"3287\",\"type\":\"AllLabels\"},{\"attributes\":{},\"id\":\"3289\",\"type\":\"BasicTickFormatter\"}],\"root_ids\":[\"3253\"]},\"title\":\"Bokeh Application\",\"version\":\"2.4.3\"}};\n  const render_items = [{\"docid\":\"bf60986c-41e6-45d8-8fc0-8c4c4f118ec4\",\"root_ids\":[\"3253\"],\"roots\":{\"3253\":\"db738921-aefe-41c0-9fa5-4683de691025\"}}];\n  root.Bokeh.embed.embed_items_notebook(docs_json, render_items);\n  }\n  if (root.Bokeh !== undefined) {\n    embed_document(root);\n  } else {\n    let attempts = 0;\n    const timer = setInterval(function(root) {\n      if (root.Bokeh !== undefined) {\n        clearInterval(timer);\n        embed_document(root);\n      } else {\n        attempts++;\n        if (attempts > 100) {\n          clearInterval(timer);\n          console.log(\"Bokeh: ERROR: Unable to run BokehJS code because BokehJS library is missing\");\n        }\n      }\n    }, 10, root)\n  }\n})(window);",
      "application/vnd.bokehjs_exec.v0+json": ""
     },
     "metadata": {
      "application/vnd.bokehjs_exec.v0+json": {
       "id": "3253"
      }
     },
     "output_type": "display_data"
    }
   ],
   "source": [
    "grafico_pizza(Trocando, 'teste', ['True', 'False'])"
   ]
  },
  {
   "cell_type": "markdown",
   "metadata": {},
   "source": [
    "Vemos que não há muita diferença, porém devemos lembrar que não existe uma aleatorio, realmente aleatorio na computação (exceto computação quantica), mas agora vamos analisar como seria na teoria. Esse problema é parecido com o problema de monty hall, como a retirada dos vagões até o terceiro vagão é aleatoria e nunca vai tirar o seu ou o do papa, a única probabilidade que importará será as dos ultimos três, a partir dai a explicação será a mesma do monty hall:"
   ]
  },
  {
   "cell_type": "markdown",
   "metadata": {},
   "source": [
    "- **Estratégia: Manter a Escolha Original**\n",
    "\n",
    "A probabilidade de que o participante tenha escolhido o vagão com o papa é $\\frac13$. A probabilidade de escolher o vagão sem ele é $\\frac23$.\n",
    "\n",
    "- **Estratégia: Trocar de Porta**\n",
    "\n",
    "Nesse caso, a probabilidade de ter escolhido o vagão com o papa permanece $\\frac23$, porque a maldição sempre cairá sobre o vagão com a menor proteção. Isso acontece pois há uma inversão nas probabilidades, pois as chances dele ter errado na sua escolha anterior são $\\frac23$, logo no momento em que uma porta errada for retirada será mais vantajoso que ele troque."
   ]
  },
  {
   "cell_type": "markdown",
   "metadata": {},
   "source": [
    "## Referências\n",
    "\n"
   ]
  },
  {
   "cell_type": "markdown",
   "metadata": {},
   "source": [
    "[1] Problema de Monty Hall. Disponível em: <https://pt.wikipedia.org/wiki/Problema_de_Monty_Hall>. Acesso em: 28 ago. 2023.\n",
    "\n",
    "‌\n",
    "\n"
   ]
  },
  {
   "cell_type": "markdown",
   "metadata": {},
   "source": [
    "## Playground\n",
    "\n"
   ]
  },
  {
   "cell_type": "code",
   "execution_count": null,
   "metadata": {},
   "outputs": [],
   "source": []
  }
 ],
 "metadata": {
  "kernelspec": {
   "display_name": "Python 3.9.13 ('base')",
   "language": "python",
   "name": "python3"
  },
  "language_info": {
   "codemirror_mode": {
    "name": "ipython",
    "version": 3
   },
   "file_extension": ".py",
   "mimetype": "text/x-python",
   "name": "python",
   "nbconvert_exporter": "python",
   "pygments_lexer": "ipython3",
   "version": "3.9.13"
  },
  "org": null,
  "vscode": {
   "interpreter": {
    "hash": "ad2bdc8ecc057115af97d19610ffacc2b4e99fae6737bb82f5d7fb13d2f2c186"
   }
  }
 },
 "nbformat": 4,
 "nbformat_minor": 4
}
