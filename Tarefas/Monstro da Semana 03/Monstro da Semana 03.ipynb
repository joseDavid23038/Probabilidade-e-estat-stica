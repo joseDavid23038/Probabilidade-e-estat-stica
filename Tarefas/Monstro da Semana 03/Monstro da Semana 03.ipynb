{
 "cells": [
  {
   "cell_type": "markdown",
   "metadata": {},
   "source": [
    "Meu computador, meu laboratório\n",
    "===============================\n",
    "\n"
   ]
  },
  {
   "cell_type": "markdown",
   "metadata": {},
   "source": [
    "## Objetivo\n",
    "\n"
   ]
  },
  {
   "cell_type": "markdown",
   "metadata": {},
   "source": [
    "Elabore uma pergunta/hipótese e teste ela usando um experimento computacional. Mostre graficamente um histograma dos resultados obtidos nas suas simulações e discuta se conseguiu responder sua pergunta/hipótese. Tente ser criativo e realizar um experimento suficientemente diferente dos realizados em sala.\n",
    "\n",
    "Sugestões de situações/processos para simular:\n",
    "\n",
    "-   Baralho de cartas (ex: qual a chance de sortear 5 cartas do mesmo naipe ou qual a chance sortear 3 cartas em ordem crescente. Pode pensar em aplicações em jogos como Poker ou Truco pois, afinal, a probabilidade nasceu nos jogos de azar);\n",
    "-   Jogos de tabuleiros (pensar em estratégias de otimização assim como as discutidas sobre o jogo Catan em aula);\n",
    "-   Datas de aniversário (ex: qual chance de pelo menos duas pessoas fazerem aniversário no mesmo dia num grupo de $n$ pessoas)\n",
    "\n",
    "Escolha o experimento que preferir, não precisa se limitar às sugestões.\n",
    "\n"
   ]
  },
  {
   "cell_type": "markdown",
   "metadata": {},
   "source": [
    "## Resultado e discussão\n",
    "\n"
   ]
  },
  {
   "attachments": {},
   "cell_type": "markdown",
   "metadata": {},
   "source": [
    "<h3>Trem amaldiçoado</h3>\n",
    "\n",
    "Imagine que você está em um jogo em que há um trem que muda aleatoriamente a posição (cores) dos vagões a cada 15 minutos. A cada estação que o trem passa, um vagão é amaldiçoado por um deus sem rosto, exceto o vagão protegido por um papa, e o vagão em que você está, pois estarão protegidos. O objetivo é ficar no vagão protegido no momento em que sobrarem somente dois vagões a serem amaldiçoados, pois a proteção do papa é maior do que a sua. Assim, o seu vagão será amaldiçoado, e você perderá o jogo. Existem 5 vagões possíveis para escolher (roxo, amarelo, verde, azul, vermelho). Você pode escolher qualquer um deles, mas nunca saberá onde está o papa. A cada estação, você pode trocar de vagão ou ficar nele. Qual é a estratégia mais vantajosa?\n",
    "\n",
    "**Cenário e Estratégias:**\n",
    "\n",
    "1. **Estratégia de Manter:**\n",
    "   - Nesta estratégia, você escolhe um vagão inicial (roxo, amarelo, verde, azul ou vermelho) e fica nele ao longo do jogo, independentemente das mudanças nas posições dos vagões. A cada estação, um vagão é amaldiçoado e outro é protegido. \n",
    "\n",
    "\n",
    "\n",
    "2. **Estratégia de Trocar:**\n",
    "   - Nesta estratégia, você escolhe um vagão inicial e decide trocar para um novo vagão a cada estação. Sua escolha é baseada na suposição de que a probabilidade de que o próximo vagão amaldiçoado seja menor caso você troque.\n"
   ]
  },
  {
   "cell_type": "code",
   "execution_count": 54,
   "metadata": {},
   "outputs": [],
   "source": [
    "'''IMPORTS'''\n",
    "import random as rd"
   ]
  },
  {
   "cell_type": "code",
   "execution_count": 55,
   "metadata": {},
   "outputs": [],
   "source": [
    "'''FUNÇÕES'''\n",
    "\n",
    "def trem_amaldiçoado_brincadeirinha(trocar = True):\n",
    "\n",
    "    Game_over = False\n",
    "\n",
    "    Vagoes = ['Amarelo', 'Roxo', 'Verde', 'Azul', 'Vermelho']\n",
    "\n",
    "    Vagao_do_Papa = Vagoes.pop(Vagoes.index(rd.choice(Vagoes)))\n",
    "\n",
    "    Vagao_escolhido = input('Escolha o vagão de entrada: ')\n",
    "\n",
    "    if Vagao_do_Papa == Vagao_escolhido:\n",
    "        if trocar == False:\n",
    "            Game_over = True\n",
    "            Win = True\n",
    "    else:\n",
    "        if trocar == False:\n",
    "            Game_over = True\n",
    "            Win = False\n",
    "        Vagao_escolhido = Vagoes.pop(Vagoes.index(Vagao_escolhido))\n",
    "\n",
    "\n",
    "    while Game_over == False:\n",
    "\n",
    "        Vagao_amaldicoado = Vagoes.pop(Vagoes.index(rd.choice(Vagoes)))\n",
    "\n",
    "        print(Vagao_amaldicoado)\n",
    "        \n",
    "        Vagoes.append(Vagao_escolhido)\n",
    "\n",
    "        Vagao_escolhido = input('Escolha um novo vagão: ')\n",
    "\n",
    "        if Vagao_do_Papa != Vagao_escolhido:\n",
    "            Vagao_escolhido = Vagoes.pop(Vagoes.index(Vagao_escolhido))\n",
    "\n",
    "        if len(Vagoes) == 0 and Vagao_do_Papa != Vagao_escolhido:\n",
    "            Game_over = True\n",
    "            Win = False\n",
    "        elif len(Vagoes) == 0 and Vagao_do_Papa == Vagao_escolhido:\n",
    "            Game_over = True\n",
    "            Win = True\n",
    "\n",
    "\n",
    "\n",
    "    Retorno = f'O vagão do Papa era {Vagao_do_Papa} e o seu era {Vagao_escolhido}, logo você {Win}!!'\n",
    "\n",
    "    return Retorno\n",
    "\n",
    "def trem_amaldiçoado_estatistica(trocar = True):\n",
    "\n",
    "    Game_over = False\n",
    "\n",
    "    Vagoes = ['Amarelo', 'Roxo', 'Verde', 'Azul', 'Vermelho']\n",
    "\n",
    "    Vagao_escolhido = rd.choice(Vagoes)\n",
    "\n",
    "    Vagao_do_Papa = Vagoes.pop(Vagoes.index(rd.choice(Vagoes)))\n",
    "\n",
    "    #Vagao_escolhido = input('Escolha o vagão de entrada: ')\n",
    "\n",
    "    if Vagao_do_Papa == Vagao_escolhido:\n",
    "        if trocar == False:\n",
    "            Game_over = True\n",
    "            Win = True\n",
    "    else:\n",
    "        if trocar == False:\n",
    "            Game_over = True\n",
    "            Win = False\n",
    "        Vagao_escolhido = Vagoes.pop(Vagoes.index(Vagao_escolhido))\n",
    "\n",
    "\n",
    "    while Game_over == False:\n",
    "\n",
    "\n",
    "        Vagao_amaldicoado = Vagoes.pop(Vagoes.index(rd.choice(Vagoes)))\n",
    "\n",
    "        \n",
    "        Vagoes.append(Vagao_escolhido)\n",
    "        Vagoes.append(Vagao_do_Papa)\n",
    "\n",
    "        Vagao_escolhido = rd.choice(Vagoes)\n",
    "        \n",
    "        if Vagao_escolhido in Vagoes:\n",
    "            Vagoes.pop(Vagoes.index(Vagao_escolhido))\n",
    "            \n",
    "        if Vagao_do_Papa in Vagoes:\n",
    "            Vagoes.pop(Vagoes.index(Vagao_do_Papa))\n",
    "        \n",
    "\n",
    "        if len(Vagoes) == 2 and Vagao_do_Papa != Vagao_escolhido:\n",
    "            Game_over = True\n",
    "            Win = False\n",
    "            break\n",
    "        elif len(Vagoes) == 2 and Vagao_do_Papa == Vagao_escolhido:\n",
    "            Game_over = True\n",
    "            Win = True\n",
    "            break\n",
    "\n",
    "\n",
    "    return Win\n",
    "\n",
    "def grafico_barras(X, Y, titulo, X_Y, LEGENDAS_COLORS = [], LEGENDAS = [], COLORS = '#804a81', LG = False):\n",
    "    from bokeh.plotting import figure, show\n",
    "    from bokeh.io import output_notebook\n",
    "    from bokeh.models import LabelSet\n",
    "    from bokeh.models import Legend, LegendItem\n",
    "    from bokeh.layouts import row\n",
    "    from bokeh.models.annotations import LegendItem as BokehLegendItem\n",
    "    from bokeh.models.ranges import FactorRange\n",
    "    \n",
    "    output_notebook()\n",
    "\n",
    "    # Criar figura\n",
    "    p = figure(x_range=X, title=titulo, x_axis_label=X_Y[0], y_axis_label=X_Y[1])\n",
    "    \n",
    "    if LG:\n",
    "        # Criar a legenda\n",
    "        legend = Legend(items=[])\n",
    "\n",
    "        # Adicionar cada item da legenda com retângulo de cor\n",
    "        for legend_label, color in zip(LEGENDAS, LEGENDAS_COLORS):\n",
    "            # Criar o retângulo de cor\n",
    "            rect = p.rect(x=0, y=0, fill_color=color, line_color=None)\n",
    "            # Criar o item da legenda com o retângulo de cor e o rótulo\n",
    "            legend_item = BokehLegendItem(label=legend_label, renderers=[rect])\n",
    "            # Adicionar o LegendItem à legenda\n",
    "            legend.items.append(legend_item)\n",
    "\n",
    "        # Adicionar a legenda ao gráfico\n",
    "        p.add_layout(legend, 'center')\n",
    "\n",
    "    # Adicionar o gráfico de barras\n",
    "    p.vbar(x=X, top=Y, width=0.5, color=COLORS)\n",
    "    \n",
    "    p.xaxis.major_label_orientation = 0.8  # Rotacionar os rótulos em um ângulo específico (em radianos)\n",
    "\n",
    "    # Exibir o gráfico\n",
    "    show(p)\n",
    "    \n",
    "    return\n",
    "\n",
    "def grafico_pizza(data, titulo, LEGENDAS):\n",
    "\n",
    "        from bokeh.plotting import figure, show\n",
    "        from math import pi\n",
    "        import pandas as pd\n",
    "        from bokeh.palettes import Category20c\n",
    "        from bokeh.io import output_notebook\n",
    "\n",
    "\n",
    "        # Contar a quantidade de True e False\n",
    "        true_count = data.count(True)\n",
    "        false_count = data.count(False)\n",
    "\n",
    "        # Criar um DataFrame\n",
    "        data = pd.DataFrame({'value': [true_count, false_count], 'label': LEGENDAS})\n",
    "\n",
    "        # Calcular os ângulos\n",
    "        data['angle'] = data['value']/data['value'].sum() * 2*pi\n",
    "\n",
    "        # Definir as cores\n",
    "        colors = [\"red\", \"blue\", \"green\", \"yellow\"]\n",
    "        cores = []\n",
    "\n",
    "        if len(LEGENDAS) < 4:\n",
    "                for i in range(len(LEGENDAS)):\n",
    "                        cores.append(colors[i])\n",
    "        elif len(LEGENDAS) >= 4:                        \n",
    "                cores = Category20c[len(LEGENDAS)]\n",
    "                \n",
    "        data['color'] = cores\n",
    "\n",
    "        # Criar o gráfico\n",
    "        p = figure(plot_height=350, title=titulo, toolbar_location=None, tools=\"hover\", tooltips=\"@label: @value\", x_range=(-0.5, 1.0))\n",
    "\n",
    "        # Adicionar os setores\n",
    "        #p.wedge(x=0, y=1, radius=0.4, start_angle=data['angle'].shift(fill_value=0), end_angle=data['angle'], line_color=\"white\", fill_color='color', legend_field='label', source=data)\n",
    "\n",
    "        p.wedge(x=0, y=1, radius=0.4,\n",
    "                start_angle=cumsum('angle', include_zero=True), end_angle=cumsum('angle'),\n",
    "                line_color=\"white\", fill_color='color', legend_field='label', source=data)\n",
    "\n",
    "        # Remover grade e eixos\n",
    "        p.axis.axis_label = None\n",
    "        p.axis.visible = False\n",
    "        p.grid.grid_line_color = None\n",
    "\n",
    "        # Mostrar o gráfico\n",
    "        output_notebook()\n",
    "        show(p)\n",
    "        \n",
    "        return\n",
    "\n"
   ]
  },
  {
   "cell_type": "markdown",
   "metadata": {},
   "source": [
    "Agora vamos fazer o seguinte, rodaremos o codigo  10 mil vezes com o opção <kbd>`trocar = True`</kbd> e 10 mil vezes <kbd>`trocar = False`</kbd>, assim podendo ver na pratica o que aconteceria antes de olharmos a teoria.\n"
   ]
  },
  {
   "cell_type": "code",
   "execution_count": 60,
   "metadata": {},
   "outputs": [],
   "source": [
    "'''Script'''\n",
    "Sem_trocar = []\n",
    "Trocando = []\n",
    "y = 10000\n",
    "\n",
    "for _ in range(y):\n",
    "    Sem_trocar.append(trem_amaldiçoado_estatistica(trocar=False))\n",
    "    Trocando.append(trem_amaldiçoado_estatistica())"
   ]
  },
  {
   "cell_type": "code",
   "execution_count": 63,
   "metadata": {},
   "outputs": [
    {
     "data": {
      "text/html": [
       "<div class=\"bk-root\">\n",
       "        <a href=\"https://bokeh.org\" target=\"_blank\" class=\"bk-logo bk-logo-small bk-logo-notebook\"></a>\n",
       "        <span id=\"3991\">Loading BokehJS ...</span>\n",
       "    </div>\n"
      ]
     },
     "metadata": {},
     "output_type": "display_data"
    },
    {
     "data": {
      "application/javascript": "(function(root) {\n  function now() {\n    return new Date();\n  }\n\n  const force = true;\n\n  if (typeof root._bokeh_onload_callbacks === \"undefined\" || force === true) {\n    root._bokeh_onload_callbacks = [];\n    root._bokeh_is_loading = undefined;\n  }\n\nconst JS_MIME_TYPE = 'application/javascript';\n  const HTML_MIME_TYPE = 'text/html';\n  const EXEC_MIME_TYPE = 'application/vnd.bokehjs_exec.v0+json';\n  const CLASS_NAME = 'output_bokeh rendered_html';\n\n  /**\n   * Render data to the DOM node\n   */\n  function render(props, node) {\n    const script = document.createElement(\"script\");\n    node.appendChild(script);\n  }\n\n  /**\n   * Handle when an output is cleared or removed\n   */\n  function handleClearOutput(event, handle) {\n    const cell = handle.cell;\n\n    const id = cell.output_area._bokeh_element_id;\n    const server_id = cell.output_area._bokeh_server_id;\n    // Clean up Bokeh references\n    if (id != null && id in Bokeh.index) {\n      Bokeh.index[id].model.document.clear();\n      delete Bokeh.index[id];\n    }\n\n    if (server_id !== undefined) {\n      // Clean up Bokeh references\n      const cmd_clean = \"from bokeh.io.state import curstate; print(curstate().uuid_to_server['\" + server_id + \"'].get_sessions()[0].document.roots[0]._id)\";\n      cell.notebook.kernel.execute(cmd_clean, {\n        iopub: {\n          output: function(msg) {\n            const id = msg.content.text.trim();\n            if (id in Bokeh.index) {\n              Bokeh.index[id].model.document.clear();\n              delete Bokeh.index[id];\n            }\n          }\n        }\n      });\n      // Destroy server and session\n      const cmd_destroy = \"import bokeh.io.notebook as ion; ion.destroy_server('\" + server_id + \"')\";\n      cell.notebook.kernel.execute(cmd_destroy);\n    }\n  }\n\n  /**\n   * Handle when a new output is added\n   */\n  function handleAddOutput(event, handle) {\n    const output_area = handle.output_area;\n    const output = handle.output;\n\n    // limit handleAddOutput to display_data with EXEC_MIME_TYPE content only\n    if ((output.output_type != \"display_data\") || (!Object.prototype.hasOwnProperty.call(output.data, EXEC_MIME_TYPE))) {\n      return\n    }\n\n    const toinsert = output_area.element.find(\".\" + CLASS_NAME.split(' ')[0]);\n\n    if (output.metadata[EXEC_MIME_TYPE][\"id\"] !== undefined) {\n      toinsert[toinsert.length - 1].firstChild.textContent = output.data[JS_MIME_TYPE];\n      // store reference to embed id on output_area\n      output_area._bokeh_element_id = output.metadata[EXEC_MIME_TYPE][\"id\"];\n    }\n    if (output.metadata[EXEC_MIME_TYPE][\"server_id\"] !== undefined) {\n      const bk_div = document.createElement(\"div\");\n      bk_div.innerHTML = output.data[HTML_MIME_TYPE];\n      const script_attrs = bk_div.children[0].attributes;\n      for (let i = 0; i < script_attrs.length; i++) {\n        toinsert[toinsert.length - 1].firstChild.setAttribute(script_attrs[i].name, script_attrs[i].value);\n        toinsert[toinsert.length - 1].firstChild.textContent = bk_div.children[0].textContent\n      }\n      // store reference to server id on output_area\n      output_area._bokeh_server_id = output.metadata[EXEC_MIME_TYPE][\"server_id\"];\n    }\n  }\n\n  function register_renderer(events, OutputArea) {\n\n    function append_mime(data, metadata, element) {\n      // create a DOM node to render to\n      const toinsert = this.create_output_subarea(\n        metadata,\n        CLASS_NAME,\n        EXEC_MIME_TYPE\n      );\n      this.keyboard_manager.register_events(toinsert);\n      // Render to node\n      const props = {data: data, metadata: metadata[EXEC_MIME_TYPE]};\n      render(props, toinsert[toinsert.length - 1]);\n      element.append(toinsert);\n      return toinsert\n    }\n\n    /* Handle when an output is cleared or removed */\n    events.on('clear_output.CodeCell', handleClearOutput);\n    events.on('delete.Cell', handleClearOutput);\n\n    /* Handle when a new output is added */\n    events.on('output_added.OutputArea', handleAddOutput);\n\n    /**\n     * Register the mime type and append_mime function with output_area\n     */\n    OutputArea.prototype.register_mime_type(EXEC_MIME_TYPE, append_mime, {\n      /* Is output safe? */\n      safe: true,\n      /* Index of renderer in `output_area.display_order` */\n      index: 0\n    });\n  }\n\n  // register the mime type if in Jupyter Notebook environment and previously unregistered\n  if (root.Jupyter !== undefined) {\n    const events = require('base/js/events');\n    const OutputArea = require('notebook/js/outputarea').OutputArea;\n\n    if (OutputArea.prototype.mime_types().indexOf(EXEC_MIME_TYPE) == -1) {\n      register_renderer(events, OutputArea);\n    }\n  }\n  if (typeof (root._bokeh_timeout) === \"undefined\" || force === true) {\n    root._bokeh_timeout = Date.now() + 5000;\n    root._bokeh_failed_load = false;\n  }\n\n  const NB_LOAD_WARNING = {'data': {'text/html':\n     \"<div style='background-color: #fdd'>\\n\"+\n     \"<p>\\n\"+\n     \"BokehJS does not appear to have successfully loaded. If loading BokehJS from CDN, this \\n\"+\n     \"may be due to a slow or bad network connection. Possible fixes:\\n\"+\n     \"</p>\\n\"+\n     \"<ul>\\n\"+\n     \"<li>re-rerun `output_notebook()` to attempt to load from CDN again, or</li>\\n\"+\n     \"<li>use INLINE resources instead, as so:</li>\\n\"+\n     \"</ul>\\n\"+\n     \"<code>\\n\"+\n     \"from bokeh.resources import INLINE\\n\"+\n     \"output_notebook(resources=INLINE)\\n\"+\n     \"</code>\\n\"+\n     \"</div>\"}};\n\n  function display_loaded() {\n    const el = document.getElementById(\"3991\");\n    if (el != null) {\n      el.textContent = \"BokehJS is loading...\";\n    }\n    if (root.Bokeh !== undefined) {\n      if (el != null) {\n        el.textContent = \"BokehJS \" + root.Bokeh.version + \" successfully loaded.\";\n      }\n    } else if (Date.now() < root._bokeh_timeout) {\n      setTimeout(display_loaded, 100)\n    }\n  }\n\n  function run_callbacks() {\n    try {\n      root._bokeh_onload_callbacks.forEach(function(callback) {\n        if (callback != null)\n          callback();\n      });\n    } finally {\n      delete root._bokeh_onload_callbacks\n    }\n    console.debug(\"Bokeh: all callbacks have finished\");\n  }\n\n  function load_libs(css_urls, js_urls, callback) {\n    if (css_urls == null) css_urls = [];\n    if (js_urls == null) js_urls = [];\n\n    root._bokeh_onload_callbacks.push(callback);\n    if (root._bokeh_is_loading > 0) {\n      console.debug(\"Bokeh: BokehJS is being loaded, scheduling callback at\", now());\n      return null;\n    }\n    if (js_urls == null || js_urls.length === 0) {\n      run_callbacks();\n      return null;\n    }\n    console.debug(\"Bokeh: BokehJS not loaded, scheduling load and callback at\", now());\n    root._bokeh_is_loading = css_urls.length + js_urls.length;\n\n    function on_load() {\n      root._bokeh_is_loading--;\n      if (root._bokeh_is_loading === 0) {\n        console.debug(\"Bokeh: all BokehJS libraries/stylesheets loaded\");\n        run_callbacks()\n      }\n    }\n\n    function on_error(url) {\n      console.error(\"failed to load \" + url);\n    }\n\n    for (let i = 0; i < css_urls.length; i++) {\n      const url = css_urls[i];\n      const element = document.createElement(\"link\");\n      element.onload = on_load;\n      element.onerror = on_error.bind(null, url);\n      element.rel = \"stylesheet\";\n      element.type = \"text/css\";\n      element.href = url;\n      console.debug(\"Bokeh: injecting link tag for BokehJS stylesheet: \", url);\n      document.body.appendChild(element);\n    }\n\n    for (let i = 0; i < js_urls.length; i++) {\n      const url = js_urls[i];\n      const element = document.createElement('script');\n      element.onload = on_load;\n      element.onerror = on_error.bind(null, url);\n      element.async = false;\n      element.src = url;\n      console.debug(\"Bokeh: injecting script tag for BokehJS library: \", url);\n      document.head.appendChild(element);\n    }\n  };\n\n  function inject_raw_css(css) {\n    const element = document.createElement(\"style\");\n    element.appendChild(document.createTextNode(css));\n    document.body.appendChild(element);\n  }\n\n  const js_urls = [\"https://cdn.bokeh.org/bokeh/release/bokeh-2.4.3.min.js\", \"https://cdn.bokeh.org/bokeh/release/bokeh-gl-2.4.3.min.js\", \"https://cdn.bokeh.org/bokeh/release/bokeh-widgets-2.4.3.min.js\", \"https://cdn.bokeh.org/bokeh/release/bokeh-tables-2.4.3.min.js\", \"https://cdn.bokeh.org/bokeh/release/bokeh-mathjax-2.4.3.min.js\"];\n  const css_urls = [];\n\n  const inline_js = [    function(Bokeh) {\n      Bokeh.set_log_level(\"info\");\n    },\nfunction(Bokeh) {\n    }\n  ];\n\n  function run_inline_js() {\n    if (root.Bokeh !== undefined || force === true) {\n          for (let i = 0; i < inline_js.length; i++) {\n      inline_js[i].call(root, root.Bokeh);\n    }\nif (force === true) {\n        display_loaded();\n      }} else if (Date.now() < root._bokeh_timeout) {\n      setTimeout(run_inline_js, 100);\n    } else if (!root._bokeh_failed_load) {\n      console.log(\"Bokeh: BokehJS failed to load within specified timeout.\");\n      root._bokeh_failed_load = true;\n    } else if (force !== true) {\n      const cell = $(document.getElementById(\"3991\")).parents('.cell').data().cell;\n      cell.output_area.append_execute_result(NB_LOAD_WARNING)\n    }\n  }\n\n  if (root._bokeh_is_loading === 0) {\n    console.debug(\"Bokeh: BokehJS loaded, going straight to plotting\");\n    run_inline_js();\n  } else {\n    load_libs(css_urls, js_urls, function() {\n      console.debug(\"Bokeh: BokehJS plotting callback run at\", now());\n      run_inline_js();\n    });\n  }\n}(window));",
      "application/vnd.bokehjs_load.v0+json": ""
     },
     "metadata": {},
     "output_type": "display_data"
    },
    {
     "data": {
      "text/html": [
       "\n",
       "  <div class=\"bk-root\" id=\"16ef93bd-700d-43cd-823d-20718022548c\" data-root-id=\"3949\"></div>\n"
      ]
     },
     "metadata": {},
     "output_type": "display_data"
    },
    {
     "data": {
      "application/javascript": "(function(root) {\n  function embed_document(root) {\n  const docs_json = {\"358178ae-d6c7-4af4-858f-67604496b336\":{\"defs\":[],\"roots\":{\"references\":[{\"attributes\":{\"below\":[{\"id\":\"3960\"}],\"center\":[{\"id\":\"3963\"},{\"id\":\"3967\"},{\"id\":\"3989\"}],\"height\":350,\"left\":[{\"id\":\"3964\"}],\"renderers\":[{\"id\":\"3978\"}],\"title\":{\"id\":\"3950\"},\"toolbar\":{\"id\":\"3969\"},\"toolbar_location\":null,\"x_range\":{\"id\":\"3952\"},\"x_scale\":{\"id\":\"3956\"},\"y_range\":{\"id\":\"3954\"},\"y_scale\":{\"id\":\"3958\"}},\"id\":\"3949\",\"subtype\":\"Figure\",\"type\":\"Plot\"},{\"attributes\":{},\"id\":\"3983\",\"type\":\"AllLabels\"},{\"attributes\":{},\"id\":\"3985\",\"type\":\"BasicTickFormatter\"},{\"attributes\":{\"coordinates\":null,\"group\":null,\"items\":[{\"id\":\"3990\"}]},\"id\":\"3989\",\"type\":\"Legend\"},{\"attributes\":{\"data\":{\"angle\":{\"__ndarray__\":\"HJATo+6X8z8RSX+r/zsUQA==\",\"dtype\":\"float64\",\"order\":\"little\",\"shape\":[2]},\"color\":[\"red\",\"blue\"],\"index\":[0,1],\"label\":[\"True\",\"False\"],\"value\":[1949,8051]},\"selected\":{\"id\":\"3988\"},\"selection_policy\":{\"id\":\"3987\"}},\"id\":\"3973\",\"type\":\"ColumnDataSource\"},{\"attributes\":{},\"id\":\"3986\",\"type\":\"AllLabels\"},{\"attributes\":{\"field\":\"angle\"},\"id\":\"3972\",\"type\":\"CumSum\"},{\"attributes\":{\"coordinates\":null,\"formatter\":{\"id\":\"3982\"},\"group\":null,\"major_label_policy\":{\"id\":\"3983\"},\"ticker\":{\"id\":\"3965\"},\"visible\":false},\"id\":\"3964\",\"type\":\"LinearAxis\"},{\"attributes\":{\"end_angle\":{\"expr\":{\"id\":\"3972\"}},\"fill_alpha\":{\"value\":0.1},\"fill_color\":{\"field\":\"color\"},\"hatch_alpha\":{\"value\":0.1},\"line_alpha\":{\"value\":0.1},\"line_color\":{\"value\":\"white\"},\"radius\":{\"value\":0.4},\"start_angle\":{\"expr\":{\"id\":\"3971\"}},\"x\":{\"value\":0},\"y\":{\"value\":1}},\"id\":\"3976\",\"type\":\"Wedge\"},{\"attributes\":{},\"id\":\"3961\",\"type\":\"BasicTicker\"},{\"attributes\":{\"axis\":{\"id\":\"3960\"},\"coordinates\":null,\"grid_line_color\":null,\"group\":null,\"ticker\":null},\"id\":\"3963\",\"type\":\"Grid\"},{\"attributes\":{},\"id\":\"3958\",\"type\":\"LinearScale\"},{\"attributes\":{\"field\":\"angle\",\"include_zero\":true},\"id\":\"3971\",\"type\":\"CumSum\"},{\"attributes\":{\"coordinates\":null,\"group\":null,\"text\":\"Sem trocar a escolha\"},\"id\":\"3950\",\"type\":\"Title\"},{\"attributes\":{\"start\":-0.5},\"id\":\"3952\",\"type\":\"Range1d\"},{\"attributes\":{},\"id\":\"3956\",\"type\":\"LinearScale\"},{\"attributes\":{},\"id\":\"3987\",\"type\":\"UnionRenderers\"},{\"attributes\":{},\"id\":\"3954\",\"type\":\"DataRange1d\"},{\"attributes\":{\"coordinates\":null,\"formatter\":{\"id\":\"3985\"},\"group\":null,\"major_label_policy\":{\"id\":\"3986\"},\"ticker\":{\"id\":\"3961\"},\"visible\":false},\"id\":\"3960\",\"type\":\"LinearAxis\"},{\"attributes\":{},\"id\":\"3988\",\"type\":\"Selection\"},{\"attributes\":{\"coordinates\":null,\"data_source\":{\"id\":\"3973\"},\"glyph\":{\"id\":\"3975\"},\"group\":null,\"hover_glyph\":null,\"muted_glyph\":{\"id\":\"3977\"},\"nonselection_glyph\":{\"id\":\"3976\"},\"view\":{\"id\":\"3979\"}},\"id\":\"3978\",\"type\":\"GlyphRenderer\"},{\"attributes\":{\"axis\":{\"id\":\"3964\"},\"coordinates\":null,\"dimension\":1,\"grid_line_color\":null,\"group\":null,\"ticker\":null},\"id\":\"3967\",\"type\":\"Grid\"},{\"attributes\":{\"end_angle\":{\"expr\":{\"id\":\"3972\"}},\"fill_alpha\":{\"value\":0.2},\"fill_color\":{\"field\":\"color\"},\"hatch_alpha\":{\"value\":0.2},\"line_alpha\":{\"value\":0.2},\"line_color\":{\"value\":\"white\"},\"radius\":{\"value\":0.4},\"start_angle\":{\"expr\":{\"id\":\"3971\"}},\"x\":{\"value\":0},\"y\":{\"value\":1}},\"id\":\"3977\",\"type\":\"Wedge\"},{\"attributes\":{},\"id\":\"3965\",\"type\":\"BasicTicker\"},{\"attributes\":{},\"id\":\"3982\",\"type\":\"BasicTickFormatter\"},{\"attributes\":{\"callback\":null,\"tooltips\":\"@label: @value\"},\"id\":\"3968\",\"type\":\"HoverTool\"},{\"attributes\":{\"source\":{\"id\":\"3973\"}},\"id\":\"3979\",\"type\":\"CDSView\"},{\"attributes\":{\"end_angle\":{\"expr\":{\"id\":\"3972\"}},\"fill_color\":{\"field\":\"color\"},\"line_color\":{\"value\":\"white\"},\"radius\":{\"value\":0.4},\"start_angle\":{\"expr\":{\"id\":\"3971\"}},\"x\":{\"value\":0},\"y\":{\"value\":1}},\"id\":\"3975\",\"type\":\"Wedge\"},{\"attributes\":{\"tools\":[{\"id\":\"3968\"}]},\"id\":\"3969\",\"type\":\"Toolbar\"},{\"attributes\":{\"label\":{\"field\":\"label\"},\"renderers\":[{\"id\":\"3978\"}]},\"id\":\"3990\",\"type\":\"LegendItem\"}],\"root_ids\":[\"3949\"]},\"title\":\"Bokeh Application\",\"version\":\"2.4.3\"}};\n  const render_items = [{\"docid\":\"358178ae-d6c7-4af4-858f-67604496b336\",\"root_ids\":[\"3949\"],\"roots\":{\"3949\":\"16ef93bd-700d-43cd-823d-20718022548c\"}}];\n  root.Bokeh.embed.embed_items_notebook(docs_json, render_items);\n  }\n  if (root.Bokeh !== undefined) {\n    embed_document(root);\n  } else {\n    let attempts = 0;\n    const timer = setInterval(function(root) {\n      if (root.Bokeh !== undefined) {\n        clearInterval(timer);\n        embed_document(root);\n      } else {\n        attempts++;\n        if (attempts > 100) {\n          clearInterval(timer);\n          console.log(\"Bokeh: ERROR: Unable to run BokehJS code because BokehJS library is missing\");\n        }\n      }\n    }, 10, root)\n  }\n})(window);",
      "application/vnd.bokehjs_exec.v0+json": ""
     },
     "metadata": {
      "application/vnd.bokehjs_exec.v0+json": {
       "id": "3949"
      }
     },
     "output_type": "display_data"
    }
   ],
   "source": [
    "grafico_pizza(Sem_trocar, 'Sem trocar a escolha', ['True', 'False'])"
   ]
  },
  {
   "cell_type": "code",
   "execution_count": 66,
   "metadata": {},
   "outputs": [
    {
     "data": {
      "text/html": [
       "<div class=\"bk-root\">\n",
       "        <a href=\"https://bokeh.org\" target=\"_blank\" class=\"bk-logo bk-logo-small bk-logo-notebook\"></a>\n",
       "        <span id=\"4814\">Loading BokehJS ...</span>\n",
       "    </div>\n"
      ]
     },
     "metadata": {},
     "output_type": "display_data"
    },
    {
     "data": {
      "application/javascript": "(function(root) {\n  function now() {\n    return new Date();\n  }\n\n  const force = true;\n\n  if (typeof root._bokeh_onload_callbacks === \"undefined\" || force === true) {\n    root._bokeh_onload_callbacks = [];\n    root._bokeh_is_loading = undefined;\n  }\n\nconst JS_MIME_TYPE = 'application/javascript';\n  const HTML_MIME_TYPE = 'text/html';\n  const EXEC_MIME_TYPE = 'application/vnd.bokehjs_exec.v0+json';\n  const CLASS_NAME = 'output_bokeh rendered_html';\n\n  /**\n   * Render data to the DOM node\n   */\n  function render(props, node) {\n    const script = document.createElement(\"script\");\n    node.appendChild(script);\n  }\n\n  /**\n   * Handle when an output is cleared or removed\n   */\n  function handleClearOutput(event, handle) {\n    const cell = handle.cell;\n\n    const id = cell.output_area._bokeh_element_id;\n    const server_id = cell.output_area._bokeh_server_id;\n    // Clean up Bokeh references\n    if (id != null && id in Bokeh.index) {\n      Bokeh.index[id].model.document.clear();\n      delete Bokeh.index[id];\n    }\n\n    if (server_id !== undefined) {\n      // Clean up Bokeh references\n      const cmd_clean = \"from bokeh.io.state import curstate; print(curstate().uuid_to_server['\" + server_id + \"'].get_sessions()[0].document.roots[0]._id)\";\n      cell.notebook.kernel.execute(cmd_clean, {\n        iopub: {\n          output: function(msg) {\n            const id = msg.content.text.trim();\n            if (id in Bokeh.index) {\n              Bokeh.index[id].model.document.clear();\n              delete Bokeh.index[id];\n            }\n          }\n        }\n      });\n      // Destroy server and session\n      const cmd_destroy = \"import bokeh.io.notebook as ion; ion.destroy_server('\" + server_id + \"')\";\n      cell.notebook.kernel.execute(cmd_destroy);\n    }\n  }\n\n  /**\n   * Handle when a new output is added\n   */\n  function handleAddOutput(event, handle) {\n    const output_area = handle.output_area;\n    const output = handle.output;\n\n    // limit handleAddOutput to display_data with EXEC_MIME_TYPE content only\n    if ((output.output_type != \"display_data\") || (!Object.prototype.hasOwnProperty.call(output.data, EXEC_MIME_TYPE))) {\n      return\n    }\n\n    const toinsert = output_area.element.find(\".\" + CLASS_NAME.split(' ')[0]);\n\n    if (output.metadata[EXEC_MIME_TYPE][\"id\"] !== undefined) {\n      toinsert[toinsert.length - 1].firstChild.textContent = output.data[JS_MIME_TYPE];\n      // store reference to embed id on output_area\n      output_area._bokeh_element_id = output.metadata[EXEC_MIME_TYPE][\"id\"];\n    }\n    if (output.metadata[EXEC_MIME_TYPE][\"server_id\"] !== undefined) {\n      const bk_div = document.createElement(\"div\");\n      bk_div.innerHTML = output.data[HTML_MIME_TYPE];\n      const script_attrs = bk_div.children[0].attributes;\n      for (let i = 0; i < script_attrs.length; i++) {\n        toinsert[toinsert.length - 1].firstChild.setAttribute(script_attrs[i].name, script_attrs[i].value);\n        toinsert[toinsert.length - 1].firstChild.textContent = bk_div.children[0].textContent\n      }\n      // store reference to server id on output_area\n      output_area._bokeh_server_id = output.metadata[EXEC_MIME_TYPE][\"server_id\"];\n    }\n  }\n\n  function register_renderer(events, OutputArea) {\n\n    function append_mime(data, metadata, element) {\n      // create a DOM node to render to\n      const toinsert = this.create_output_subarea(\n        metadata,\n        CLASS_NAME,\n        EXEC_MIME_TYPE\n      );\n      this.keyboard_manager.register_events(toinsert);\n      // Render to node\n      const props = {data: data, metadata: metadata[EXEC_MIME_TYPE]};\n      render(props, toinsert[toinsert.length - 1]);\n      element.append(toinsert);\n      return toinsert\n    }\n\n    /* Handle when an output is cleared or removed */\n    events.on('clear_output.CodeCell', handleClearOutput);\n    events.on('delete.Cell', handleClearOutput);\n\n    /* Handle when a new output is added */\n    events.on('output_added.OutputArea', handleAddOutput);\n\n    /**\n     * Register the mime type and append_mime function with output_area\n     */\n    OutputArea.prototype.register_mime_type(EXEC_MIME_TYPE, append_mime, {\n      /* Is output safe? */\n      safe: true,\n      /* Index of renderer in `output_area.display_order` */\n      index: 0\n    });\n  }\n\n  // register the mime type if in Jupyter Notebook environment and previously unregistered\n  if (root.Jupyter !== undefined) {\n    const events = require('base/js/events');\n    const OutputArea = require('notebook/js/outputarea').OutputArea;\n\n    if (OutputArea.prototype.mime_types().indexOf(EXEC_MIME_TYPE) == -1) {\n      register_renderer(events, OutputArea);\n    }\n  }\n  if (typeof (root._bokeh_timeout) === \"undefined\" || force === true) {\n    root._bokeh_timeout = Date.now() + 5000;\n    root._bokeh_failed_load = false;\n  }\n\n  const NB_LOAD_WARNING = {'data': {'text/html':\n     \"<div style='background-color: #fdd'>\\n\"+\n     \"<p>\\n\"+\n     \"BokehJS does not appear to have successfully loaded. If loading BokehJS from CDN, this \\n\"+\n     \"may be due to a slow or bad network connection. Possible fixes:\\n\"+\n     \"</p>\\n\"+\n     \"<ul>\\n\"+\n     \"<li>re-rerun `output_notebook()` to attempt to load from CDN again, or</li>\\n\"+\n     \"<li>use INLINE resources instead, as so:</li>\\n\"+\n     \"</ul>\\n\"+\n     \"<code>\\n\"+\n     \"from bokeh.resources import INLINE\\n\"+\n     \"output_notebook(resources=INLINE)\\n\"+\n     \"</code>\\n\"+\n     \"</div>\"}};\n\n  function display_loaded() {\n    const el = document.getElementById(\"4814\");\n    if (el != null) {\n      el.textContent = \"BokehJS is loading...\";\n    }\n    if (root.Bokeh !== undefined) {\n      if (el != null) {\n        el.textContent = \"BokehJS \" + root.Bokeh.version + \" successfully loaded.\";\n      }\n    } else if (Date.now() < root._bokeh_timeout) {\n      setTimeout(display_loaded, 100)\n    }\n  }\n\n  function run_callbacks() {\n    try {\n      root._bokeh_onload_callbacks.forEach(function(callback) {\n        if (callback != null)\n          callback();\n      });\n    } finally {\n      delete root._bokeh_onload_callbacks\n    }\n    console.debug(\"Bokeh: all callbacks have finished\");\n  }\n\n  function load_libs(css_urls, js_urls, callback) {\n    if (css_urls == null) css_urls = [];\n    if (js_urls == null) js_urls = [];\n\n    root._bokeh_onload_callbacks.push(callback);\n    if (root._bokeh_is_loading > 0) {\n      console.debug(\"Bokeh: BokehJS is being loaded, scheduling callback at\", now());\n      return null;\n    }\n    if (js_urls == null || js_urls.length === 0) {\n      run_callbacks();\n      return null;\n    }\n    console.debug(\"Bokeh: BokehJS not loaded, scheduling load and callback at\", now());\n    root._bokeh_is_loading = css_urls.length + js_urls.length;\n\n    function on_load() {\n      root._bokeh_is_loading--;\n      if (root._bokeh_is_loading === 0) {\n        console.debug(\"Bokeh: all BokehJS libraries/stylesheets loaded\");\n        run_callbacks()\n      }\n    }\n\n    function on_error(url) {\n      console.error(\"failed to load \" + url);\n    }\n\n    for (let i = 0; i < css_urls.length; i++) {\n      const url = css_urls[i];\n      const element = document.createElement(\"link\");\n      element.onload = on_load;\n      element.onerror = on_error.bind(null, url);\n      element.rel = \"stylesheet\";\n      element.type = \"text/css\";\n      element.href = url;\n      console.debug(\"Bokeh: injecting link tag for BokehJS stylesheet: \", url);\n      document.body.appendChild(element);\n    }\n\n    for (let i = 0; i < js_urls.length; i++) {\n      const url = js_urls[i];\n      const element = document.createElement('script');\n      element.onload = on_load;\n      element.onerror = on_error.bind(null, url);\n      element.async = false;\n      element.src = url;\n      console.debug(\"Bokeh: injecting script tag for BokehJS library: \", url);\n      document.head.appendChild(element);\n    }\n  };\n\n  function inject_raw_css(css) {\n    const element = document.createElement(\"style\");\n    element.appendChild(document.createTextNode(css));\n    document.body.appendChild(element);\n  }\n\n  const js_urls = [\"https://cdn.bokeh.org/bokeh/release/bokeh-2.4.3.min.js\", \"https://cdn.bokeh.org/bokeh/release/bokeh-gl-2.4.3.min.js\", \"https://cdn.bokeh.org/bokeh/release/bokeh-widgets-2.4.3.min.js\", \"https://cdn.bokeh.org/bokeh/release/bokeh-tables-2.4.3.min.js\", \"https://cdn.bokeh.org/bokeh/release/bokeh-mathjax-2.4.3.min.js\"];\n  const css_urls = [];\n\n  const inline_js = [    function(Bokeh) {\n      Bokeh.set_log_level(\"info\");\n    },\nfunction(Bokeh) {\n    }\n  ];\n\n  function run_inline_js() {\n    if (root.Bokeh !== undefined || force === true) {\n          for (let i = 0; i < inline_js.length; i++) {\n      inline_js[i].call(root, root.Bokeh);\n    }\nif (force === true) {\n        display_loaded();\n      }} else if (Date.now() < root._bokeh_timeout) {\n      setTimeout(run_inline_js, 100);\n    } else if (!root._bokeh_failed_load) {\n      console.log(\"Bokeh: BokehJS failed to load within specified timeout.\");\n      root._bokeh_failed_load = true;\n    } else if (force !== true) {\n      const cell = $(document.getElementById(\"4814\")).parents('.cell').data().cell;\n      cell.output_area.append_execute_result(NB_LOAD_WARNING)\n    }\n  }\n\n  if (root._bokeh_is_loading === 0) {\n    console.debug(\"Bokeh: BokehJS loaded, going straight to plotting\");\n    run_inline_js();\n  } else {\n    load_libs(css_urls, js_urls, function() {\n      console.debug(\"Bokeh: BokehJS plotting callback run at\", now());\n      run_inline_js();\n    });\n  }\n}(window));",
      "application/vnd.bokehjs_load.v0+json": ""
     },
     "metadata": {},
     "output_type": "display_data"
    },
    {
     "data": {
      "text/html": [
       "\n",
       "  <div class=\"bk-root\" id=\"0ebb05b2-8931-466c-b8b2-85dc5bb5a7e5\" data-root-id=\"4815\"></div>\n"
      ]
     },
     "metadata": {},
     "output_type": "display_data"
    },
    {
     "data": {
      "application/javascript": "(function(root) {\n  function embed_document(root) {\n  const docs_json = {\"4e18bba6-450a-41b6-a80b-54dad0aac599\":{\"defs\":[],\"roots\":{\"references\":[{\"attributes\":{\"below\":[{\"id\":\"4826\"}],\"center\":[{\"id\":\"4828\"},{\"id\":\"4832\"},{\"id\":\"4847\"}],\"left\":[{\"id\":\"4829\"}],\"renderers\":[{\"id\":\"4852\"},{\"id\":\"4859\"},{\"id\":\"4866\"}],\"title\":{\"id\":\"4816\"},\"toolbar\":{\"id\":\"4840\"},\"x_range\":{\"id\":\"4818\"},\"x_scale\":{\"id\":\"4822\"},\"y_range\":{\"id\":\"4820\"},\"y_scale\":{\"id\":\"4824\"}},\"id\":\"4815\",\"subtype\":\"Figure\",\"type\":\"Plot\"},{\"attributes\":{},\"id\":\"5069\",\"type\":\"UnionRenderers\"},{\"attributes\":{\"overlay\":{\"id\":\"4839\"}},\"id\":\"4835\",\"type\":\"BoxZoomTool\"},{\"attributes\":{},\"id\":\"4833\",\"type\":\"PanTool\"},{\"attributes\":{},\"id\":\"4838\",\"type\":\"HelpTool\"},{\"attributes\":{\"source\":{\"id\":\"4862\"}},\"id\":\"4867\",\"type\":\"CDSView\"},{\"attributes\":{},\"id\":\"5065\",\"type\":\"UnionRenderers\"},{\"attributes\":{\"data\":{\"fill_color\":[\"red\",\"blue\"],\"hatch_color\":[\"red\",\"blue\"],\"line_color\":[\"red\",\"blue\"],\"top\":[1949,8051],\"x\":[\"True\",\"False\"]},\"selected\":{\"id\":\"5070\"},\"selection_policy\":{\"id\":\"5069\"}},\"id\":\"4862\",\"type\":\"ColumnDataSource\"},{\"attributes\":{\"label\":{\"value\":\"Morreu\"},\"renderers\":[{\"id\":\"4859\"}]},\"id\":\"4861\",\"type\":\"LegendItem\"},{\"attributes\":{\"bottom_units\":\"screen\",\"coordinates\":null,\"fill_alpha\":0.5,\"fill_color\":\"lightgrey\",\"group\":null,\"left_units\":\"screen\",\"level\":\"overlay\",\"line_alpha\":1.0,\"line_color\":\"black\",\"line_dash\":[4,4],\"line_width\":2,\"right_units\":\"screen\",\"syncable\":false,\"top_units\":\"screen\"},\"id\":\"4839\",\"type\":\"BoxAnnotation\"},{\"attributes\":{},\"id\":\"4830\",\"type\":\"BasicTicker\"},{\"attributes\":{},\"id\":\"4820\",\"type\":\"DataRange1d\"},{\"attributes\":{},\"id\":\"5066\",\"type\":\"Selection\"},{\"attributes\":{\"tools\":[{\"id\":\"4833\"},{\"id\":\"4834\"},{\"id\":\"4835\"},{\"id\":\"4836\"},{\"id\":\"4837\"},{\"id\":\"4838\"}]},\"id\":\"4840\",\"type\":\"Toolbar\"},{\"attributes\":{},\"id\":\"4834\",\"type\":\"WheelZoomTool\"},{\"attributes\":{},\"id\":\"5070\",\"type\":\"Selection\"},{\"attributes\":{\"axis_label\":\"Conseguiu\",\"coordinates\":null,\"formatter\":{\"id\":\"5060\"},\"group\":null,\"major_label_policy\":{\"id\":\"5061\"},\"ticker\":{\"id\":\"4830\"}},\"id\":\"4829\",\"type\":\"LinearAxis\"},{\"attributes\":{\"axis\":{\"id\":\"4829\"},\"coordinates\":null,\"dimension\":1,\"group\":null,\"ticker\":null},\"id\":\"4832\",\"type\":\"Grid\"},{\"attributes\":{\"data\":{},\"selected\":{\"id\":\"5068\"},\"selection_policy\":{\"id\":\"5067\"}},\"id\":\"4855\",\"type\":\"ColumnDataSource\"},{\"attributes\":{},\"id\":\"4837\",\"type\":\"ResetTool\"},{\"attributes\":{},\"id\":\"4836\",\"type\":\"SaveTool\"},{\"attributes\":{\"label\":{\"value\":\"Ganhou\"},\"renderers\":[{\"id\":\"4852\"}]},\"id\":\"4854\",\"type\":\"LegendItem\"},{\"attributes\":{\"coordinates\":null,\"data_source\":{\"id\":\"4848\"},\"glyph\":{\"id\":\"4849\"},\"group\":null,\"hover_glyph\":null,\"muted_glyph\":{\"id\":\"4851\"},\"nonselection_glyph\":{\"id\":\"4850\"},\"view\":{\"id\":\"4853\"}},\"id\":\"4852\",\"type\":\"GlyphRenderer\"},{\"attributes\":{\"axis\":{\"id\":\"4826\"},\"coordinates\":null,\"group\":null,\"ticker\":null},\"id\":\"4828\",\"type\":\"Grid\"},{\"attributes\":{},\"id\":\"5060\",\"type\":\"BasicTickFormatter\"},{\"attributes\":{\"coordinates\":null,\"group\":null,\"text\":\"Sem trocar a escolha\"},\"id\":\"4816\",\"type\":\"Title\"},{\"attributes\":{\"fill_alpha\":{\"value\":0.2},\"fill_color\":{\"value\":\"red\"},\"hatch_alpha\":{\"value\":0.2},\"line_alpha\":{\"value\":0.2},\"line_color\":{\"value\":null},\"x\":{\"value\":0},\"y\":{\"value\":0}},\"id\":\"4851\",\"type\":\"Rect\"},{\"attributes\":{},\"id\":\"5067\",\"type\":\"UnionRenderers\"},{\"attributes\":{\"fill_alpha\":{\"value\":0.1},\"fill_color\":{\"value\":\"red\"},\"hatch_alpha\":{\"value\":0.1},\"line_alpha\":{\"value\":0.1},\"line_color\":{\"value\":null},\"x\":{\"value\":0},\"y\":{\"value\":0}},\"id\":\"4850\",\"type\":\"Rect\"},{\"attributes\":{\"source\":{\"id\":\"4848\"}},\"id\":\"4853\",\"type\":\"CDSView\"},{\"attributes\":{\"data\":{},\"selected\":{\"id\":\"5066\"},\"selection_policy\":{\"id\":\"5065\"}},\"id\":\"4848\",\"type\":\"ColumnDataSource\"},{\"attributes\":{},\"id\":\"4824\",\"type\":\"LinearScale\"},{\"attributes\":{\"fill_alpha\":{\"value\":0.1},\"fill_color\":{\"field\":\"fill_color\"},\"hatch_alpha\":{\"value\":0.1},\"hatch_color\":{\"field\":\"hatch_color\"},\"line_alpha\":{\"value\":0.1},\"line_color\":{\"field\":\"line_color\"},\"top\":{\"field\":\"top\"},\"width\":{\"value\":0.5},\"x\":{\"field\":\"x\"}},\"id\":\"4864\",\"type\":\"VBar\"},{\"attributes\":{},\"id\":\"4822\",\"type\":\"CategoricalScale\"},{\"attributes\":{\"source\":{\"id\":\"4855\"}},\"id\":\"4860\",\"type\":\"CDSView\"},{\"attributes\":{},\"id\":\"4827\",\"type\":\"CategoricalTicker\"},{\"attributes\":{\"fill_color\":{\"value\":\"red\"},\"line_color\":{\"value\":null},\"x\":{\"value\":0},\"y\":{\"value\":0}},\"id\":\"4849\",\"type\":\"Rect\"},{\"attributes\":{\"factors\":[\"True\",\"False\"]},\"id\":\"4818\",\"type\":\"FactorRange\"},{\"attributes\":{},\"id\":\"5061\",\"type\":\"AllLabels\"},{\"attributes\":{},\"id\":\"5068\",\"type\":\"Selection\"},{\"attributes\":{\"coordinates\":null,\"data_source\":{\"id\":\"4862\"},\"glyph\":{\"id\":\"4863\"},\"group\":null,\"hover_glyph\":null,\"muted_glyph\":{\"id\":\"4865\"},\"nonselection_glyph\":{\"id\":\"4864\"},\"view\":{\"id\":\"4867\"}},\"id\":\"4866\",\"type\":\"GlyphRenderer\"},{\"attributes\":{},\"id\":\"5063\",\"type\":\"CategoricalTickFormatter\"},{\"attributes\":{\"coordinates\":null,\"data_source\":{\"id\":\"4855\"},\"glyph\":{\"id\":\"4856\"},\"group\":null,\"hover_glyph\":null,\"muted_glyph\":{\"id\":\"4858\"},\"nonselection_glyph\":{\"id\":\"4857\"},\"view\":{\"id\":\"4860\"}},\"id\":\"4859\",\"type\":\"GlyphRenderer\"},{\"attributes\":{},\"id\":\"5064\",\"type\":\"AllLabels\"},{\"attributes\":{\"axis_label\":\"Contagem\",\"coordinates\":null,\"formatter\":{\"id\":\"5063\"},\"group\":null,\"major_label_orientation\":0.8,\"major_label_policy\":{\"id\":\"5064\"},\"ticker\":{\"id\":\"4827\"}},\"id\":\"4826\",\"type\":\"CategoricalAxis\"},{\"attributes\":{\"fill_alpha\":{\"value\":0.2},\"fill_color\":{\"field\":\"fill_color\"},\"hatch_alpha\":{\"value\":0.2},\"hatch_color\":{\"field\":\"hatch_color\"},\"line_alpha\":{\"value\":0.2},\"line_color\":{\"field\":\"line_color\"},\"top\":{\"field\":\"top\"},\"width\":{\"value\":0.5},\"x\":{\"field\":\"x\"}},\"id\":\"4865\",\"type\":\"VBar\"},{\"attributes\":{\"fill_color\":{\"field\":\"fill_color\"},\"hatch_color\":{\"field\":\"hatch_color\"},\"line_color\":{\"field\":\"line_color\"},\"top\":{\"field\":\"top\"},\"width\":{\"value\":0.5},\"x\":{\"field\":\"x\"}},\"id\":\"4863\",\"type\":\"VBar\"},{\"attributes\":{\"fill_alpha\":{\"value\":0.1},\"fill_color\":{\"value\":\"blue\"},\"hatch_alpha\":{\"value\":0.1},\"line_alpha\":{\"value\":0.1},\"line_color\":{\"value\":null},\"x\":{\"value\":0},\"y\":{\"value\":0}},\"id\":\"4857\",\"type\":\"Rect\"},{\"attributes\":{\"fill_alpha\":{\"value\":0.2},\"fill_color\":{\"value\":\"blue\"},\"hatch_alpha\":{\"value\":0.2},\"line_alpha\":{\"value\":0.2},\"line_color\":{\"value\":null},\"x\":{\"value\":0},\"y\":{\"value\":0}},\"id\":\"4858\",\"type\":\"Rect\"},{\"attributes\":{\"coordinates\":null,\"group\":null,\"items\":[{\"id\":\"4854\"},{\"id\":\"4861\"}]},\"id\":\"4847\",\"type\":\"Legend\"},{\"attributes\":{\"fill_color\":{\"value\":\"blue\"},\"line_color\":{\"value\":null},\"x\":{\"value\":0},\"y\":{\"value\":0}},\"id\":\"4856\",\"type\":\"Rect\"}],\"root_ids\":[\"4815\"]},\"title\":\"Bokeh Application\",\"version\":\"2.4.3\"}};\n  const render_items = [{\"docid\":\"4e18bba6-450a-41b6-a80b-54dad0aac599\",\"root_ids\":[\"4815\"],\"roots\":{\"4815\":\"0ebb05b2-8931-466c-b8b2-85dc5bb5a7e5\"}}];\n  root.Bokeh.embed.embed_items_notebook(docs_json, render_items);\n  }\n  if (root.Bokeh !== undefined) {\n    embed_document(root);\n  } else {\n    let attempts = 0;\n    const timer = setInterval(function(root) {\n      if (root.Bokeh !== undefined) {\n        clearInterval(timer);\n        embed_document(root);\n      } else {\n        attempts++;\n        if (attempts > 100) {\n          clearInterval(timer);\n          console.log(\"Bokeh: ERROR: Unable to run BokehJS code because BokehJS library is missing\");\n        }\n      }\n    }, 10, root)\n  }\n})(window);",
      "application/vnd.bokehjs_exec.v0+json": ""
     },
     "metadata": {
      "application/vnd.bokehjs_exec.v0+json": {
       "id": "4815"
      }
     },
     "output_type": "display_data"
    }
   ],
   "source": [
    "y = []\n",
    "\n",
    "y.append(Sem_trocar.count(True))\n",
    "y.append(Sem_trocar.count(False))\n",
    "\n",
    "grafico_barras(['True', 'False'], y, 'Sem trocar a escolha', ['Contagem', 'Conseguiu'], LEGENDAS_COLORS = ['red', 'blue'], LEGENDAS = ['Ganhou', 'Morreu'], COLORS=['red', 'blue'], LG = True)"
   ]
  },
  {
   "cell_type": "code",
   "execution_count": 62,
   "metadata": {},
   "outputs": [
    {
     "data": {
      "text/html": [
       "<div class=\"bk-root\">\n",
       "        <a href=\"https://bokeh.org\" target=\"_blank\" class=\"bk-logo bk-logo-small bk-logo-notebook\"></a>\n",
       "        <span id=\"3750\">Loading BokehJS ...</span>\n",
       "    </div>\n"
      ]
     },
     "metadata": {},
     "output_type": "display_data"
    },
    {
     "data": {
      "application/javascript": "(function(root) {\n  function now() {\n    return new Date();\n  }\n\n  const force = true;\n\n  if (typeof root._bokeh_onload_callbacks === \"undefined\" || force === true) {\n    root._bokeh_onload_callbacks = [];\n    root._bokeh_is_loading = undefined;\n  }\n\nconst JS_MIME_TYPE = 'application/javascript';\n  const HTML_MIME_TYPE = 'text/html';\n  const EXEC_MIME_TYPE = 'application/vnd.bokehjs_exec.v0+json';\n  const CLASS_NAME = 'output_bokeh rendered_html';\n\n  /**\n   * Render data to the DOM node\n   */\n  function render(props, node) {\n    const script = document.createElement(\"script\");\n    node.appendChild(script);\n  }\n\n  /**\n   * Handle when an output is cleared or removed\n   */\n  function handleClearOutput(event, handle) {\n    const cell = handle.cell;\n\n    const id = cell.output_area._bokeh_element_id;\n    const server_id = cell.output_area._bokeh_server_id;\n    // Clean up Bokeh references\n    if (id != null && id in Bokeh.index) {\n      Bokeh.index[id].model.document.clear();\n      delete Bokeh.index[id];\n    }\n\n    if (server_id !== undefined) {\n      // Clean up Bokeh references\n      const cmd_clean = \"from bokeh.io.state import curstate; print(curstate().uuid_to_server['\" + server_id + \"'].get_sessions()[0].document.roots[0]._id)\";\n      cell.notebook.kernel.execute(cmd_clean, {\n        iopub: {\n          output: function(msg) {\n            const id = msg.content.text.trim();\n            if (id in Bokeh.index) {\n              Bokeh.index[id].model.document.clear();\n              delete Bokeh.index[id];\n            }\n          }\n        }\n      });\n      // Destroy server and session\n      const cmd_destroy = \"import bokeh.io.notebook as ion; ion.destroy_server('\" + server_id + \"')\";\n      cell.notebook.kernel.execute(cmd_destroy);\n    }\n  }\n\n  /**\n   * Handle when a new output is added\n   */\n  function handleAddOutput(event, handle) {\n    const output_area = handle.output_area;\n    const output = handle.output;\n\n    // limit handleAddOutput to display_data with EXEC_MIME_TYPE content only\n    if ((output.output_type != \"display_data\") || (!Object.prototype.hasOwnProperty.call(output.data, EXEC_MIME_TYPE))) {\n      return\n    }\n\n    const toinsert = output_area.element.find(\".\" + CLASS_NAME.split(' ')[0]);\n\n    if (output.metadata[EXEC_MIME_TYPE][\"id\"] !== undefined) {\n      toinsert[toinsert.length - 1].firstChild.textContent = output.data[JS_MIME_TYPE];\n      // store reference to embed id on output_area\n      output_area._bokeh_element_id = output.metadata[EXEC_MIME_TYPE][\"id\"];\n    }\n    if (output.metadata[EXEC_MIME_TYPE][\"server_id\"] !== undefined) {\n      const bk_div = document.createElement(\"div\");\n      bk_div.innerHTML = output.data[HTML_MIME_TYPE];\n      const script_attrs = bk_div.children[0].attributes;\n      for (let i = 0; i < script_attrs.length; i++) {\n        toinsert[toinsert.length - 1].firstChild.setAttribute(script_attrs[i].name, script_attrs[i].value);\n        toinsert[toinsert.length - 1].firstChild.textContent = bk_div.children[0].textContent\n      }\n      // store reference to server id on output_area\n      output_area._bokeh_server_id = output.metadata[EXEC_MIME_TYPE][\"server_id\"];\n    }\n  }\n\n  function register_renderer(events, OutputArea) {\n\n    function append_mime(data, metadata, element) {\n      // create a DOM node to render to\n      const toinsert = this.create_output_subarea(\n        metadata,\n        CLASS_NAME,\n        EXEC_MIME_TYPE\n      );\n      this.keyboard_manager.register_events(toinsert);\n      // Render to node\n      const props = {data: data, metadata: metadata[EXEC_MIME_TYPE]};\n      render(props, toinsert[toinsert.length - 1]);\n      element.append(toinsert);\n      return toinsert\n    }\n\n    /* Handle when an output is cleared or removed */\n    events.on('clear_output.CodeCell', handleClearOutput);\n    events.on('delete.Cell', handleClearOutput);\n\n    /* Handle when a new output is added */\n    events.on('output_added.OutputArea', handleAddOutput);\n\n    /**\n     * Register the mime type and append_mime function with output_area\n     */\n    OutputArea.prototype.register_mime_type(EXEC_MIME_TYPE, append_mime, {\n      /* Is output safe? */\n      safe: true,\n      /* Index of renderer in `output_area.display_order` */\n      index: 0\n    });\n  }\n\n  // register the mime type if in Jupyter Notebook environment and previously unregistered\n  if (root.Jupyter !== undefined) {\n    const events = require('base/js/events');\n    const OutputArea = require('notebook/js/outputarea').OutputArea;\n\n    if (OutputArea.prototype.mime_types().indexOf(EXEC_MIME_TYPE) == -1) {\n      register_renderer(events, OutputArea);\n    }\n  }\n  if (typeof (root._bokeh_timeout) === \"undefined\" || force === true) {\n    root._bokeh_timeout = Date.now() + 5000;\n    root._bokeh_failed_load = false;\n  }\n\n  const NB_LOAD_WARNING = {'data': {'text/html':\n     \"<div style='background-color: #fdd'>\\n\"+\n     \"<p>\\n\"+\n     \"BokehJS does not appear to have successfully loaded. If loading BokehJS from CDN, this \\n\"+\n     \"may be due to a slow or bad network connection. Possible fixes:\\n\"+\n     \"</p>\\n\"+\n     \"<ul>\\n\"+\n     \"<li>re-rerun `output_notebook()` to attempt to load from CDN again, or</li>\\n\"+\n     \"<li>use INLINE resources instead, as so:</li>\\n\"+\n     \"</ul>\\n\"+\n     \"<code>\\n\"+\n     \"from bokeh.resources import INLINE\\n\"+\n     \"output_notebook(resources=INLINE)\\n\"+\n     \"</code>\\n\"+\n     \"</div>\"}};\n\n  function display_loaded() {\n    const el = document.getElementById(\"3750\");\n    if (el != null) {\n      el.textContent = \"BokehJS is loading...\";\n    }\n    if (root.Bokeh !== undefined) {\n      if (el != null) {\n        el.textContent = \"BokehJS \" + root.Bokeh.version + \" successfully loaded.\";\n      }\n    } else if (Date.now() < root._bokeh_timeout) {\n      setTimeout(display_loaded, 100)\n    }\n  }\n\n  function run_callbacks() {\n    try {\n      root._bokeh_onload_callbacks.forEach(function(callback) {\n        if (callback != null)\n          callback();\n      });\n    } finally {\n      delete root._bokeh_onload_callbacks\n    }\n    console.debug(\"Bokeh: all callbacks have finished\");\n  }\n\n  function load_libs(css_urls, js_urls, callback) {\n    if (css_urls == null) css_urls = [];\n    if (js_urls == null) js_urls = [];\n\n    root._bokeh_onload_callbacks.push(callback);\n    if (root._bokeh_is_loading > 0) {\n      console.debug(\"Bokeh: BokehJS is being loaded, scheduling callback at\", now());\n      return null;\n    }\n    if (js_urls == null || js_urls.length === 0) {\n      run_callbacks();\n      return null;\n    }\n    console.debug(\"Bokeh: BokehJS not loaded, scheduling load and callback at\", now());\n    root._bokeh_is_loading = css_urls.length + js_urls.length;\n\n    function on_load() {\n      root._bokeh_is_loading--;\n      if (root._bokeh_is_loading === 0) {\n        console.debug(\"Bokeh: all BokehJS libraries/stylesheets loaded\");\n        run_callbacks()\n      }\n    }\n\n    function on_error(url) {\n      console.error(\"failed to load \" + url);\n    }\n\n    for (let i = 0; i < css_urls.length; i++) {\n      const url = css_urls[i];\n      const element = document.createElement(\"link\");\n      element.onload = on_load;\n      element.onerror = on_error.bind(null, url);\n      element.rel = \"stylesheet\";\n      element.type = \"text/css\";\n      element.href = url;\n      console.debug(\"Bokeh: injecting link tag for BokehJS stylesheet: \", url);\n      document.body.appendChild(element);\n    }\n\n    for (let i = 0; i < js_urls.length; i++) {\n      const url = js_urls[i];\n      const element = document.createElement('script');\n      element.onload = on_load;\n      element.onerror = on_error.bind(null, url);\n      element.async = false;\n      element.src = url;\n      console.debug(\"Bokeh: injecting script tag for BokehJS library: \", url);\n      document.head.appendChild(element);\n    }\n  };\n\n  function inject_raw_css(css) {\n    const element = document.createElement(\"style\");\n    element.appendChild(document.createTextNode(css));\n    document.body.appendChild(element);\n  }\n\n  const js_urls = [\"https://cdn.bokeh.org/bokeh/release/bokeh-2.4.3.min.js\", \"https://cdn.bokeh.org/bokeh/release/bokeh-gl-2.4.3.min.js\", \"https://cdn.bokeh.org/bokeh/release/bokeh-widgets-2.4.3.min.js\", \"https://cdn.bokeh.org/bokeh/release/bokeh-tables-2.4.3.min.js\", \"https://cdn.bokeh.org/bokeh/release/bokeh-mathjax-2.4.3.min.js\"];\n  const css_urls = [];\n\n  const inline_js = [    function(Bokeh) {\n      Bokeh.set_log_level(\"info\");\n    },\nfunction(Bokeh) {\n    }\n  ];\n\n  function run_inline_js() {\n    if (root.Bokeh !== undefined || force === true) {\n          for (let i = 0; i < inline_js.length; i++) {\n      inline_js[i].call(root, root.Bokeh);\n    }\nif (force === true) {\n        display_loaded();\n      }} else if (Date.now() < root._bokeh_timeout) {\n      setTimeout(run_inline_js, 100);\n    } else if (!root._bokeh_failed_load) {\n      console.log(\"Bokeh: BokehJS failed to load within specified timeout.\");\n      root._bokeh_failed_load = true;\n    } else if (force !== true) {\n      const cell = $(document.getElementById(\"3750\")).parents('.cell').data().cell;\n      cell.output_area.append_execute_result(NB_LOAD_WARNING)\n    }\n  }\n\n  if (root._bokeh_is_loading === 0) {\n    console.debug(\"Bokeh: BokehJS loaded, going straight to plotting\");\n    run_inline_js();\n  } else {\n    load_libs(css_urls, js_urls, function() {\n      console.debug(\"Bokeh: BokehJS plotting callback run at\", now());\n      run_inline_js();\n    });\n  }\n}(window));",
      "application/vnd.bokehjs_load.v0+json": ""
     },
     "metadata": {},
     "output_type": "display_data"
    },
    {
     "data": {
      "text/html": [
       "\n",
       "  <div class=\"bk-root\" id=\"08ed502d-9ab0-44b0-8940-2205c0a88c63\" data-root-id=\"3708\"></div>\n"
      ]
     },
     "metadata": {},
     "output_type": "display_data"
    },
    {
     "data": {
      "application/javascript": "(function(root) {\n  function embed_document(root) {\n  const docs_json = {\"8ed49ff9-9801-4b5d-a273-566d503ce73f\":{\"defs\":[],\"roots\":{\"references\":[{\"attributes\":{\"below\":[{\"id\":\"3719\"}],\"center\":[{\"id\":\"3722\"},{\"id\":\"3726\"},{\"id\":\"3748\"}],\"height\":350,\"left\":[{\"id\":\"3723\"}],\"renderers\":[{\"id\":\"3737\"}],\"title\":{\"id\":\"3709\"},\"toolbar\":{\"id\":\"3728\"},\"toolbar_location\":null,\"x_range\":{\"id\":\"3711\"},\"x_scale\":{\"id\":\"3715\"},\"y_range\":{\"id\":\"3713\"},\"y_scale\":{\"id\":\"3717\"}},\"id\":\"3708\",\"subtype\":\"Figure\",\"type\":\"Plot\"},{\"attributes\":{},\"id\":\"3741\",\"type\":\"BasicTickFormatter\"},{\"attributes\":{},\"id\":\"3742\",\"type\":\"AllLabels\"},{\"attributes\":{\"coordinates\":null,\"data_source\":{\"id\":\"3732\"},\"glyph\":{\"id\":\"3734\"},\"group\":null,\"hover_glyph\":null,\"muted_glyph\":{\"id\":\"3736\"},\"nonselection_glyph\":{\"id\":\"3735\"},\"view\":{\"id\":\"3738\"}},\"id\":\"3737\",\"type\":\"GlyphRenderer\"},{\"attributes\":{\"coordinates\":null,\"group\":null,\"items\":[{\"id\":\"3749\"}]},\"id\":\"3748\",\"type\":\"Legend\"},{\"attributes\":{\"end_angle\":{\"expr\":{\"id\":\"3731\"}},\"fill_color\":{\"field\":\"color\"},\"line_color\":{\"value\":\"white\"},\"radius\":{\"value\":0.4},\"start_angle\":{\"expr\":{\"id\":\"3730\"}},\"x\":{\"value\":0},\"y\":{\"value\":1}},\"id\":\"3734\",\"type\":\"Wedge\"},{\"attributes\":{},\"id\":\"3744\",\"type\":\"BasicTickFormatter\"},{\"attributes\":{\"start\":-0.5},\"id\":\"3711\",\"type\":\"Range1d\"},{\"attributes\":{\"tools\":[{\"id\":\"3727\"}]},\"id\":\"3728\",\"type\":\"Toolbar\"},{\"attributes\":{\"end_angle\":{\"expr\":{\"id\":\"3731\"}},\"fill_alpha\":{\"value\":0.2},\"fill_color\":{\"field\":\"color\"},\"hatch_alpha\":{\"value\":0.2},\"line_alpha\":{\"value\":0.2},\"line_color\":{\"value\":\"white\"},\"radius\":{\"value\":0.4},\"start_angle\":{\"expr\":{\"id\":\"3730\"}},\"x\":{\"value\":0},\"y\":{\"value\":1}},\"id\":\"3736\",\"type\":\"Wedge\"},{\"attributes\":{\"data\":{\"angle\":{\"__ndarray__\":\"bpcQ6jMy8j88B8BZbpUUQA==\",\"dtype\":\"float64\",\"order\":\"little\",\"shape\":[2]},\"color\":[\"red\",\"blue\"],\"index\":[0,1],\"label\":[\"True\",\"False\"],\"value\":[1810,8190]},\"selected\":{\"id\":\"3747\"},\"selection_policy\":{\"id\":\"3746\"}},\"id\":\"3732\",\"type\":\"ColumnDataSource\"},{\"attributes\":{},\"id\":\"3745\",\"type\":\"AllLabels\"},{\"attributes\":{\"field\":\"angle\",\"include_zero\":true},\"id\":\"3730\",\"type\":\"CumSum\"},{\"attributes\":{},\"id\":\"3717\",\"type\":\"LinearScale\"},{\"attributes\":{\"coordinates\":null,\"formatter\":{\"id\":\"3744\"},\"group\":null,\"major_label_policy\":{\"id\":\"3745\"},\"ticker\":{\"id\":\"3720\"},\"visible\":false},\"id\":\"3719\",\"type\":\"LinearAxis\"},{\"attributes\":{},\"id\":\"3746\",\"type\":\"UnionRenderers\"},{\"attributes\":{},\"id\":\"3713\",\"type\":\"DataRange1d\"},{\"attributes\":{},\"id\":\"3747\",\"type\":\"Selection\"},{\"attributes\":{},\"id\":\"3715\",\"type\":\"LinearScale\"},{\"attributes\":{\"label\":{\"field\":\"label\"},\"renderers\":[{\"id\":\"3737\"}]},\"id\":\"3749\",\"type\":\"LegendItem\"},{\"attributes\":{\"coordinates\":null,\"group\":null,\"text\":\"teste\"},\"id\":\"3709\",\"type\":\"Title\"},{\"attributes\":{\"coordinates\":null,\"formatter\":{\"id\":\"3741\"},\"group\":null,\"major_label_policy\":{\"id\":\"3742\"},\"ticker\":{\"id\":\"3724\"},\"visible\":false},\"id\":\"3723\",\"type\":\"LinearAxis\"},{\"attributes\":{\"end_angle\":{\"expr\":{\"id\":\"3731\"}},\"fill_alpha\":{\"value\":0.1},\"fill_color\":{\"field\":\"color\"},\"hatch_alpha\":{\"value\":0.1},\"line_alpha\":{\"value\":0.1},\"line_color\":{\"value\":\"white\"},\"radius\":{\"value\":0.4},\"start_angle\":{\"expr\":{\"id\":\"3730\"}},\"x\":{\"value\":0},\"y\":{\"value\":1}},\"id\":\"3735\",\"type\":\"Wedge\"},{\"attributes\":{\"source\":{\"id\":\"3732\"}},\"id\":\"3738\",\"type\":\"CDSView\"},{\"attributes\":{},\"id\":\"3720\",\"type\":\"BasicTicker\"},{\"attributes\":{\"field\":\"angle\"},\"id\":\"3731\",\"type\":\"CumSum\"},{\"attributes\":{\"axis\":{\"id\":\"3719\"},\"coordinates\":null,\"grid_line_color\":null,\"group\":null,\"ticker\":null},\"id\":\"3722\",\"type\":\"Grid\"},{\"attributes\":{\"axis\":{\"id\":\"3723\"},\"coordinates\":null,\"dimension\":1,\"grid_line_color\":null,\"group\":null,\"ticker\":null},\"id\":\"3726\",\"type\":\"Grid\"},{\"attributes\":{},\"id\":\"3724\",\"type\":\"BasicTicker\"},{\"attributes\":{\"callback\":null,\"tooltips\":\"@label: @value\"},\"id\":\"3727\",\"type\":\"HoverTool\"}],\"root_ids\":[\"3708\"]},\"title\":\"Bokeh Application\",\"version\":\"2.4.3\"}};\n  const render_items = [{\"docid\":\"8ed49ff9-9801-4b5d-a273-566d503ce73f\",\"root_ids\":[\"3708\"],\"roots\":{\"3708\":\"08ed502d-9ab0-44b0-8940-2205c0a88c63\"}}];\n  root.Bokeh.embed.embed_items_notebook(docs_json, render_items);\n  }\n  if (root.Bokeh !== undefined) {\n    embed_document(root);\n  } else {\n    let attempts = 0;\n    const timer = setInterval(function(root) {\n      if (root.Bokeh !== undefined) {\n        clearInterval(timer);\n        embed_document(root);\n      } else {\n        attempts++;\n        if (attempts > 100) {\n          clearInterval(timer);\n          console.log(\"Bokeh: ERROR: Unable to run BokehJS code because BokehJS library is missing\");\n        }\n      }\n    }, 10, root)\n  }\n})(window);",
      "application/vnd.bokehjs_exec.v0+json": ""
     },
     "metadata": {
      "application/vnd.bokehjs_exec.v0+json": {
       "id": "3708"
      }
     },
     "output_type": "display_data"
    }
   ],
   "source": [
    "grafico_pizza(Trocando, 'teste', ['True', 'False'])"
   ]
  },
  {
   "cell_type": "code",
   "execution_count": 67,
   "metadata": {},
   "outputs": [
    {
     "data": {
      "text/html": [
       "<div class=\"bk-root\">\n",
       "        <a href=\"https://bokeh.org\" target=\"_blank\" class=\"bk-logo bk-logo-small bk-logo-notebook\"></a>\n",
       "        <span id=\"5142\">Loading BokehJS ...</span>\n",
       "    </div>\n"
      ]
     },
     "metadata": {},
     "output_type": "display_data"
    },
    {
     "data": {
      "application/javascript": "(function(root) {\n  function now() {\n    return new Date();\n  }\n\n  const force = true;\n\n  if (typeof root._bokeh_onload_callbacks === \"undefined\" || force === true) {\n    root._bokeh_onload_callbacks = [];\n    root._bokeh_is_loading = undefined;\n  }\n\nconst JS_MIME_TYPE = 'application/javascript';\n  const HTML_MIME_TYPE = 'text/html';\n  const EXEC_MIME_TYPE = 'application/vnd.bokehjs_exec.v0+json';\n  const CLASS_NAME = 'output_bokeh rendered_html';\n\n  /**\n   * Render data to the DOM node\n   */\n  function render(props, node) {\n    const script = document.createElement(\"script\");\n    node.appendChild(script);\n  }\n\n  /**\n   * Handle when an output is cleared or removed\n   */\n  function handleClearOutput(event, handle) {\n    const cell = handle.cell;\n\n    const id = cell.output_area._bokeh_element_id;\n    const server_id = cell.output_area._bokeh_server_id;\n    // Clean up Bokeh references\n    if (id != null && id in Bokeh.index) {\n      Bokeh.index[id].model.document.clear();\n      delete Bokeh.index[id];\n    }\n\n    if (server_id !== undefined) {\n      // Clean up Bokeh references\n      const cmd_clean = \"from bokeh.io.state import curstate; print(curstate().uuid_to_server['\" + server_id + \"'].get_sessions()[0].document.roots[0]._id)\";\n      cell.notebook.kernel.execute(cmd_clean, {\n        iopub: {\n          output: function(msg) {\n            const id = msg.content.text.trim();\n            if (id in Bokeh.index) {\n              Bokeh.index[id].model.document.clear();\n              delete Bokeh.index[id];\n            }\n          }\n        }\n      });\n      // Destroy server and session\n      const cmd_destroy = \"import bokeh.io.notebook as ion; ion.destroy_server('\" + server_id + \"')\";\n      cell.notebook.kernel.execute(cmd_destroy);\n    }\n  }\n\n  /**\n   * Handle when a new output is added\n   */\n  function handleAddOutput(event, handle) {\n    const output_area = handle.output_area;\n    const output = handle.output;\n\n    // limit handleAddOutput to display_data with EXEC_MIME_TYPE content only\n    if ((output.output_type != \"display_data\") || (!Object.prototype.hasOwnProperty.call(output.data, EXEC_MIME_TYPE))) {\n      return\n    }\n\n    const toinsert = output_area.element.find(\".\" + CLASS_NAME.split(' ')[0]);\n\n    if (output.metadata[EXEC_MIME_TYPE][\"id\"] !== undefined) {\n      toinsert[toinsert.length - 1].firstChild.textContent = output.data[JS_MIME_TYPE];\n      // store reference to embed id on output_area\n      output_area._bokeh_element_id = output.metadata[EXEC_MIME_TYPE][\"id\"];\n    }\n    if (output.metadata[EXEC_MIME_TYPE][\"server_id\"] !== undefined) {\n      const bk_div = document.createElement(\"div\");\n      bk_div.innerHTML = output.data[HTML_MIME_TYPE];\n      const script_attrs = bk_div.children[0].attributes;\n      for (let i = 0; i < script_attrs.length; i++) {\n        toinsert[toinsert.length - 1].firstChild.setAttribute(script_attrs[i].name, script_attrs[i].value);\n        toinsert[toinsert.length - 1].firstChild.textContent = bk_div.children[0].textContent\n      }\n      // store reference to server id on output_area\n      output_area._bokeh_server_id = output.metadata[EXEC_MIME_TYPE][\"server_id\"];\n    }\n  }\n\n  function register_renderer(events, OutputArea) {\n\n    function append_mime(data, metadata, element) {\n      // create a DOM node to render to\n      const toinsert = this.create_output_subarea(\n        metadata,\n        CLASS_NAME,\n        EXEC_MIME_TYPE\n      );\n      this.keyboard_manager.register_events(toinsert);\n      // Render to node\n      const props = {data: data, metadata: metadata[EXEC_MIME_TYPE]};\n      render(props, toinsert[toinsert.length - 1]);\n      element.append(toinsert);\n      return toinsert\n    }\n\n    /* Handle when an output is cleared or removed */\n    events.on('clear_output.CodeCell', handleClearOutput);\n    events.on('delete.Cell', handleClearOutput);\n\n    /* Handle when a new output is added */\n    events.on('output_added.OutputArea', handleAddOutput);\n\n    /**\n     * Register the mime type and append_mime function with output_area\n     */\n    OutputArea.prototype.register_mime_type(EXEC_MIME_TYPE, append_mime, {\n      /* Is output safe? */\n      safe: true,\n      /* Index of renderer in `output_area.display_order` */\n      index: 0\n    });\n  }\n\n  // register the mime type if in Jupyter Notebook environment and previously unregistered\n  if (root.Jupyter !== undefined) {\n    const events = require('base/js/events');\n    const OutputArea = require('notebook/js/outputarea').OutputArea;\n\n    if (OutputArea.prototype.mime_types().indexOf(EXEC_MIME_TYPE) == -1) {\n      register_renderer(events, OutputArea);\n    }\n  }\n  if (typeof (root._bokeh_timeout) === \"undefined\" || force === true) {\n    root._bokeh_timeout = Date.now() + 5000;\n    root._bokeh_failed_load = false;\n  }\n\n  const NB_LOAD_WARNING = {'data': {'text/html':\n     \"<div style='background-color: #fdd'>\\n\"+\n     \"<p>\\n\"+\n     \"BokehJS does not appear to have successfully loaded. If loading BokehJS from CDN, this \\n\"+\n     \"may be due to a slow or bad network connection. Possible fixes:\\n\"+\n     \"</p>\\n\"+\n     \"<ul>\\n\"+\n     \"<li>re-rerun `output_notebook()` to attempt to load from CDN again, or</li>\\n\"+\n     \"<li>use INLINE resources instead, as so:</li>\\n\"+\n     \"</ul>\\n\"+\n     \"<code>\\n\"+\n     \"from bokeh.resources import INLINE\\n\"+\n     \"output_notebook(resources=INLINE)\\n\"+\n     \"</code>\\n\"+\n     \"</div>\"}};\n\n  function display_loaded() {\n    const el = document.getElementById(\"5142\");\n    if (el != null) {\n      el.textContent = \"BokehJS is loading...\";\n    }\n    if (root.Bokeh !== undefined) {\n      if (el != null) {\n        el.textContent = \"BokehJS \" + root.Bokeh.version + \" successfully loaded.\";\n      }\n    } else if (Date.now() < root._bokeh_timeout) {\n      setTimeout(display_loaded, 100)\n    }\n  }\n\n  function run_callbacks() {\n    try {\n      root._bokeh_onload_callbacks.forEach(function(callback) {\n        if (callback != null)\n          callback();\n      });\n    } finally {\n      delete root._bokeh_onload_callbacks\n    }\n    console.debug(\"Bokeh: all callbacks have finished\");\n  }\n\n  function load_libs(css_urls, js_urls, callback) {\n    if (css_urls == null) css_urls = [];\n    if (js_urls == null) js_urls = [];\n\n    root._bokeh_onload_callbacks.push(callback);\n    if (root._bokeh_is_loading > 0) {\n      console.debug(\"Bokeh: BokehJS is being loaded, scheduling callback at\", now());\n      return null;\n    }\n    if (js_urls == null || js_urls.length === 0) {\n      run_callbacks();\n      return null;\n    }\n    console.debug(\"Bokeh: BokehJS not loaded, scheduling load and callback at\", now());\n    root._bokeh_is_loading = css_urls.length + js_urls.length;\n\n    function on_load() {\n      root._bokeh_is_loading--;\n      if (root._bokeh_is_loading === 0) {\n        console.debug(\"Bokeh: all BokehJS libraries/stylesheets loaded\");\n        run_callbacks()\n      }\n    }\n\n    function on_error(url) {\n      console.error(\"failed to load \" + url);\n    }\n\n    for (let i = 0; i < css_urls.length; i++) {\n      const url = css_urls[i];\n      const element = document.createElement(\"link\");\n      element.onload = on_load;\n      element.onerror = on_error.bind(null, url);\n      element.rel = \"stylesheet\";\n      element.type = \"text/css\";\n      element.href = url;\n      console.debug(\"Bokeh: injecting link tag for BokehJS stylesheet: \", url);\n      document.body.appendChild(element);\n    }\n\n    for (let i = 0; i < js_urls.length; i++) {\n      const url = js_urls[i];\n      const element = document.createElement('script');\n      element.onload = on_load;\n      element.onerror = on_error.bind(null, url);\n      element.async = false;\n      element.src = url;\n      console.debug(\"Bokeh: injecting script tag for BokehJS library: \", url);\n      document.head.appendChild(element);\n    }\n  };\n\n  function inject_raw_css(css) {\n    const element = document.createElement(\"style\");\n    element.appendChild(document.createTextNode(css));\n    document.body.appendChild(element);\n  }\n\n  const js_urls = [\"https://cdn.bokeh.org/bokeh/release/bokeh-2.4.3.min.js\", \"https://cdn.bokeh.org/bokeh/release/bokeh-gl-2.4.3.min.js\", \"https://cdn.bokeh.org/bokeh/release/bokeh-widgets-2.4.3.min.js\", \"https://cdn.bokeh.org/bokeh/release/bokeh-tables-2.4.3.min.js\", \"https://cdn.bokeh.org/bokeh/release/bokeh-mathjax-2.4.3.min.js\"];\n  const css_urls = [];\n\n  const inline_js = [    function(Bokeh) {\n      Bokeh.set_log_level(\"info\");\n    },\nfunction(Bokeh) {\n    }\n  ];\n\n  function run_inline_js() {\n    if (root.Bokeh !== undefined || force === true) {\n          for (let i = 0; i < inline_js.length; i++) {\n      inline_js[i].call(root, root.Bokeh);\n    }\nif (force === true) {\n        display_loaded();\n      }} else if (Date.now() < root._bokeh_timeout) {\n      setTimeout(run_inline_js, 100);\n    } else if (!root._bokeh_failed_load) {\n      console.log(\"Bokeh: BokehJS failed to load within specified timeout.\");\n      root._bokeh_failed_load = true;\n    } else if (force !== true) {\n      const cell = $(document.getElementById(\"5142\")).parents('.cell').data().cell;\n      cell.output_area.append_execute_result(NB_LOAD_WARNING)\n    }\n  }\n\n  if (root._bokeh_is_loading === 0) {\n    console.debug(\"Bokeh: BokehJS loaded, going straight to plotting\");\n    run_inline_js();\n  } else {\n    load_libs(css_urls, js_urls, function() {\n      console.debug(\"Bokeh: BokehJS plotting callback run at\", now());\n      run_inline_js();\n    });\n  }\n}(window));",
      "application/vnd.bokehjs_load.v0+json": ""
     },
     "metadata": {},
     "output_type": "display_data"
    },
    {
     "data": {
      "text/html": [
       "\n",
       "  <div class=\"bk-root\" id=\"c0bbc2dc-1979-49bd-87ab-a95bba8abdbd\" data-root-id=\"5143\"></div>\n"
      ]
     },
     "metadata": {},
     "output_type": "display_data"
    },
    {
     "data": {
      "application/javascript": "(function(root) {\n  function embed_document(root) {\n  const docs_json = {\"5d21b9b9-ac1a-4ee5-acb1-30bc8433a703\":{\"defs\":[],\"roots\":{\"references\":[{\"attributes\":{\"below\":[{\"id\":\"5154\"}],\"center\":[{\"id\":\"5156\"},{\"id\":\"5160\"},{\"id\":\"5175\"}],\"left\":[{\"id\":\"5157\"}],\"renderers\":[{\"id\":\"5180\"},{\"id\":\"5187\"},{\"id\":\"5194\"}],\"title\":{\"id\":\"5144\"},\"toolbar\":{\"id\":\"5168\"},\"x_range\":{\"id\":\"5146\"},\"x_scale\":{\"id\":\"5150\"},\"y_range\":{\"id\":\"5148\"},\"y_scale\":{\"id\":\"5152\"}},\"id\":\"5143\",\"subtype\":\"Figure\",\"type\":\"Plot\"},{\"attributes\":{},\"id\":\"5411\",\"type\":\"UnionRenderers\"},{\"attributes\":{},\"id\":\"5407\",\"type\":\"UnionRenderers\"},{\"attributes\":{},\"id\":\"5164\",\"type\":\"SaveTool\"},{\"attributes\":{\"fill_alpha\":{\"value\":0.1},\"fill_color\":{\"value\":\"red\"},\"hatch_alpha\":{\"value\":0.1},\"line_alpha\":{\"value\":0.1},\"line_color\":{\"value\":null},\"x\":{\"value\":0},\"y\":{\"value\":0}},\"id\":\"5178\",\"type\":\"Rect\"},{\"attributes\":{\"data\":{},\"selected\":{\"id\":\"5408\"},\"selection_policy\":{\"id\":\"5407\"}},\"id\":\"5176\",\"type\":\"ColumnDataSource\"},{\"attributes\":{\"axis_label\":\"Contagem\",\"coordinates\":null,\"formatter\":{\"id\":\"5405\"},\"group\":null,\"major_label_orientation\":0.8,\"major_label_policy\":{\"id\":\"5406\"},\"ticker\":{\"id\":\"5155\"}},\"id\":\"5154\",\"type\":\"CategoricalAxis\"},{\"attributes\":{\"label\":{\"value\":\"Morreu\"},\"renderers\":[{\"id\":\"5187\"}]},\"id\":\"5189\",\"type\":\"LegendItem\"},{\"attributes\":{},\"id\":\"5408\",\"type\":\"Selection\"},{\"attributes\":{},\"id\":\"5412\",\"type\":\"Selection\"},{\"attributes\":{\"coordinates\":null,\"group\":null,\"text\":\"Trocando a escolha\"},\"id\":\"5144\",\"type\":\"Title\"},{\"attributes\":{\"axis_label\":\"Conseguiu\",\"coordinates\":null,\"formatter\":{\"id\":\"5402\"},\"group\":null,\"major_label_policy\":{\"id\":\"5403\"},\"ticker\":{\"id\":\"5158\"}},\"id\":\"5157\",\"type\":\"LinearAxis\"},{\"attributes\":{},\"id\":\"5162\",\"type\":\"WheelZoomTool\"},{\"attributes\":{},\"id\":\"5155\",\"type\":\"CategoricalTicker\"},{\"attributes\":{\"data\":{\"fill_color\":[\"red\",\"blue\"],\"hatch_color\":[\"red\",\"blue\"],\"line_color\":[\"red\",\"blue\"],\"top\":[1810,8190],\"x\":[\"True\",\"False\"]},\"selected\":{\"id\":\"5412\"},\"selection_policy\":{\"id\":\"5411\"}},\"id\":\"5190\",\"type\":\"ColumnDataSource\"},{\"attributes\":{},\"id\":\"5409\",\"type\":\"UnionRenderers\"},{\"attributes\":{\"fill_alpha\":{\"value\":0.2},\"fill_color\":{\"value\":\"blue\"},\"hatch_alpha\":{\"value\":0.2},\"line_alpha\":{\"value\":0.2},\"line_color\":{\"value\":null},\"x\":{\"value\":0},\"y\":{\"value\":0}},\"id\":\"5186\",\"type\":\"Rect\"},{\"attributes\":{},\"id\":\"5148\",\"type\":\"DataRange1d\"},{\"attributes\":{\"coordinates\":null,\"data_source\":{\"id\":\"5183\"},\"glyph\":{\"id\":\"5184\"},\"group\":null,\"hover_glyph\":null,\"muted_glyph\":{\"id\":\"5186\"},\"nonselection_glyph\":{\"id\":\"5185\"},\"view\":{\"id\":\"5188\"}},\"id\":\"5187\",\"type\":\"GlyphRenderer\"},{\"attributes\":{\"fill_color\":{\"value\":\"red\"},\"line_color\":{\"value\":null},\"x\":{\"value\":0},\"y\":{\"value\":0}},\"id\":\"5177\",\"type\":\"Rect\"},{\"attributes\":{\"factors\":[\"True\",\"False\"]},\"id\":\"5146\",\"type\":\"FactorRange\"},{\"attributes\":{\"fill_alpha\":{\"value\":0.1},\"fill_color\":{\"value\":\"blue\"},\"hatch_alpha\":{\"value\":0.1},\"line_alpha\":{\"value\":0.1},\"line_color\":{\"value\":null},\"x\":{\"value\":0},\"y\":{\"value\":0}},\"id\":\"5185\",\"type\":\"Rect\"},{\"attributes\":{\"fill_alpha\":{\"value\":0.2},\"fill_color\":{\"field\":\"fill_color\"},\"hatch_alpha\":{\"value\":0.2},\"hatch_color\":{\"field\":\"hatch_color\"},\"line_alpha\":{\"value\":0.2},\"line_color\":{\"field\":\"line_color\"},\"top\":{\"field\":\"top\"},\"width\":{\"value\":0.5},\"x\":{\"field\":\"x\"}},\"id\":\"5193\",\"type\":\"VBar\"},{\"attributes\":{\"data\":{},\"selected\":{\"id\":\"5410\"},\"selection_policy\":{\"id\":\"5409\"}},\"id\":\"5183\",\"type\":\"ColumnDataSource\"},{\"attributes\":{\"axis\":{\"id\":\"5157\"},\"coordinates\":null,\"dimension\":1,\"group\":null,\"ticker\":null},\"id\":\"5160\",\"type\":\"Grid\"},{\"attributes\":{},\"id\":\"5410\",\"type\":\"Selection\"},{\"attributes\":{},\"id\":\"5405\",\"type\":\"CategoricalTickFormatter\"},{\"attributes\":{\"fill_alpha\":{\"value\":0.2},\"fill_color\":{\"value\":\"red\"},\"hatch_alpha\":{\"value\":0.2},\"line_alpha\":{\"value\":0.2},\"line_color\":{\"value\":null},\"x\":{\"value\":0},\"y\":{\"value\":0}},\"id\":\"5179\",\"type\":\"Rect\"},{\"attributes\":{},\"id\":\"5158\",\"type\":\"BasicTicker\"},{\"attributes\":{\"label\":{\"value\":\"Ganhou\"},\"renderers\":[{\"id\":\"5180\"}]},\"id\":\"5182\",\"type\":\"LegendItem\"},{\"attributes\":{\"coordinates\":null,\"data_source\":{\"id\":\"5176\"},\"glyph\":{\"id\":\"5177\"},\"group\":null,\"hover_glyph\":null,\"muted_glyph\":{\"id\":\"5179\"},\"nonselection_glyph\":{\"id\":\"5178\"},\"view\":{\"id\":\"5181\"}},\"id\":\"5180\",\"type\":\"GlyphRenderer\"},{\"attributes\":{},\"id\":\"5166\",\"type\":\"HelpTool\"},{\"attributes\":{\"fill_color\":{\"field\":\"fill_color\"},\"hatch_color\":{\"field\":\"hatch_color\"},\"line_color\":{\"field\":\"line_color\"},\"top\":{\"field\":\"top\"},\"width\":{\"value\":0.5},\"x\":{\"field\":\"x\"}},\"id\":\"5191\",\"type\":\"VBar\"},{\"attributes\":{\"fill_color\":{\"value\":\"blue\"},\"line_color\":{\"value\":null},\"x\":{\"value\":0},\"y\":{\"value\":0}},\"id\":\"5184\",\"type\":\"Rect\"},{\"attributes\":{\"axis\":{\"id\":\"5154\"},\"coordinates\":null,\"group\":null,\"ticker\":null},\"id\":\"5156\",\"type\":\"Grid\"},{\"attributes\":{},\"id\":\"5165\",\"type\":\"ResetTool\"},{\"attributes\":{},\"id\":\"5406\",\"type\":\"AllLabels\"},{\"attributes\":{},\"id\":\"5161\",\"type\":\"PanTool\"},{\"attributes\":{},\"id\":\"5150\",\"type\":\"CategoricalScale\"},{\"attributes\":{\"overlay\":{\"id\":\"5167\"}},\"id\":\"5163\",\"type\":\"BoxZoomTool\"},{\"attributes\":{},\"id\":\"5152\",\"type\":\"LinearScale\"},{\"attributes\":{\"source\":{\"id\":\"5176\"}},\"id\":\"5181\",\"type\":\"CDSView\"},{\"attributes\":{\"fill_alpha\":{\"value\":0.1},\"fill_color\":{\"field\":\"fill_color\"},\"hatch_alpha\":{\"value\":0.1},\"hatch_color\":{\"field\":\"hatch_color\"},\"line_alpha\":{\"value\":0.1},\"line_color\":{\"field\":\"line_color\"},\"top\":{\"field\":\"top\"},\"width\":{\"value\":0.5},\"x\":{\"field\":\"x\"}},\"id\":\"5192\",\"type\":\"VBar\"},{\"attributes\":{\"coordinates\":null,\"data_source\":{\"id\":\"5190\"},\"glyph\":{\"id\":\"5191\"},\"group\":null,\"hover_glyph\":null,\"muted_glyph\":{\"id\":\"5193\"},\"nonselection_glyph\":{\"id\":\"5192\"},\"view\":{\"id\":\"5195\"}},\"id\":\"5194\",\"type\":\"GlyphRenderer\"},{\"attributes\":{},\"id\":\"5403\",\"type\":\"AllLabels\"},{\"attributes\":{\"coordinates\":null,\"group\":null,\"items\":[{\"id\":\"5182\"},{\"id\":\"5189\"}]},\"id\":\"5175\",\"type\":\"Legend\"},{\"attributes\":{\"bottom_units\":\"screen\",\"coordinates\":null,\"fill_alpha\":0.5,\"fill_color\":\"lightgrey\",\"group\":null,\"left_units\":\"screen\",\"level\":\"overlay\",\"line_alpha\":1.0,\"line_color\":\"black\",\"line_dash\":[4,4],\"line_width\":2,\"right_units\":\"screen\",\"syncable\":false,\"top_units\":\"screen\"},\"id\":\"5167\",\"type\":\"BoxAnnotation\"},{\"attributes\":{\"tools\":[{\"id\":\"5161\"},{\"id\":\"5162\"},{\"id\":\"5163\"},{\"id\":\"5164\"},{\"id\":\"5165\"},{\"id\":\"5166\"}]},\"id\":\"5168\",\"type\":\"Toolbar\"},{\"attributes\":{\"source\":{\"id\":\"5183\"}},\"id\":\"5188\",\"type\":\"CDSView\"},{\"attributes\":{},\"id\":\"5402\",\"type\":\"BasicTickFormatter\"},{\"attributes\":{\"source\":{\"id\":\"5190\"}},\"id\":\"5195\",\"type\":\"CDSView\"}],\"root_ids\":[\"5143\"]},\"title\":\"Bokeh Application\",\"version\":\"2.4.3\"}};\n  const render_items = [{\"docid\":\"5d21b9b9-ac1a-4ee5-acb1-30bc8433a703\",\"root_ids\":[\"5143\"],\"roots\":{\"5143\":\"c0bbc2dc-1979-49bd-87ab-a95bba8abdbd\"}}];\n  root.Bokeh.embed.embed_items_notebook(docs_json, render_items);\n  }\n  if (root.Bokeh !== undefined) {\n    embed_document(root);\n  } else {\n    let attempts = 0;\n    const timer = setInterval(function(root) {\n      if (root.Bokeh !== undefined) {\n        clearInterval(timer);\n        embed_document(root);\n      } else {\n        attempts++;\n        if (attempts > 100) {\n          clearInterval(timer);\n          console.log(\"Bokeh: ERROR: Unable to run BokehJS code because BokehJS library is missing\");\n        }\n      }\n    }, 10, root)\n  }\n})(window);",
      "application/vnd.bokehjs_exec.v0+json": ""
     },
     "metadata": {
      "application/vnd.bokehjs_exec.v0+json": {
       "id": "5143"
      }
     },
     "output_type": "display_data"
    }
   ],
   "source": [
    "y = []\n",
    "\n",
    "y.append(Trocando.count(True))\n",
    "y.append(Trocando.count(False))\n",
    "\n",
    "grafico_barras(['True', 'False'], y, 'Trocando a escolha', ['Contagem', 'Conseguiu'], LEGENDAS_COLORS = ['red', 'blue'], LEGENDAS = ['Ganhou', 'Morreu'], COLORS=['red', 'blue'], LG = True)"
   ]
  },
  {
   "cell_type": "markdown",
   "metadata": {},
   "source": [
    "Vemos que não há muita diferença, porém devemos lembrar que não existe uma aleatorio, realmente aleatorio na computação (exceto computação quantica), mas agora vamos analisar como seria na teoria. Esse problema é parecido com o problema de monty hall, como a retirada dos vagões até o terceiro vagão é aleatoria e nunca vai tirar o seu ou o do papa, a única probabilidade que importará será as dos ultimos três, a partir dai a explicação será a mesma do monty hall:"
   ]
  },
  {
   "cell_type": "markdown",
   "metadata": {},
   "source": [
    "**Análise de Probabilidade:**\n",
    "\n",
    "- **Estratégia: Manter a Escolha Original**\n",
    "\n",
    "A probabilidade de que o participante tenha escolhido o vagão com o papa é $\\frac13$. A probabilidade de escolher o vagão sem ele é $\\frac23$.\n",
    "\n",
    "- **Estratégia: Trocar de Porta**\n",
    "\n",
    "Nesse caso, a probabilidade de ter escolhido o vagão com o papa permanece $\\frac23$, porque a maldição sempre cairá sobre o vagão com a menor proteção. Isso acontece pois há uma inversão nas probabilidades, pois as chances dele ter errado na sua escolha anterior são $\\frac23$, logo no momento em que uma porta errada for retirada será mais vantajoso que ele troque."
   ]
  },
  {
   "cell_type": "markdown",
   "metadata": {},
   "source": [
    "**Conclusão:**\n",
    "\n",
    "A probabilidade de sobreviver trocando de vagão é maior $\\big(\\frac23\\big)$ do que a probabilidade de sobreviver mantendo a escolha original $\\big(\\frac13\\big)$. Isso ocorre porque quando a maldiçãocai sobre outro vagão você ganha informações adicionais, alterando as probabilidades originais."
   ]
  },
  {
   "cell_type": "markdown",
   "metadata": {},
   "source": [
    "## Referências\n",
    "\n"
   ]
  },
  {
   "cell_type": "markdown",
   "metadata": {},
   "source": [
    "[1] Problema de Monty Hall. Disponível em: <https://pt.wikipedia.org/wiki/Problema_de_Monty_Hall>. Acesso em: 28 ago. 2023.\n",
    "\n",
    "‌\n",
    "\n"
   ]
  },
  {
   "cell_type": "markdown",
   "metadata": {},
   "source": [
    "## Playground\n",
    "\n"
   ]
  },
  {
   "cell_type": "code",
   "execution_count": null,
   "metadata": {},
   "outputs": [],
   "source": []
  }
 ],
 "metadata": {
  "kernelspec": {
   "display_name": "Python 3.9.13 ('base')",
   "language": "python",
   "name": "python3"
  },
  "language_info": {
   "codemirror_mode": {
    "name": "ipython",
    "version": 3
   },
   "file_extension": ".py",
   "mimetype": "text/x-python",
   "name": "python",
   "nbconvert_exporter": "python",
   "pygments_lexer": "ipython3",
   "version": "3.9.13"
  },
  "org": null,
  "vscode": {
   "interpreter": {
    "hash": "ad2bdc8ecc057115af97d19610ffacc2b4e99fae6737bb82f5d7fb13d2f2c186"
   }
  }
 },
 "nbformat": 4,
 "nbformat_minor": 4
}
