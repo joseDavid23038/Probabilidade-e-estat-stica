{
 "cells": [
  {
   "cell_type": "markdown",
   "metadata": {},
   "source": [
    "Meu computador, meu laboratório\n",
    "===============================\n",
    "\n"
   ]
  },
  {
   "cell_type": "markdown",
   "metadata": {},
   "source": [
    "## Objetivo\n",
    "\n"
   ]
  },
  {
   "cell_type": "markdown",
   "metadata": {},
   "source": [
    "Elabore uma pergunta/hipótese e teste ela usando um experimento computacional. Mostre graficamente um histograma dos resultados obtidos nas suas simulações e discuta se conseguiu responder sua pergunta/hipótese. Tente ser criativo e realizar um experimento suficientemente diferente dos realizados em sala.\n",
    "\n",
    "Sugestões de situações/processos para simular:\n",
    "\n",
    "-   Baralho de cartas (ex: qual a chance de sortear 5 cartas do mesmo naipe ou qual a chance sortear 3 cartas em ordem crescente. Pode pensar em aplicações em jogos como Poker ou Truco pois, afinal, a probabilidade nasceu nos jogos de azar);\n",
    "-   Jogos de tabuleiros (pensar em estratégias de otimização assim como as discutidas sobre o jogo Catan em aula);\n",
    "-   Datas de aniversário (ex: qual chance de pelo menos duas pessoas fazerem aniversário no mesmo dia num grupo de $n$ pessoas)\n",
    "\n",
    "Escolha o experimento que preferir, não precisa se limitar às sugestões.\n",
    "\n"
   ]
  },
  {
   "cell_type": "markdown",
   "metadata": {},
   "source": [
    "## Resultado e discussão\n",
    "\n"
   ]
  },
  {
   "attachments": {},
   "cell_type": "markdown",
   "metadata": {},
   "source": [
    "<h3>Trem amaldiçoado</h3>\n",
    "\n",
    "Imagine que você está em um jogo em que há um trem que muda aleatoriamente a posição (cores) dos vagões a cada 15 minutos. A cada estação que o trem passa, um vagão é amaldiçoado por um deus sem rosto, exceto o vagão protegido por um papa está e o vagão em que você está, pois estarão protegidos. O objetivo é ficar no vagão protegido no momento em que sobrar somente dois vagões a serem amaldiçoados, pois a proteção do papa é maior do que a sua, assim o seu vagão será amadiçoado, e você perderá o jogo. Existem 5 vagões possiveis para escolher (roxo, amarelo, verde, azul, vermelho) você pode escolher qualquer um deles, mas nunca saberá onde está o papa, e a cada estação você pode trocar de vagão ou ficar nele. Qual é a estratégia mais vantajosa?\n",
    "\n",
    "**Cenário e Estratégias:**\n",
    "\n",
    "1. **Estratégia de Manter:**\n",
    "   - Nesta estratégia, você escolhe um vagão inicial (roxo, amarelo, verde, azul ou vermelho) e fica nele ao longo do jogo, independentemente das mudanças nas posições dos vagões. A cada estação, um vagão é amaldiçoado e outro é protegido. \n",
    "\n",
    "\n",
    "\n",
    "2. **Estratégia de Trocar:**\n",
    "   - Nesta estratégia, você escolhe um vagão inicial e decide trocar para um novo vagão a cada estação. Sua escolha é baseada na suposição de que a probabilidade de que o próximo vagão amaldiçoado seja menor caso você troque. \n",
    "\n",
    "**Análise de Probabilidade:**\n",
    "\n",
    "Devemos nos atentar que até que chegue na ultima troca a probabilidade de cada vagão é igual, pois são embaralhados.\n",
    "\n",
    "Na Estratégia de Manter:\n",
    "- A probabilidade de estar no último vagão após a primeira estação é 1/5 (20% de chance).\n",
    "- A cada estação, a probabilidade de que o vagão que será retirado seja o último é 1/5.\n",
    "- Portanto, a probabilidade de estar no último vagão após todas as estações é a multiplicação das probabilidades individuais, que é (1/5)^n, onde n é o número de estações.\n",
    "\n",
    "Na Estratégia de Trocar:\n",
    "- A probabilidade de que o vagão que será retirado em cada estação seja o último é 1/5.\n",
    "- A probabilidade de estar no último vagão após a primeira estação é 1/5 (20% de chance).\n",
    "- Nas estações subsequentes, a probabilidade de que o vagão seja o último a ser retirado diminui.\n",
    "- A probabilidade total de estar no último vagão após todas as estações depende do número de estações e da probabilidade de trocar para o próximo vagão.\n",
    "\n",
    "**Conclusão:**\n",
    "\n",
    "A análise das probabilidades indica que a Estratégia de Trocar tem uma maior probabilidade de resultar em você ficando no último vagão após todas as estações. Isso é semelhante ao experimento de Monty Hall, onde a estratégia de trocar tem uma maior probabilidade de levar à escolha correta.\n",
    "\n",
    "Note que, embora as probabilidades possam indicar a estratégia mais vantajosa, o resultado real ainda será influenciado por fatores aleatórios, como as posições iniciais dos vagões e a reordenação a cada 15 minutos. A análise de probabilidade ajuda a entender as tendências gerais, mas o resultado em um cenário real ainda pode variar."
   ]
  },
  {
   "cell_type": "code",
   "execution_count": null,
   "metadata": {},
   "outputs": [],
   "source": []
  },
  {
   "cell_type": "markdown",
   "metadata": {},
   "source": [
    "## Referências\n",
    "\n"
   ]
  },
  {
   "cell_type": "markdown",
   "metadata": {},
   "source": [
    "Escreva nesta seção as referências consultadas.\n",
    "\n"
   ]
  },
  {
   "cell_type": "markdown",
   "metadata": {},
   "source": [
    "## Playground\n",
    "\n"
   ]
  },
  {
   "cell_type": "code",
   "execution_count": null,
   "metadata": {},
   "outputs": [],
   "source": []
  }
 ],
 "metadata": {
  "kernelspec": {
   "display_name": "ilumpy",
   "language": "python",
   "name": "ilumpy"
  },
  "language_info": {
   "codemirror_mode": {
    "name": "ipython",
    "version": 3
   },
   "file_extension": ".py",
   "mimetype": "text/x-python",
   "name": "python",
   "nbconvert_exporter": "python",
   "pygments_lexer": "ipython3",
   "version": "3.10.6"
  },
  "org": null
 },
 "nbformat": 4,
 "nbformat_minor": 4
}
