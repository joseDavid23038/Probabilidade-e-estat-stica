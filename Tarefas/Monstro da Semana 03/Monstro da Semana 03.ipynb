{
 "cells": [
  {
   "cell_type": "markdown",
   "metadata": {},
   "source": [
    "Meu computador, meu laboratório\n",
    "===============================\n",
    "\n"
   ]
  },
  {
   "cell_type": "markdown",
   "metadata": {},
   "source": [
    "## Objetivo\n",
    "\n"
   ]
  },
  {
   "cell_type": "markdown",
   "metadata": {},
   "source": [
    "Elabore uma pergunta/hipótese e teste ela usando um experimento computacional. Mostre graficamente um histograma dos resultados obtidos nas suas simulações e discuta se conseguiu responder sua pergunta/hipótese. Tente ser criativo e realizar um experimento suficientemente diferente dos realizados em sala.\n",
    "\n",
    "Sugestões de situações/processos para simular:\n",
    "\n",
    "-   Baralho de cartas (ex: qual a chance de sortear 5 cartas do mesmo naipe ou qual a chance sortear 3 cartas em ordem crescente. Pode pensar em aplicações em jogos como Poker ou Truco pois, afinal, a probabilidade nasceu nos jogos de azar);\n",
    "-   Jogos de tabuleiros (pensar em estratégias de otimização assim como as discutidas sobre o jogo Catan em aula);\n",
    "-   Datas de aniversário (ex: qual chance de pelo menos duas pessoas fazerem aniversário no mesmo dia num grupo de $n$ pessoas)\n",
    "\n",
    "Escolha o experimento que preferir, não precisa se limitar às sugestões.\n",
    "\n"
   ]
  },
  {
   "cell_type": "markdown",
   "metadata": {},
   "source": [
    "## Resultado e discussão\n",
    "\n"
   ]
  },
  {
   "attachments": {},
   "cell_type": "markdown",
   "metadata": {},
   "source": [
    "<h3>Trem amaldiçoado</h3>\n",
    "\n",
    "Imagine que você está em um jogo em que há um trem que muda aleatoriamente a posição dos vagões a cada 15 minutos. A cada estação que o trem passa, o ultimo dos vagões é retirado. O objetivo é ficar no último vagão a ser retirado para ganhar o jogo. Existem 5 vagões possiveis para escolher (roxo, amarelo, verde, azul, vermelho) você pode escolher qualquer um deles, e a cada estação vocÊ pode trocar de vagão ou ficar nele. Qual é a estratégia mais vantajosa?\n",
    "\n",
    "**Cenário e Estratégias:**\n",
    "\n",
    "1. **Estratégia de Manter:**\n",
    "   - Você escolhe ficar no vagão atual durante todo o trajeto, independentemente das mudanças nas posições dos vagões.\n",
    "\n",
    "\n",
    "\n",
    "2. **Estratégia de Trocar:**\n",
    "   - A cada estação, você decide trocar para o próximo vagão, tentando acompanhar a posição do último vagão.\n",
    "\n",
    "**Análise de Probabilidade:**\n",
    "\n",
    "Vamos analisar as duas estratégias com base na probabilidade. Suponha que o trem tenha inicialmente 5 vagões numerados de 1 a 5. O vagão que será retirado em cada estação é escolhido aleatoriamente, e a posição dos vagões é reorganizada a cada 15 minutos.\n",
    "\n",
    "Na Estratégia de Manter:\n",
    "- A probabilidade de estar no último vagão após a primeira estação é 1/5 (20% de chance).\n",
    "- A cada estação, a probabilidade de que o vagão que será retirado seja o último é 1/5.\n",
    "- Portanto, a probabilidade de estar no último vagão após todas as estações é a multiplicação das probabilidades individuais, que é (1/5)^n, onde n é o número de estações.\n",
    "\n",
    "Na Estratégia de Trocar:\n",
    "- A probabilidade de que o vagão que será retirado em cada estação seja o último é 1/5.\n",
    "- A probabilidade de estar no último vagão após a primeira estação é 1/5 (20% de chance).\n",
    "- Nas estações subsequentes, a probabilidade de que o vagão seja o último a ser retirado diminui.\n",
    "- A probabilidade total de estar no último vagão após todas as estações depende do número de estações e da probabilidade de trocar para o próximo vagão.\n",
    "\n",
    "**Conclusão:**\n",
    "\n",
    "A análise das probabilidades indica que a Estratégia de Trocar tem uma maior probabilidade de resultar em você ficando no último vagão após todas as estações. Isso é semelhante ao experimento de Monty Hall, onde a estratégia de trocar tem uma maior probabilidade de levar à escolha correta.\n",
    "\n",
    "Note que, embora as probabilidades possam indicar a estratégia mais vantajosa, o resultado real ainda será influenciado por fatores aleatórios, como as posições iniciais dos vagões e a reordenação a cada 15 minutos. A análise de probabilidade ajuda a entender as tendências gerais, mas o resultado em um cenário real ainda pode variar."
   ]
  },
  {
   "cell_type": "code",
   "execution_count": null,
   "metadata": {},
   "outputs": [],
   "source": []
  },
  {
   "cell_type": "markdown",
   "metadata": {},
   "source": [
    "## Referências\n",
    "\n"
   ]
  },
  {
   "cell_type": "markdown",
   "metadata": {},
   "source": [
    "Escreva nesta seção as referências consultadas.\n",
    "\n"
   ]
  },
  {
   "cell_type": "markdown",
   "metadata": {},
   "source": [
    "## Playground\n",
    "\n"
   ]
  },
  {
   "cell_type": "code",
   "execution_count": null,
   "metadata": {},
   "outputs": [],
   "source": []
  }
 ],
 "metadata": {
  "kernelspec": {
   "display_name": "ilumpy",
   "language": "python",
   "name": "ilumpy"
  },
  "language_info": {
   "codemirror_mode": {
    "name": "ipython",
    "version": 3
   },
   "file_extension": ".py",
   "mimetype": "text/x-python",
   "name": "python",
   "nbconvert_exporter": "python",
   "pygments_lexer": "ipython3",
   "version": "3.10.6"
  },
  "org": null
 },
 "nbformat": 4,
 "nbformat_minor": 4
}
