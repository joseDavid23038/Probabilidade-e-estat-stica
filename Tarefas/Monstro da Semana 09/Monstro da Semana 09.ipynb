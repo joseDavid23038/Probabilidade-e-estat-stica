{
 "cells": [
  {
   "cell_type": "markdown",
   "metadata": {},
   "source": [
    "Exercícios sobre distribuições\n",
    "==============================\n",
    "Discentes: José David e Eric Leandro\n",
    "==============================\n"
   ]
  },
  {
   "cell_type": "markdown",
   "metadata": {},
   "source": [
    "## Contextualização\n",
    "\n"
   ]
  },
  {
   "cell_type": "markdown",
   "metadata": {},
   "source": [
    "A confirmação da teoria da Relatividade Geral de Albert Einstein durante o eclipse solar de 1919 é um momento marcante na história da ciência. O experimento, conduzido por Sir Arthur Eddington, tinha como objetivo testar uma das principais previsões da Relatividade Geral: a curvatura da luz pela gravidade.\n",
    "\n",
    "A Teoria Geral da Relatividade de Einstein, publicada em 1915, introduziu uma nova compreensão da gravidade. Em vez da visão clássica da gravidade como uma força, a teoria de Einstein propôs que objetos massivos, como o Sol, deformam o tecido do espaço-tempo ao seu redor. A luz que passa perto de um objeto massivo destes seguiria um caminho curvo devido a essa distorção, criando o efeito de lente gravitacional.\n",
    "\n",
    "A teoria de Einstein previu que, durante um eclipse solar, quando a massa do Sol bloqueasse a luz de estrelas distantes, as posições dessas estrelas pareceriam deslocadas devido ao campo gravitacional do Sol. As posições observadas das estrelas seriam diferentes de suas posições esperadas se a gravidade não afetasse a luz. Especificamente, as posições das estrelas seriam deslocadas para fora do Sol.\n",
    "\n",
    "Os resultados esperados do experimento envolviam a medição do deslocamento angular das estrelas quando elas apareciam perto do Sol durante um eclipse solar total. O deslocamento angular seria a diferença entre a posição aparente de uma estrela e sua posição real na ausência da gravidade do Sol:\n",
    "\n",
    "A teoria de Einstein previu que esse deslocamento angular seria de aproximadamente 1,75 segundo de arco (arcseg) para estrelas que estivessem próximas ao Sol durante o eclipse.\n",
    "\n",
    "Arthur Eddington organizou duas expedições - uma para Sobral, no Brasil, e outra para a Ilha do Príncipe, na África Ocidental - para observar o eclipse solar total de 29 de maio de 1919. As equipes tiraram fotografias das estrelas que estavam próximas ao Sol durante o eclipse.\n",
    "\n",
    "As fotografias tiradas durante o eclipse foram comparadas com fotografias do mesmo campo estelar tiradas quando o Sol não estava nas proximidades. As posições observadas das estrelas foram de fato deslocadas para fora do Sol, de acordo com as previsões de Einstein.\n",
    "\n",
    "**O deslocamento angular medido das estrelas durante o eclipse de 1919 foi de aproximadamente 1,98 arcseg.**\n",
    "\n"
   ]
  },
  {
   "cell_type": "markdown",
   "metadata": {},
   "source": [
    "## Objetivo\n",
    "\n"
   ]
  },
  {
   "cell_type": "markdown",
   "metadata": {},
   "source": [
    "Suponha que pelo modelo de Einstein e pelos equipamentos utilizados, o valor esperado para o deslocamento angular segue uma distribuição normal $\\mathcal{N}(1.75, 0.02)$ (isto é, tem média de 1,75 e variância de 0,02). Proponha e execute um teste de hipótese para testar o modelo de Einstein na luz do resultado obtido usando de simulação.\n",
    "\n",
    "**Dica**: preste atenção na sua formulação da hipótese alternativa. Existem pelo menos duas possibilidades de hipóteses alternativas aqui. Após escolher sua hipótese alternativa, pense com carinho sobre qual estatística de teste que irá utilizar.\n",
    "\n",
    "**Observação 1**: não serão consideradas respostas que usam testes estatísticos prontos, o objetivo do exercício é elaborar o teste do início ao fim, seguindo um procedimento similar ao que estudamos no notebook 9.\n",
    "\n",
    "**Observação 2**: preste atenção em *todas* as informações disponíveis no notebook 9. Observem que justificativas como &ldquo;eu não vi que tinha isso escrito aqui&rdquo; não se sustentam caso queiram revisar a nota recebida.\n",
    "\n",
    "**Observação 3**: se o enunciado não estiver claro por qualquer motivo, então <u>postar no grupo do teams</u> com antecedência suficiente para que o professor possa responder. Sua dúvida pode ser a mesma dúvida de um colega.\n",
    "\n"
   ]
  },
  {
   "cell_type": "markdown",
   "metadata": {},
   "source": [
    "## Métodos"
   ]
  },
  {
   "cell_type": "code",
   "execution_count": 148,
   "metadata": {},
   "outputs": [],
   "source": [
    "confianca = 0.9"
   ]
  },
  {
   "cell_type": "markdown",
   "metadata": {},
   "source": [
    "Inicialmente defino um nível de confiança como sendo de 90% <br>\n",
    "\n",
    "Para o teste do módelo, vamos definir as seguintes hipóteses:\n",
    "\n",
    "-   $H_0$ O modelo descrito por Einstein e seus cálculos estão corretos.\n",
    "\n",
    "-   $H_1$  O modelo descrito por Einstein e seus cálculos não estão corretos.\n"
   ]
  },
  {
   "cell_type": "markdown",
   "metadata": {},
   "source": [
    "Inicialmente, importamos as bibliotecas que serão usadas. Ressaltamos que boa parte das células em python foram copiadas do material 9 e levemente alteradas.<sup>[1]</sup>"
   ]
  },
  {
   "cell_type": "code",
   "execution_count": 149,
   "metadata": {},
   "outputs": [],
   "source": [
    "import numpy as np\n",
    "import matplotlib.pyplot as plt\n",
    "import seaborn as sns"
   ]
  },
  {
   "cell_type": "markdown",
   "metadata": {},
   "source": [
    "Defino uma função para calcular a distância, e a utilizo de início para encontrar a estatística de teste."
   ]
  },
  {
   "cell_type": "code",
   "execution_count": 150,
   "metadata": {},
   "outputs": [],
   "source": [
    "def distancia_var(v_esperado,v_observado):\n",
    "    distancia = abs(v_esperado-v_observado)\n",
    "    return distancia"
   ]
  },
  {
   "cell_type": "code",
   "execution_count": 151,
   "metadata": {},
   "outputs": [
    {
     "name": "stdout",
     "output_type": "stream",
     "text": [
      "Estatística de teste é 0.22999999999999998\n"
     ]
    }
   ],
   "source": [
    "valor_observado = 1.98\n",
    "valor_esperado = 1.75\n",
    "\n",
    "estatisca_de_teste = distancia_var(valor_esperado,valor_observado)\n",
    "\n",
    "print(f'Estatística de teste é {estatisca_de_teste}')"
   ]
  },
  {
   "cell_type": "markdown",
   "metadata": {},
   "source": [
    "Para simular a distância obtida entre o valor esperado e um valor sorteado dentro da variância dada, realizo um sorteio aleatório com a média esperada e uso a raiz da variância(desvio padrão) como parametro para o sorteio normal do numpy. "
   ]
  },
  {
   "cell_type": "code",
   "execution_count": 152,
   "metadata": {},
   "outputs": [],
   "source": [
    "def simulacao():\n",
    "    \n",
    "    media = 1.75\n",
    "    variancia = 0.02\n",
    "    sorteio = np.random.normal(media, np.sqrt(variancia))\n",
    "    distancia = distancia_var(sorteio, valor_esperado)\n",
    "    return distancia\n",
    "\n"
   ]
  },
  {
   "cell_type": "markdown",
   "metadata": {},
   "source": [
    "Para realizarmos várias simulações, criamos a função abaixo, a qual retorna uma lista com os resultados da simulações feitas."
   ]
  },
  {
   "cell_type": "code",
   "execution_count": 153,
   "metadata": {},
   "outputs": [],
   "source": [
    "def experimento(n):\n",
    "    resultado = []\n",
    "    for _ in range(n):\n",
    "        distancia = simulacao()\n",
    "        resultado.append(distancia)\n",
    "    return resultado\n",
    "\n",
    "\n",
    "NUM_REPETICOES = 1000000\n",
    "\n",
    "resultado = experimento(NUM_REPETICOES)"
   ]
  },
  {
   "cell_type": "markdown",
   "metadata": {},
   "source": [
    "Apenas plotamos o histograma como comparativo com o método descrito no material 9, confirmando se o passo a passo estava ok. "
   ]
  },
  {
   "cell_type": "code",
   "execution_count": 154,
   "metadata": {},
   "outputs": [
    {
     "data": {
      "text/plain": [
       "<matplotlib.legend.Legend at 0x16a0cfe89d0>"
      ]
     },
     "execution_count": 154,
     "metadata": {},
     "output_type": "execute_result"
    },
    {
     "data": {
      "image/png": "[encoded data removed]",
      "text/plain": [
       "<Figure size 640x480 with 1 Axes>"
      ]
     },
     "metadata": {},
     "output_type": "display_data"
    }
   ],
   "source": [
    "eixo = sns.histplot(resultado, stat=\"percent\", bins=10, label=\"Distribuição\")\n",
    "eixo.axvline(estatisca_de_teste, label=\"Estatística observada\", color=\"red\")\n",
    "eixo.set_xlabel(\"Estatística de teste\")\n",
    "eixo.set_ylabel(\"Porcentagem (%)\")\n",
    "eixo.legend()"
   ]
  },
  {
   "cell_type": "markdown",
   "metadata": {},
   "source": [
    "Para sabermos se devemos ou não rejeitar o H0, realizamos o cálculo do pvalor. Considerando uma significia igual a 1 menos o nível de confiança determinado no início. Criamos uma lógica que consiste em conferir os valores do array resultado que são maior que a estatística de teste. Finalmente, o cálculo do pvalor é feito como sendo a fração de valores no total que seguem a lógica estabelecida. A partir do pvalor ser maior ou menor que a significancia, é exibido se H0 deve ser rejeitado ou não."
   ]
  },
  {
   "cell_type": "code",
   "execution_count": 155,
   "metadata": {},
   "outputs": [
    {
     "name": "stdout",
     "output_type": "stream",
     "text": [
      "A fração de simulações tão ruins ou mais que a estatística observada foi de 0.10424\n",
      "\n",
      "Com esta observação, não devemos rejeitar H0\n"
     ]
    }
   ],
   "source": [
    "significancia = 1-confianca\n",
    "\n",
    "array = np.array(resultado)\n",
    "logic = array >= estatisca_de_teste\n",
    "\n",
    "pvalor = sum(logic) / len(array)\n",
    "\n",
    "print(f\"A fração de simulações tão ruins ou mais que a estatística observada foi de {pvalor:.5f}\")\n",
    "\n",
    "print()\n",
    "\n",
    "if pvalor < significancia:\n",
    "    print(\"Com esta observação, devemos rejeitar H0\")\n",
    "else:\n",
    "    print(\"Com esta observação, não devemos rejeitar H0\")"
   ]
  },
  {
   "cell_type": "markdown",
   "metadata": {},
   "source": [
    "## Resultado e discussão\n",
    "\n"
   ]
  },
  {
   "cell_type": "markdown",
   "metadata": {},
   "source": [
    "A partir do procedimento feito, é possível concluir que não devemos rejeitar H0, tendo em vista que o pvalor calculado é maior que a significância."
   ]
  },
  {
   "cell_type": "markdown",
   "metadata": {},
   "source": [
    "## Referências\n",
    "\n",
    "[1] Daniel R. Cassar, PROBABILIDADE E ESTATÍSTICA, 9- Testes de hipóteses."
   ]
  },
  {
   "cell_type": "markdown",
   "metadata": {},
   "source": [
    "\n",
    "\n",
    "\n",
    "\n",
    "1.  O texto utilizado na contextualização do problema foi levemente modificado de um texto gerado pelo chatGPT com o intuito de propor um problema científico interessante.\n",
    "\n"
   ]
  },
  {
   "cell_type": "markdown",
   "metadata": {},
   "source": [
    "## Playground\n",
    "\n"
   ]
  },
  {
   "cell_type": "markdown",
   "metadata": {},
   "source": [
    "Use este espaço para fazer o que quiser. Não será considerado na correção.\n",
    "\n"
   ]
  },
  {
   "cell_type": "code",
   "execution_count": null,
   "metadata": {},
   "outputs": [],
   "source": []
  }
 ],
 "metadata": {
  "kernelspec": {
   "display_name": "Python 3.10.8 64-bit",
   "language": "python",
   "name": "python3"
  },
  "language_info": {
   "codemirror_mode": {
    "name": "ipython",
    "version": 3
   },
   "file_extension": ".py",
   "mimetype": "text/x-python",
   "name": "python",
   "nbconvert_exporter": "python",
   "pygments_lexer": "ipython3",
   "version": "3.10.8"
  },
  "org": null,
  "vscode": {
   "interpreter": {
    "hash": "26de051ba29f2982a8de78e945f0abaf191376122a1563185a90213a26c5da77"
   }
  }
 },
 "nbformat": 4,
 "nbformat_minor": 4
}
