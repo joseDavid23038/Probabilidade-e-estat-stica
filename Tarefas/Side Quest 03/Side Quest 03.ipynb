{
 "cells": [
  {
   "cell_type": "markdown",
   "metadata": {},
   "source": [
    "O andar do bêbado\n",
    "=================\n",
    "\n"
   ]
  },
  {
   "cell_type": "markdown",
   "metadata": {},
   "source": [
    "## Objetivo\n",
    "\n"
   ]
  },
  {
   "cell_type": "markdown",
   "metadata": {},
   "source": [
    "Um senhor que tomou uma ou duas doses a mais do que deveria está andando por um campo plano, infinito e livre de obstáculos. A cada minuto, este senhor dá um passo de um metro para norte, sul, leste ou oeste. É sempre um passo por minuto e sempre em apenas uma direção (todas as direções têm a mesma chance de serem escolhidas).\n",
    "\n",
    "Faça gráficos mostrando:\n",
    "\n",
    "1.  A trajetória do senhor andante no plano;\n",
    "\n",
    "2.  A posição em $x$ do senhor andante em função do tempo (plote uma linha indicando o valor médio);\n",
    "\n",
    "3.  A posição em $y$ do senhor andante em função do tempo (plote uma linha indicando o valor médio);\n",
    "\n",
    "4.  A distância relativa percorrida pelo senhor andante em função do tempo (a distância relativa é a distância Euclidiana entre a posição no tempo atual e a posição no tempo zero).\n",
    "\n",
    "Considere que o senhor andante inicia sua trajetória no tempo $t=0$ na coordenada $(0,0)$. Considere um tempo de pelo menos 1000 minutos para plotar seus gráficos. Discuta sobre os resultados obtidos.\n",
    "\n"
   ]
  },
  {
   "cell_type": "markdown",
   "metadata": {},
   "source": [
    "## Resultado e discussão\n",
    "\n"
   ]
  },
  {
   "cell_type": "code",
   "execution_count": null,
   "metadata": {},
   "outputs": [],
   "source": []
  },
  {
   "cell_type": "markdown",
   "metadata": {},
   "source": [
    "## Referências\n",
    "\n"
   ]
  },
  {
   "cell_type": "markdown",
   "metadata": {},
   "source": [
    "Escreva nesta seção as referências consultadas.\n",
    "\n"
   ]
  },
  {
   "cell_type": "markdown",
   "metadata": {},
   "source": [
    "## Playground\n",
    "\n"
   ]
  },
  {
   "cell_type": "code",
   "execution_count": null,
   "metadata": {},
   "outputs": [],
   "source": []
  }
 ],
 "metadata": {
  "kernelspec": {
   "display_name": "ilumpy",
   "language": "python",
   "name": "ilumpy"
  },
  "language_info": {
   "codemirror_mode": {
    "name": "ipython",
    "version": 3
   },
   "file_extension": ".py",
   "mimetype": "text/x-python",
   "name": "python",
   "nbconvert_exporter": "python",
   "pygments_lexer": "ipython3",
   "version": "3.10.12"
  },
  "org": null
 },
 "nbformat": 4,
 "nbformat_minor": 4
}
