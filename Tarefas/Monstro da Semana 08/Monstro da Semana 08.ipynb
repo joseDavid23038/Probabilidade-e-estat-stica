{
 "cells": [
  {
   "cell_type": "markdown",
   "metadata": {},
   "source": [
    "Exercícios sobre distribuições\n",
    "==============================\n",
    "\n"
   ]
  },
  {
   "cell_type": "markdown",
   "metadata": {},
   "source": [
    "## Exercício 1 (25 pontos)\n",
    "\n"
   ]
  },
  {
   "cell_type": "markdown",
   "metadata": {},
   "source": [
    "Considere que a variável aleatória $X$ apresenta a seguinte pdf:\n",
    "\n",
    "$$\n",
    "f(x)=\\begin{cases}\n",
    "c(1-x^2) & -1 < x < 1\\\\\n",
    "0 & \\textrm{caso contrário}\n",
    "\\end{cases}\n",
    "$$\n",
    "\n",
    "Utilizando de seus conhecimentos adquiridos sobre distribuições de probabilidades, resolva as questões abaixo.\n",
    "\n",
    "1.  Encontre o valor de $c$. Se calcular de forma numérica, mostre os códigos. Se calcular de forma analítica, mostre todos os passos.\n",
    "\n",
    "2.  Encontre a forma analítica da cdf de $X$. Mostre todos os passos.\n",
    "\n",
    "3.  Calcule $P(|X| > 0,5)$. Mostre com clareza os passo do seu raciocínio.\n",
    "\n",
    "4.  Calcule $E[X]$.\n",
    "\n",
    "5.  Calcule $\\mathrm{Var}(X)$.\n",
    "\n",
    "**Nota**: pode resolver em papel a parte matemática e incluir a imagem no notebook e na entrega do teams. Mas lembrando que em LaTeX fica muito mais bonito e elegante :)\n",
    "\n"
   ]
  },
  {
   "cell_type": "markdown",
   "metadata": {},
   "source": [
    "## Resolução do exercício 1\n",
    "\n"
   ]
  },
  {
   "cell_type": "markdown",
   "metadata": {},
   "source": [
    "### **1. Valor de c**"
   ]
  },
  {
   "cell_type": "markdown",
   "metadata": {},
   "source": [
    "Tendo a função de densidade de probabilidade dita por \n",
    "\n",
    "$$\\int_{-\\infty}^{\\infty} f(x) \\ dx = 1$$\n",
    "\n",
    "Além disso sabemos que essa densidade é dada por: \n",
    "\n",
    "$$f(x) = c(1-x^2)$$ \n",
    "\n",
    "No intervalo de -1 a 1, ou seja, teremos:\n",
    "\n",
    "$$\\int_{-1}^{1} c(1-x^2) \\ dx = 1$$ \n",
    "\n",
    "Fazendo a integral, temos que:\n",
    "\n",
    "$$cx - \\frac{cx^3}{3} \\bigg |_{-1}^{1} = 1$$\n",
    "\n",
    "$$\\Big (c (1) - \\frac{c(1)^3}{3} \\Big) - \\Big (c(-1) - \\frac{c(-1)^3}{3} \\Big) = 1$$\n",
    "\n",
    "$$\\Big ( \\frac{3c - c}{3} \\Big) - \\Big (\\frac {-3c + c}{3} \\Big) = 1$$\n",
    "\n",
    "$$\\frac{4c}{3} = 1 $$\n",
    "\n",
    "$$\\boxed{ \\ c = \\frac{3}{4} \\ }$$\n"
   ]
  },
  {
   "cell_type": "markdown",
   "metadata": {},
   "source": [
    "### **2. cdf de X**"
   ]
  },
  {
   "cell_type": "code",
   "execution_count": null,
   "metadata": {},
   "outputs": [],
   "source": [
    "'''IMPORTS'''\n",
    "import numpy as np\n",
    "import matplotlib.pyplot as plt\n",
    "from scipy.integrate import quad"
   ]
  },
  {
   "cell_type": "code",
   "execution_count": null,
   "metadata": {},
   "outputs": [],
   "source": [
    "'''FUNÇÕES'''\n",
    "def f(x):\n",
    "    if -1 <= x <= 1:\n",
    "        return (3/4)-((x**2)*(3/4))\n",
    "    else:\n",
    "        return 0"
   ]
  },
  {
   "cell_type": "code",
   "execution_count": null,
   "metadata": {},
   "outputs": [],
   "source": []
  },
  {
   "cell_type": "code",
   "execution_count": 1,
   "metadata": {},
   "outputs": [
    {
     "ename": "ValueError",
     "evalue": "x and y must have same first dimension, but have shapes (1,) and (1000,)",
     "output_type": "error",
     "traceback": [
      "\u001b[1;31m---------------------------------------------------------------------------\u001b[0m",
      "\u001b[1;31mValueError\u001b[0m                                Traceback (most recent call last)",
      "\u001b[1;32m~\\AppData\\Local\\Temp\\ipykernel_28744\\282670436.py\u001b[0m in \u001b[0;36m<module>\u001b[1;34m\u001b[0m\n\u001b[0;32m     18\u001b[0m \u001b[0mfigura\u001b[0m\u001b[1;33m,\u001b[0m \u001b[0meixo\u001b[0m \u001b[1;33m=\u001b[0m \u001b[0mplt\u001b[0m\u001b[1;33m.\u001b[0m\u001b[0msubplots\u001b[0m\u001b[1;33m(\u001b[0m\u001b[1;33m)\u001b[0m\u001b[1;33m\u001b[0m\u001b[1;33m\u001b[0m\u001b[0m\n\u001b[0;32m     19\u001b[0m \u001b[1;33m\u001b[0m\u001b[0m\n\u001b[1;32m---> 20\u001b[1;33m \u001b[0meixo\u001b[0m\u001b[1;33m.\u001b[0m\u001b[0mplot\u001b[0m\u001b[1;33m(\u001b[0m\u001b[0mx\u001b[0m\u001b[1;33m,\u001b[0m \u001b[0my\u001b[0m\u001b[1;33m)\u001b[0m\u001b[1;33m\u001b[0m\u001b[1;33m\u001b[0m\u001b[0m\n\u001b[0m\u001b[0;32m     21\u001b[0m \u001b[1;33m\u001b[0m\u001b[0m\n\u001b[0;32m     22\u001b[0m \u001b[0meixo\u001b[0m\u001b[1;33m.\u001b[0m\u001b[0mset_xlabel\u001b[0m\u001b[1;33m(\u001b[0m\u001b[1;34m\"Valor X\"\u001b[0m\u001b[1;33m)\u001b[0m\u001b[1;33m\u001b[0m\u001b[1;33m\u001b[0m\u001b[0m\n",
      "\u001b[1;32mc:\\ProgramData\\Anaconda3\\lib\\site-packages\\matplotlib\\axes\\_axes.py\u001b[0m in \u001b[0;36mplot\u001b[1;34m(self, scalex, scaley, data, *args, **kwargs)\u001b[0m\n\u001b[0;32m   1630\u001b[0m         \"\"\"\n\u001b[0;32m   1631\u001b[0m         \u001b[0mkwargs\u001b[0m \u001b[1;33m=\u001b[0m \u001b[0mcbook\u001b[0m\u001b[1;33m.\u001b[0m\u001b[0mnormalize_kwargs\u001b[0m\u001b[1;33m(\u001b[0m\u001b[0mkwargs\u001b[0m\u001b[1;33m,\u001b[0m \u001b[0mmlines\u001b[0m\u001b[1;33m.\u001b[0m\u001b[0mLine2D\u001b[0m\u001b[1;33m)\u001b[0m\u001b[1;33m\u001b[0m\u001b[1;33m\u001b[0m\u001b[0m\n\u001b[1;32m-> 1632\u001b[1;33m         \u001b[0mlines\u001b[0m \u001b[1;33m=\u001b[0m \u001b[1;33m[\u001b[0m\u001b[1;33m*\u001b[0m\u001b[0mself\u001b[0m\u001b[1;33m.\u001b[0m\u001b[0m_get_lines\u001b[0m\u001b[1;33m(\u001b[0m\u001b[1;33m*\u001b[0m\u001b[0margs\u001b[0m\u001b[1;33m,\u001b[0m \u001b[0mdata\u001b[0m\u001b[1;33m=\u001b[0m\u001b[0mdata\u001b[0m\u001b[1;33m,\u001b[0m \u001b[1;33m**\u001b[0m\u001b[0mkwargs\u001b[0m\u001b[1;33m)\u001b[0m\u001b[1;33m]\u001b[0m\u001b[1;33m\u001b[0m\u001b[1;33m\u001b[0m\u001b[0m\n\u001b[0m\u001b[0;32m   1633\u001b[0m         \u001b[1;32mfor\u001b[0m \u001b[0mline\u001b[0m \u001b[1;32min\u001b[0m \u001b[0mlines\u001b[0m\u001b[1;33m:\u001b[0m\u001b[1;33m\u001b[0m\u001b[1;33m\u001b[0m\u001b[0m\n\u001b[0;32m   1634\u001b[0m             \u001b[0mself\u001b[0m\u001b[1;33m.\u001b[0m\u001b[0madd_line\u001b[0m\u001b[1;33m(\u001b[0m\u001b[0mline\u001b[0m\u001b[1;33m)\u001b[0m\u001b[1;33m\u001b[0m\u001b[1;33m\u001b[0m\u001b[0m\n",
      "\u001b[1;32mc:\\ProgramData\\Anaconda3\\lib\\site-packages\\matplotlib\\axes\\_base.py\u001b[0m in \u001b[0;36m__call__\u001b[1;34m(self, data, *args, **kwargs)\u001b[0m\n\u001b[0;32m    310\u001b[0m                 \u001b[0mthis\u001b[0m \u001b[1;33m+=\u001b[0m \u001b[0margs\u001b[0m\u001b[1;33m[\u001b[0m\u001b[1;36m0\u001b[0m\u001b[1;33m]\u001b[0m\u001b[1;33m,\u001b[0m\u001b[1;33m\u001b[0m\u001b[1;33m\u001b[0m\u001b[0m\n\u001b[0;32m    311\u001b[0m                 \u001b[0margs\u001b[0m \u001b[1;33m=\u001b[0m \u001b[0margs\u001b[0m\u001b[1;33m[\u001b[0m\u001b[1;36m1\u001b[0m\u001b[1;33m:\u001b[0m\u001b[1;33m]\u001b[0m\u001b[1;33m\u001b[0m\u001b[1;33m\u001b[0m\u001b[0m\n\u001b[1;32m--> 312\u001b[1;33m             \u001b[1;32myield\u001b[0m \u001b[1;32mfrom\u001b[0m \u001b[0mself\u001b[0m\u001b[1;33m.\u001b[0m\u001b[0m_plot_args\u001b[0m\u001b[1;33m(\u001b[0m\u001b[0mthis\u001b[0m\u001b[1;33m,\u001b[0m \u001b[0mkwargs\u001b[0m\u001b[1;33m)\u001b[0m\u001b[1;33m\u001b[0m\u001b[1;33m\u001b[0m\u001b[0m\n\u001b[0m\u001b[0;32m    313\u001b[0m \u001b[1;33m\u001b[0m\u001b[0m\n\u001b[0;32m    314\u001b[0m     \u001b[1;32mdef\u001b[0m \u001b[0mget_next_color\u001b[0m\u001b[1;33m(\u001b[0m\u001b[0mself\u001b[0m\u001b[1;33m)\u001b[0m\u001b[1;33m:\u001b[0m\u001b[1;33m\u001b[0m\u001b[1;33m\u001b[0m\u001b[0m\n",
      "\u001b[1;32mc:\\ProgramData\\Anaconda3\\lib\\site-packages\\matplotlib\\axes\\_base.py\u001b[0m in \u001b[0;36m_plot_args\u001b[1;34m(self, tup, kwargs, return_kwargs)\u001b[0m\n\u001b[0;32m    496\u001b[0m \u001b[1;33m\u001b[0m\u001b[0m\n\u001b[0;32m    497\u001b[0m         \u001b[1;32mif\u001b[0m \u001b[0mx\u001b[0m\u001b[1;33m.\u001b[0m\u001b[0mshape\u001b[0m\u001b[1;33m[\u001b[0m\u001b[1;36m0\u001b[0m\u001b[1;33m]\u001b[0m \u001b[1;33m!=\u001b[0m \u001b[0my\u001b[0m\u001b[1;33m.\u001b[0m\u001b[0mshape\u001b[0m\u001b[1;33m[\u001b[0m\u001b[1;36m0\u001b[0m\u001b[1;33m]\u001b[0m\u001b[1;33m:\u001b[0m\u001b[1;33m\u001b[0m\u001b[1;33m\u001b[0m\u001b[0m\n\u001b[1;32m--> 498\u001b[1;33m             raise ValueError(f\"x and y must have same first dimension, but \"\n\u001b[0m\u001b[0;32m    499\u001b[0m                              f\"have shapes {x.shape} and {y.shape}\")\n\u001b[0;32m    500\u001b[0m         \u001b[1;32mif\u001b[0m \u001b[0mx\u001b[0m\u001b[1;33m.\u001b[0m\u001b[0mndim\u001b[0m \u001b[1;33m>\u001b[0m \u001b[1;36m2\u001b[0m \u001b[1;32mor\u001b[0m \u001b[0my\u001b[0m\u001b[1;33m.\u001b[0m\u001b[0mndim\u001b[0m \u001b[1;33m>\u001b[0m \u001b[1;36m2\u001b[0m\u001b[1;33m:\u001b[0m\u001b[1;33m\u001b[0m\u001b[1;33m\u001b[0m\u001b[0m\n",
      "\u001b[1;31mValueError\u001b[0m: x and y must have same first dimension, but have shapes (1,) and (1000,)"
     ]
    },
    {
     "data": {
      "image/png": "[encoded data removed]",
      "text/plain": [
       "<Figure size 640x480 with 1 Axes>"
      ]
     },
     "metadata": {},
     "output_type": "display_data"
    }
   ],
   "source": [
    "import numpy as np\n",
    "import matplotlib.pyplot as plt\n",
    "from scipy.integrate import quad\n",
    "\n",
    "X_lista = np.linspace(-5, 5, 1000)\n",
    "\n",
    "def f(x):\n",
    "    if -1 <= x <= 1:\n",
    "        return (3/4)-((x**2)*(3/4))\n",
    "    else:\n",
    "        return 0\n",
    "\n",
    "y = []\n",
    "\n",
    "for x in X_lista:\n",
    "    y.append(f(x))\n",
    "\n",
    "figura, eixo = plt.subplots()\n",
    "\n",
    "eixo.plot(x, y)\n",
    "\n",
    "eixo.set_xlabel(\"Valor X\")\n",
    "eixo.set_ylabel(\"$f(x)$\")"
   ]
  },
  {
   "cell_type": "code",
   "execution_count": 2,
   "metadata": {},
   "outputs": [
    {
     "data": {
      "text/plain": [
       "Text(0, 0.5, '$F(x)$')"
      ]
     },
     "execution_count": 2,
     "metadata": {},
     "output_type": "execute_result"
    },
    {
     "data": {
      "image/png": "[encoded data removed]",
      "text/plain": [
       "<Figure size 640x480 with 1 Axes>"
      ]
     },
     "metadata": {},
     "output_type": "display_data"
    }
   ],
   "source": [
    "x = np.linspace(-1, 1, 1000)\n",
    "\n",
    "def F(x):\n",
    "    return quad(f, -np.inf, x)[0]\n",
    "\n",
    "y = []\n",
    "\n",
    "for x_ in x:\n",
    "    y.append(F(x_))\n",
    "\n",
    "figura, eixo = plt.subplots()\n",
    "\n",
    "eixo.plot(x, y)\n",
    "\n",
    "eixo.set_xlabel(\"Valor de X\")\n",
    "eixo.set_ylabel(\"$F(x)$\")"
   ]
  },
  {
   "cell_type": "code",
   "execution_count": 3,
   "metadata": {},
   "outputs": [
    {
     "data": {
      "text/plain": [
       "0.15625000000000003"
      ]
     },
     "execution_count": 3,
     "metadata": {},
     "output_type": "execute_result"
    }
   ],
   "source": [
    "def F2(a, b):\n",
    "    return quad(f, a, b)[0]\n",
    "\n",
    "F2(0.5, 1)"
   ]
  },
  {
   "cell_type": "code",
   "execution_count": null,
   "metadata": {},
   "outputs": [],
   "source": []
  },
  {
   "cell_type": "code",
   "execution_count": null,
   "metadata": {},
   "outputs": [],
   "source": []
  },
  {
   "cell_type": "code",
   "execution_count": 4,
   "metadata": {},
   "outputs": [
    {
     "name": "stdout",
     "output_type": "stream",
     "text": [
      "0.0\n"
     ]
    }
   ],
   "source": [
    "def valor_esperado(f):\n",
    "    \"\"\"Computa o valor esperado para uma distribuição contínua.\"\"\"\n",
    "    return quad(lambda x: x * f(x), -np.inf, np.inf)[0]\n",
    "\n",
    "v_esperado = valor_esperado(f)\n",
    "\n",
    "print(v_esperado)"
   ]
  },
  {
   "cell_type": "code",
   "execution_count": 5,
   "metadata": {},
   "outputs": [
    {
     "name": "stdout",
     "output_type": "stream",
     "text": [
      "0.19999999999999996\n"
     ]
    }
   ],
   "source": [
    "def valor_esperado(f, h=lambda x: x):\n",
    "    \"\"\"Computa o valor esperado para uma distribuição contínua.\"\"\"\n",
    "    return quad(lambda x: h(x) * f(x), -np.inf, np.inf)[0]\n",
    "v_esperado = valor_esperado(f)\n",
    "\n",
    "def h(x):\n",
    "    return (x - v_esperado) ** 2\n",
    "\n",
    "variancia = valor_esperado(f, h)\n",
    "\n",
    "print(variancia)"
   ]
  },
  {
   "cell_type": "markdown",
   "metadata": {},
   "source": [
    "## Exercício 2 (25 pontos)\n",
    "\n"
   ]
  },
  {
   "cell_type": "markdown",
   "metadata": {},
   "source": [
    "As reuniões do colegiado acontecem de terça-feira, tendo início às 12:30.\n",
    "\n",
    "O professor $A$ chega nesta reunião entre 12:30 e 12:35 seguindo uma distribuição uniforme de probabilidade.\n",
    "\n",
    "O professor $B$ chega nesta reunião seguindo uma distribuição normal de probabilidade com média 12:33 e desvio padrão de 0,5 minuto.\n",
    "\n",
    "A chegada dos professores $A$ e $B$ são eventos independentes.\n",
    "\n",
    "Qual é a probabilidade de que os professores $A$ e $B$ irão perder os 2 primeiros minutos da reunião do colegiado na próxima terça-feira?\n",
    "\n",
    "<u>Resolva este problema de forma numérica usando código</u>. O `scipy` [tem](https://docs.scipy.org/doc/scipy/reference/generated/scipy.stats.uniform.html#scipy.stats.uniform) a distribuição uniforme caso queira.\n",
    "\n",
    "**Dica**: Quem sabe representar os horários de outra maneira possa ajudar! Deixe claro para o leitor qualquer conversão feita.\n",
    "\n"
   ]
  },
  {
   "cell_type": "markdown",
   "metadata": {},
   "source": [
    "## Resolução do exercício 2\n",
    "\n"
   ]
  },
  {
   "cell_type": "code",
   "execution_count": 6,
   "metadata": {},
   "outputs": [],
   "source": [
    "import numpy as np\n",
    "import matplotlib.pyplot as plt\n",
    "import math\n",
    "from math import pi\n",
    "from scipy.integrate import quad\n"
   ]
  },
  {
   "cell_type": "code",
   "execution_count": 7,
   "metadata": {},
   "outputs": [
    {
     "data": {
      "text/plain": [
       "Text(0, 0.5, '$f(x)$')"
      ]
     },
     "execution_count": 7,
     "metadata": {},
     "output_type": "execute_result"
    },
    {
     "data": {
      "image/png": "[encoded data removed]",
      "text/plain": [
       "<Figure size 640x480 with 1 Axes>"
      ]
     },
     "metadata": {},
     "output_type": "display_data"
    }
   ],
   "source": [
    "x = np.linspace(-10, 310, 1000)\n",
    "\n",
    "def f(x):\n",
    "    if 0 <= x <= 5:\n",
    "        \n",
    "        return 1/5\n",
    "    else:\n",
    "        return 0\n",
    "\n",
    "y = []\n",
    "\n",
    "for x_ in x:\n",
    "    y.append(f(x_))\n",
    "\n",
    "figura, eixo = plt.subplots()\n",
    "\n",
    "eixo.plot(x, y)\n",
    "\n",
    "eixo.set_xlabel(\"Valor X\")\n",
    "eixo.set_ylabel(\"$f(x)$\")"
   ]
  },
  {
   "cell_type": "code",
   "execution_count": 8,
   "metadata": {},
   "outputs": [
    {
     "data": {
      "text/plain": [
       "0.6000000000000001"
      ]
     },
     "execution_count": 8,
     "metadata": {},
     "output_type": "execute_result"
    }
   ],
   "source": [
    "def F2(a, b):\n",
    "    return quad(f, a, b)[0]\n",
    "\n",
    "p1 = F2(2, 5)\n",
    "p1"
   ]
  },
  {
   "cell_type": "code",
   "execution_count": null,
   "metadata": {},
   "outputs": [],
   "source": []
  },
  {
   "cell_type": "code",
   "execution_count": null,
   "metadata": {},
   "outputs": [],
   "source": []
  },
  {
   "cell_type": "code",
   "execution_count": 9,
   "metadata": {},
   "outputs": [
    {
     "data": {
      "text/plain": [
       "Text(0, 0.5, '$f(x)$')"
      ]
     },
     "execution_count": 9,
     "metadata": {},
     "output_type": "execute_result"
    },
    {
     "data": {
      "image/png": "[encoded data removed]",
      "text/plain": [
       "<Figure size 640x480 with 1 Axes>"
      ]
     },
     "metadata": {},
     "output_type": "display_data"
    }
   ],
   "source": [
    "def dist_normal(x, media, desvpadr):\n",
    "    \"\"\"Computa a pdf de uma distribuição normal.\"\"\"\n",
    "\n",
    "    preexp = 1 / (desvpadr * (2 * pi) ** (1/2))\n",
    "    exp = np.exp(-(1 / 2) * ((x - media) / desvpadr) ** 2)\n",
    "\n",
    "    return preexp * exp\n",
    "\n",
    "\n",
    "x = np.linspace(-5, 7, 1000)\n",
    "\n",
    "MEDIA = 3\n",
    "DESV_PADRAO = 0.5\n",
    "\n",
    "y = dist_normal(x, MEDIA, DESV_PADRAO)\n",
    "\n",
    "figura, eixo = plt.subplots()\n",
    "\n",
    "eixo.plot(x, y)\n",
    "\n",
    "eixo.set_xlabel(\"$x$\")\n",
    "eixo.set_ylabel(\"$f(x)$\")"
   ]
  },
  {
   "cell_type": "markdown",
   "metadata": {},
   "source": [
    "$$\n",
    "f(x;\\mu,\\sigma) = \\frac{1}{\\sigma \\sqrt{2 \\pi}} \\exp \\left( -\\frac{1}{2} \\left( \\frac{x - \\mu}{\\sigma} \\right)^2 \\right),\n",
    "$$"
   ]
  },
  {
   "cell_type": "code",
   "execution_count": 10,
   "metadata": {},
   "outputs": [],
   "source": [
    "def f(x):\n",
    "    if 0 <= x <= 5:    \n",
    "        return (1/(0.5*math.sqrt(2*pi)))*math.exp((-1/2)*(((x - 3)/0.5)**2))\n",
    "    else:\n",
    "        return 0"
   ]
  },
  {
   "cell_type": "code",
   "execution_count": 11,
   "metadata": {},
   "outputs": [
    {
     "data": {
      "text/plain": [
       "0.9772181968099878"
      ]
     },
     "execution_count": 11,
     "metadata": {},
     "output_type": "execute_result"
    }
   ],
   "source": [
    "def F2(a, b):\n",
    "    return quad(f, a, b)[0]\n",
    "\n",
    "p2 = F2(2, 5)\n",
    "p2"
   ]
  },
  {
   "cell_type": "code",
   "execution_count": null,
   "metadata": {},
   "outputs": [],
   "source": []
  },
  {
   "cell_type": "code",
   "execution_count": null,
   "metadata": {},
   "outputs": [],
   "source": []
  },
  {
   "cell_type": "code",
   "execution_count": 12,
   "metadata": {},
   "outputs": [
    {
     "data": {
      "text/plain": [
       "0.5863309180859928"
      ]
     },
     "execution_count": 12,
     "metadata": {},
     "output_type": "execute_result"
    }
   ],
   "source": [
    "p_final = p1*p2\n",
    "\n",
    "p_final"
   ]
  },
  {
   "cell_type": "markdown",
   "metadata": {},
   "source": [
    "## Referências\n",
    "\n"
   ]
  },
  {
   "cell_type": "markdown",
   "metadata": {},
   "source": [
    "Escreva nesta seção as referências consultadas.\n",
    "\n",
    "1.  Exercícios foram baseados no curso Data 140 de UC Berkeley [http://prob140.org/textbook/content/README.html](http://prob140.org/textbook/content/README.html)\n",
    "\n"
   ]
  },
  {
   "cell_type": "markdown",
   "metadata": {},
   "source": [
    "## Playground\n",
    "\n"
   ]
  },
  {
   "cell_type": "markdown",
   "metadata": {},
   "source": [
    "Use este espaço para fazer o que quiser. Não será considerado na correção.\n",
    "\n"
   ]
  },
  {
   "cell_type": "code",
   "execution_count": null,
   "metadata": {},
   "outputs": [],
   "source": []
  }
 ],
 "metadata": {
  "kernelspec": {
   "display_name": "Dark_Kernel",
   "language": "python",
   "name": "dark_kernel"
  },
  "language_info": {
   "codemirror_mode": {
    "name": "ipython",
    "version": 3
   },
   "file_extension": ".py",
   "mimetype": "text/x-python",
   "name": "python",
   "nbconvert_exporter": "python",
   "pygments_lexer": "ipython3",
   "version": "3.9.13"
  },
  "org": null,
  "vscode": {
   "interpreter": {
    "hash": "26de051ba29f2982a8de78e945f0abaf191376122a1563185a90213a26c5da77"
   }
  }
 },
 "nbformat": 4,
 "nbformat_minor": 4
}
