{
 "cells": [
  {
   "cell_type": "markdown",
   "metadata": {},
   "source": [
    "Exercícios sobre distribuições\n",
    "==============================\n",
    "\n"
   ]
  },
  {
   "cell_type": "markdown",
   "metadata": {},
   "source": [
    "## Exercício 1 (25 pontos)\n",
    "\n"
   ]
  },
  {
   "cell_type": "markdown",
   "metadata": {},
   "source": [
    "Considere que a variável aleatória $X$ apresenta a seguinte pdf:\n",
    "\n",
    "$$\n",
    "f(x)=\\begin{cases}\n",
    "c(1-x^2) & -1 < x < 1\\\\\n",
    "0 & \\textrm{caso contrário}\n",
    "\\end{cases}\n",
    "$$\n",
    "\n",
    "Utilizando de seus conhecimentos adquiridos sobre distribuições de probabilidades, resolva as questões abaixo.\n",
    "\n",
    "1.  Encontre o valor de $c$. Se calcular de forma numérica, mostre os códigos. Se calcular de forma analítica, mostre todos os passos.\n",
    "\n",
    "2.  Encontre a forma analítica da cdf de $X$. Mostre todos os passos.\n",
    "\n",
    "3.  Calcule $P(|X| > 0,5)$. Mostre com clareza os passo do seu raciocínio.\n",
    "\n",
    "4.  Calcule $E[X]$.\n",
    "\n",
    "5.  Calcule $\\mathrm{Var}(X)$.\n",
    "\n",
    "**Nota**: pode resolver em papel a parte matemática e incluir a imagem no notebook e na entrega do teams. Mas lembrando que em LaTeX fica muito mais bonito e elegante :)\n",
    "\n"
   ]
  },
  {
   "cell_type": "markdown",
   "metadata": {},
   "source": [
    "## Resolução do exercício 1\n",
    "\n"
   ]
  },
  {
   "cell_type": "markdown",
   "metadata": {},
   "source": [
    "### **1. Valor de c**"
   ]
  },
  {
   "cell_type": "markdown",
   "metadata": {},
   "source": [
    "Tendo a função de densidade de probabilidade dita por \n",
    "\n",
    "$$\\int_{-\\infty}^{\\infty} f(x) \\ dx = 1$$\n",
    "\n",
    "Além disso sabemos que essa densidade é dada por: \n",
    "\n",
    "$$f(x) = c(1-x^2)$$ \n",
    "\n",
    "No intervalo de -1 a 1, ou seja, teremos:\n",
    "\n",
    "$$\\int_{-1}^{1} c(1-x^2) \\ dx = 1$$ \n",
    "\n",
    "Fazendo a integral, temos que:\n",
    "\n",
    "$$cx - \\frac{cx^3}{3} \\bigg |_{-1}^{1} = 1$$\n",
    "\n",
    "$$\\Big (c (1) - \\frac{c(1)^3}{3} \\Big) - \\Big (c(-1) - \\frac{c(-1)^3}{3} \\Big) = 1$$\n",
    "\n",
    "$$\\Big ( \\frac{3c - c}{3} \\Big) - \\Big (\\frac {-3c + c}{3} \\Big) = 1$$\n",
    "\n",
    "$$\\frac{4c}{3} = 1 $$\n",
    "\n",
    "$$\\boxed{ \\ c = \\frac{3}{4} \\ }$$\n"
   ]
  },
  {
   "cell_type": "markdown",
   "metadata": {},
   "source": [
    "### **2. cdf de X**"
   ]
  },
  {
   "cell_type": "code",
   "execution_count": 2,
   "metadata": {},
   "outputs": [],
   "source": [
    "'''IMPORTS'''\n",
    "import numpy as np\n",
    "import matplotlib.pyplot as plt\n",
    "from scipy.integrate import quad"
   ]
  },
  {
   "cell_type": "code",
   "execution_count": 10,
   "metadata": {},
   "outputs": [],
   "source": [
    "'''FUNÇÕES'''\n",
    "def f(x):\n",
    "    if -1 <= x <= 1:\n",
    "        return (3/4)-((x**2)*(3/4))\n",
    "    else:\n",
    "        return 0\n",
    "\n",
    "def F(x):\n",
    "    return quad(f, -np.inf, x)[0]"
   ]
  },
  {
   "cell_type": "code",
   "execution_count": 11,
   "metadata": {},
   "outputs": [
    {
     "data": {
      "text/plain": [
       "Text(0, 0.5, '$f(x)$')"
      ]
     },
     "execution_count": 11,
     "metadata": {},
     "output_type": "execute_result"
    },
    {
     "data": {
      "image/png": "[encoded data removed]",
      "text/plain": [
       "<Figure size 640x480 with 1 Axes>"
      ]
     },
     "metadata": {},
     "output_type": "display_data"
    }
   ],
   "source": [
    "'''Script da Pdf'''\n",
    "\n",
    "X_lista = np.linspace(-5, 5, 1000)\n",
    "y = []\n",
    "\n",
    "for x in X_lista:\n",
    "    y.append(f(x))\n",
    "\n",
    "figura, eixo = plt.subplots()\n",
    "\n",
    "eixo.plot(X_lista, y)\n",
    "\n",
    "eixo.set_xlabel(\"Valor X\")\n",
    "eixo.set_ylabel(\"$f(x)$\")"
   ]
  },
  {
   "cell_type": "markdown",
   "metadata": {},
   "source": [
    "\n",
    "A CDF de X é definida como a integral da PDF de -∞ até x. Neste caso, a PDF é $f(x) = \\frac{3}{4}(1-x^2)$. Portanto, a CDF F(x) é:\n",
    "\n",
    "$$\n",
    "F(x) = \\int_{-\\infty}^{x} \\frac{3}{4}(1-x^2) dx\n",
    "$$\n",
    "\n",
    "Agora, resolvendo esta integral:\n",
    "\n",
    "$$\n",
    "F(x) = \\frac{3}{4} \\int_{-\\infty}^{x} (1-x^2) dx\n",
    "$$\n",
    "\n",
    "$$\n",
    "F(x) = \\frac{3}{4} \\left[ \\int_{-\\infty}^{x} 1 dx - \\int_{-\\infty}^{x} x^2 dx \\right]\n",
    "$$\n",
    "\n",
    "A integral de 1 em relação a x é simplesmente x:\n",
    "\n",
    "$$\n",
    "F(x) = \\frac{3}{4} \\left[ x - \\int_{-\\infty}^{x} x^2 dx \\right]\n",
    "$$\n",
    "\n",
    "Agora, calculamos a integral de $x^2$ de -∞ até x:\n",
    "\n",
    "$$\n",
    "F(x) = \\frac{3}{4} \\left[ x - \\left(\\frac{x^3}{3}\\big|_{-\\infty}^{x}\\right) \\right]\n",
    "$$\n",
    "\n",
    "Observe que a integral de $x^2$ em relação a x converge para 0 quando x tende para -∞. Portanto, o limite inferior pode ser considerado como 0:\n",
    "\n",
    "$$\n",
    "F(x) = \\frac{3}{4} \\left[ x - \\left(\\frac{x^3}{3}\\big|_{0}^{x}\\right) \\right]\n",
    "$$\n",
    "\n",
    "Agora, resolva a integral restante:\n",
    "\n",
    "$$\n",
    "F(x) = \\frac{3}{4} \\left[ x - \\left(\\frac{x^3}{3} - \\frac{0^3}{3}\\right) \\right]\n",
    "$$\n",
    "\n",
    "$$\n",
    "F(x) = \\frac{3}{4} \\left[ x - \\frac{x^3}{3} \\right]\n",
    "$$\n",
    "\n",
    "$$\n",
    "\\boxed{ \\ F(x) = \\frac{3}{4} x - \\frac{1}{4} x^3 \\ }\n",
    "$$\n",
    "\n"
   ]
  },
  {
   "cell_type": "code",
   "execution_count": 12,
   "metadata": {},
   "outputs": [
    {
     "data": {
      "text/plain": [
       "Text(0, 0.5, '$F(x)$')"
      ]
     },
     "execution_count": 12,
     "metadata": {},
     "output_type": "execute_result"
    },
    {
     "data": {
      "image/png": "[encoded data removed]",
      "text/plain": [
       "<Figure size 640x480 with 1 Axes>"
      ]
     },
     "metadata": {},
     "output_type": "display_data"
    }
   ],
   "source": [
    "'''SCRIPT da cdf'''\n",
    "\n",
    "X_lista = np.linspace(-1, 1, 1000)\n",
    "y = []\n",
    "\n",
    "for x in X_lista:\n",
    "    y.append(F(x))\n",
    "\n",
    "figura, eixo = plt.subplots()\n",
    "\n",
    "eixo.plot(X_lista, y)\n",
    "\n",
    "eixo.set_xlabel(\"Valor de X\")\n",
    "eixo.set_ylabel(\"$F(x)$\")"
   ]
  },
  {
   "cell_type": "markdown",
   "metadata": {},
   "source": [
    "### **3. P(|X| > 0,5)**"
   ]
  },
  {
   "cell_type": "markdown",
   "metadata": {},
   "source": [
    "\n",
    "\n",
    "Agora, vamos calcular a integral usando a cdf que encontramos:\n",
    "\n",
    "$$\n",
    "P(|X| > 0,5) = F(1) - F(0.5)\n",
    "$$\n",
    "\n",
    "Substituindo a CDF $F(x) = \\frac{3}{4}x - \\frac{1}{4}x^3$:\n",
    "\n",
    "$$\n",
    "P(|X| > 0,5) = \\left(\\frac{3}{4} \\cdot (1) - \\frac{1}{4} \\cdot (1)^3\\right) - \\left(\\frac{3}{4} \\cdot 0,5 - \\frac{1}{4} \\cdot (0,5)^3\\right)\n",
    "$$\n",
    "\n",
    "Calculando cada parte separadamente:\n",
    "\n",
    "$$\n",
    "P(|X| > 0,5) = \\left(\\frac{3}{4} \\cdot (1) - \\frac{1}{4} \\cdot (1)\\right) - \\left(\\frac{3}{4} \\cdot 0,5 - \\frac{1}{4} \\cdot 0,125\\right)\n",
    "$$\n",
    "\n",
    "$$\n",
    "P(|X| > 0,5) = \\left(\\frac{3}{4} - \\frac{1}{4}\\right) - \\left(\\frac{3}{8} - \\frac{1}{32}\\right) \n",
    "$$\n",
    "\n",
    "Somando as duas partes:\n",
    "\n",
    "$$\n",
    "P(|X| > 0,5) = \\frac{3}{4} - \\frac{1}{4} - \\frac{3}{8} + \\frac{1}{32}\n",
    "$$\n",
    "\n",
    "$$\n",
    "P(|X| > 0,5) = \\frac{16}{32} - \\frac{11}{32}\n",
    "$$\n",
    "\n",
    "$$\n",
    "\\boxed{ \\ P(|X| > 0,5) = \\frac{5}{32} \\ }\n",
    "$$\n",
    "\n",
    "Portanto, a probabilidade $P(|X| > 0,5)$ é igual a $\\frac{5}{32}$."
   ]
  },
  {
   "cell_type": "code",
   "execution_count": null,
   "metadata": {},
   "outputs": [],
   "source": [
    "'''FUNÇÕES'''\n",
    "def F2(a, b):\n",
    "    return quad(f, a, b)[0]"
   ]
  },
  {
   "cell_type": "code",
   "execution_count": 18,
   "metadata": {},
   "outputs": [
    {
     "name": "stdout",
     "output_type": "stream",
     "text": [
      "De forma que a probabilidade x ser maior que 0.5 é 0.15625000000000003\n"
     ]
    }
   ],
   "source": [
    "'''SCRIPT'''\n",
    "\n",
    "Probabilidade = F2(0.5, 1)\n",
    "\n",
    "print(f'De forma que a probabilidade x ser maior que 0.5 é {Probabilidade}')"
   ]
  },
  {
   "cell_type": "markdown",
   "metadata": {},
   "source": [
    "### **4. E[X]**"
   ]
  },
  {
   "cell_type": "code",
   "execution_count": 8,
   "metadata": {},
   "outputs": [],
   "source": [
    "'''FUNÇÕES'''\n",
    "def valor_esperado(f):\n",
    "    \"\"\"Computa o valor esperado para uma distribuição contínua.\"\"\"\n",
    "    return quad(lambda x: x * f(x), -np.inf, np.inf)[0]\n",
    "    "
   ]
  },
  {
   "cell_type": "code",
   "execution_count": 19,
   "metadata": {},
   "outputs": [
    {
     "name": "stdout",
     "output_type": "stream",
     "text": [
      "Assim temos que o valor esperado para x é 0.0\n"
     ]
    }
   ],
   "source": [
    "'''SCRIPT''' \n",
    "\n",
    "v_esperado = valor_esperado(f)\n",
    "\n",
    "print(f'Assim temos que o valor esperado para x é {v_esperado}')"
   ]
  },
  {
   "cell_type": "markdown",
   "metadata": {},
   "source": [
    "### **5. Variância**"
   ]
  },
  {
   "cell_type": "code",
   "execution_count": 16,
   "metadata": {},
   "outputs": [],
   "source": [
    "'''FUNÇÕES'''\n",
    "def h(x):\n",
    "    return (x - v_esperado) ** 2\n",
    "\n",
    "def valor_esperado(f, h=lambda x: x):\n",
    "    \"\"\"Computa o valor esperado para uma distribuição contínua.\"\"\"\n",
    "    return quad(lambda x: h(x) * f(x), -np.inf, np.inf)[0]"
   ]
  },
  {
   "cell_type": "code",
   "execution_count": 20,
   "metadata": {},
   "outputs": [
    {
     "name": "stdout",
     "output_type": "stream",
     "text": [
      "Então temos que a variância é 0.19999999999999996\n"
     ]
    }
   ],
   "source": [
    "'''SCRIPT'''\n",
    "v_esperado = valor_esperado(f)\n",
    "\n",
    "variancia = valor_esperado(f, h)\n",
    "\n",
    "print(f'Então temos que a variância é {variancia}')"
   ]
  },
  {
   "cell_type": "markdown",
   "metadata": {},
   "source": [
    "## Exercício 2 (25 pontos)\n",
    "\n"
   ]
  },
  {
   "cell_type": "markdown",
   "metadata": {},
   "source": [
    "As reuniões do colegiado acontecem de terça-feira, tendo início às 12:30.\n",
    "\n",
    "O professor $A$ chega nesta reunião entre 12:30 e 12:35 seguindo uma distribuição uniforme de probabilidade.\n",
    "\n",
    "O professor $B$ chega nesta reunião seguindo uma distribuição normal de probabilidade com média 12:33 e desvio padrão de 0,5 minuto.\n",
    "\n",
    "A chegada dos professores $A$ e $B$ são eventos independentes.\n",
    "\n",
    "Qual é a probabilidade de que os professores $A$ e $B$ irão perder os 2 primeiros minutos da reunião do colegiado na próxima terça-feira?\n",
    "\n",
    "<u>Resolva este problema de forma numérica usando código</u>. O `scipy` [tem](https://docs.scipy.org/doc/scipy/reference/generated/scipy.stats.uniform.html#scipy.stats.uniform) a distribuição uniforme caso queira.\n",
    "\n",
    "**Dica**: Quem sabe representar os horários de outra maneira possa ajudar! Deixe claro para o leitor qualquer conversão feita.\n",
    "\n"
   ]
  },
  {
   "cell_type": "markdown",
   "metadata": {},
   "source": [
    "## Resolução do exercício 2\n",
    "\n"
   ]
  },
  {
   "cell_type": "code",
   "execution_count": 31,
   "metadata": {},
   "outputs": [],
   "source": [
    "'''IMPORTS'''\n",
    "\n",
    "import numpy as np\n",
    "import matplotlib.pyplot as plt\n",
    "import math\n",
    "from math import pi\n",
    "from scipy.integrate import quad\n"
   ]
  },
  {
   "cell_type": "code",
   "execution_count": 40,
   "metadata": {},
   "outputs": [],
   "source": [
    "'''FUNÇÕES'''\n",
    "\n",
    "def f(x):\n",
    "    if 0 <= x <= 5:\n",
    "        \n",
    "        return 1/5\n",
    "    else:\n",
    "        return 0\n",
    "    \n",
    "def F2(a, b):\n",
    "    return quad(f, a, b)[0]\n",
    "\n",
    "def dist_normal(x, media, desvpadr):\n",
    "    \"\"\"Computa a pdf de uma distribuição normal.\"\"\"\n",
    "\n",
    "    preexp = 1 / (desvpadr * (2 * pi) ** (1/2))\n",
    "    exp = np.exp(-(1 / 2) * ((x - media) / desvpadr) ** 2)\n",
    "\n",
    "    return preexp * exp\n",
    "\n",
    "def f2(x):\n",
    "    if 0 <= x <= 5:    \n",
    "        return (1/(0.5*math.sqrt(2*pi)))*math.exp((-1/2)*(((x - 3)/0.5)**2))\n",
    "    else:\n",
    "        return 0\n",
    "    \n",
    "def F2_2(a, b):\n",
    "    return quad(f2, a, b)[0]\n"
   ]
  },
  {
   "cell_type": "code",
   "execution_count": 39,
   "metadata": {},
   "outputs": [
    {
     "name": "stdout",
     "output_type": "stream",
     "text": [
      "A probabilidade de atraso do professor A 0.6000000000000001\n"
     ]
    },
    {
     "data": {
      "image/png": "[encoded data removed]",
      "text/plain": [
       "<Figure size 640x480 with 1 Axes>"
      ]
     },
     "metadata": {},
     "output_type": "display_data"
    }
   ],
   "source": [
    "'''SCRIPT do professoar A'''\n",
    "x = np.linspace(-10, 10, 1000)\n",
    "\n",
    "y = []\n",
    "\n",
    "for x_ in x:\n",
    "    y.append(f(x_))\n",
    "\n",
    "figura, eixo = plt.subplots()\n",
    "\n",
    "eixo.plot(x, y)\n",
    "\n",
    "eixo.set_xlabel(\"Valor X\")\n",
    "eixo.set_ylabel(\"$f(x)$\")\n",
    "\n",
    "p1 = F2(2, 5)\n",
    "\n",
    "\n",
    "print(f'A probabilidade de atraso do professor A {p1}')"
   ]
  },
  {
   "cell_type": "markdown",
   "metadata": {},
   "source": [
    "$$\n",
    "f(x;\\mu,\\sigma) = \\frac{1}{\\sigma \\sqrt{2 \\pi}} \\exp \\left( -\\frac{1}{2} \\left( \\frac{x - \\mu}{\\sigma} \\right)^2 \\right),\n",
    "$$"
   ]
  },
  {
   "cell_type": "code",
   "execution_count": 41,
   "metadata": {},
   "outputs": [
    {
     "name": "stdout",
     "output_type": "stream",
     "text": [
      "A probabilidade de atraso do professor B 0.9772181968099878\n"
     ]
    },
    {
     "data": {
      "image/png": "[encoded data removed]",
      "text/plain": [
       "<Figure size 640x480 with 1 Axes>"
      ]
     },
     "metadata": {},
     "output_type": "display_data"
    }
   ],
   "source": [
    "'''SCRIPT do professor B'''\n",
    "x = np.linspace(-10, 10, 1000)\n",
    "\n",
    "y = []\n",
    "\n",
    "for x_ in x:\n",
    "    y.append(f2(x_))\n",
    "\n",
    "figura, eixo = plt.subplots()\n",
    "\n",
    "eixo.plot(x, y)\n",
    "\n",
    "eixo.set_xlabel(\"Valor X\")\n",
    "eixo.set_ylabel(\"$f(x)$\")\n",
    "\n",
    "p2 = F2_2(2, 5)\n",
    "\n",
    "print(f'A probabilidade de atraso do professor B {p2}')"
   ]
  },
  {
   "cell_type": "code",
   "execution_count": 42,
   "metadata": {},
   "outputs": [
    {
     "name": "stdout",
     "output_type": "stream",
     "text": [
      "Logo temos que a probabilidade de ambos chegarem atrasados é 0.5863309180859928\n"
     ]
    }
   ],
   "source": [
    "'''SCRIPT de ambos os professores'''\n",
    "p_final = p1*p2\n",
    "\n",
    "print(f'Logo temos que a probabilidade de ambos chegarem atrasados é {p_final}')\n"
   ]
  },
  {
   "cell_type": "markdown",
   "metadata": {},
   "source": [
    "## Referências\n",
    "\n"
   ]
  },
  {
   "cell_type": "markdown",
   "metadata": {},
   "source": [
    "Escreva nesta seção as referências consultadas.\n",
    "\n",
    "1.  Exercícios foram baseados no curso Data 140 de UC Berkeley [http://prob140.org/textbook/content/README.html](http://prob140.org/textbook/content/README.html)\n",
    "\n"
   ]
  },
  {
   "cell_type": "markdown",
   "metadata": {},
   "source": [
    "## Playground\n",
    "\n"
   ]
  },
  {
   "cell_type": "markdown",
   "metadata": {},
   "source": [
    "Use este espaço para fazer o que quiser. Não será considerado na correção.\n",
    "\n"
   ]
  },
  {
   "cell_type": "code",
   "execution_count": null,
   "metadata": {},
   "outputs": [],
   "source": []
  }
 ],
 "metadata": {
  "kernelspec": {
   "display_name": "Python 3.10.8 64-bit",
   "language": "python",
   "name": "python3"
  },
  "language_info": {
   "codemirror_mode": {
    "name": "ipython",
    "version": 3
   },
   "file_extension": ".py",
   "mimetype": "text/x-python",
   "name": "python",
   "nbconvert_exporter": "python",
   "pygments_lexer": "ipython3",
   "version": "3.10.8"
  },
  "org": null,
  "vscode": {
   "interpreter": {
    "hash": "26de051ba29f2982a8de78e945f0abaf191376122a1563185a90213a26c5da77"
   }
  }
 },
 "nbformat": 4,
 "nbformat_minor": 4
}
