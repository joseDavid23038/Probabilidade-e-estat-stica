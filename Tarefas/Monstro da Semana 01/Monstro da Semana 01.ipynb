{
 "cells": [
  {
   "cell_type": "markdown",
   "metadata": {},
   "source": [
    "Estatística descritiva - Exercício\n",
    "==================================\n",
    "<h2>Discentes: Eric Leandro e José David<h2>\n"
   ]
  },
  {
   "cell_type": "markdown",
   "metadata": {},
   "source": [
    "## Objetivo\n",
    "\n"
   ]
  },
  {
   "cell_type": "markdown",
   "metadata": {},
   "source": [
    "Faça uma análise exploratória do conjunto de dados que você recebeu. Para isso, compute estatísticas descritivas dos dados e escolha algumas variáveis para representar graficamente. Com as informações obtidas, escreva um texto sobre o que observou.\n",
    "\n"
   ]
  },
  {
   "cell_type": "markdown",
   "metadata": {},
   "source": [
    "<h2>Métodos:</h2>\n",
    "</br1>\n",
    "\n",
    "Inicialmente, as bibliotecas necessárias foram importadas e tiveram suas abreviações definidas."
   ]
  },
  {
   "cell_type": "code",
   "execution_count": 28,
   "metadata": {},
   "outputs": [],
   "source": [
    "import pandas as pd\n",
    "import statistics as st\n",
    "import matplotlib.pyplot as plt "
   ]
  },
  {
   "cell_type": "code",
   "execution_count": 29,
   "metadata": {},
   "outputs": [],
   "source": [
    "Tabela = pd.read_excel(\"questionario.xlsx\")\n",
    "\n",
    "#Dados quantitativos:\n",
    "alturas = \"Qual é a sua altura em centímetros?\\n\"\n",
    "tamanhos_sapato = \"Qual é o número de sapato que você calça?\\n\"\n",
    "n_irmaos = \"Quantos irmãos você tem?\\n\"\n",
    "aniversarios = \"Qual o mês do seu aniversário?\\n\"\n",
    "livros_ano_passado = \"Quantos livros você leu ano passado?\\n\"\n",
    "\n",
    "#Dados qualitativos ordinários:\n",
    "opinioes_azeitona = \"Qual a sua opinião sobre azeitona?\\n\"\n",
    "\n",
    "#Dados qualitativos nominais:\n",
    "cores = \"Das cores abaixo, qual é a sua favorita (ou a cor que mais gosta se sua cor favorita mesmo nÃ£o estiver na lista)?\\n\"\n",
    "afinidades = \"Qual destas linhas de estudo é a que você tem mais afinidade?\\n\"\n",
    "desafinidades = \"Qual destas linhas de estudo é a que você tem menos afinidade?\\n\"\n",
    "cats_dogs = \"Cachorros ou gatos?\\n\"\n"
   ]
  },
  {
   "cell_type": "markdown",
   "metadata": {},
   "source": [
    "Com o objetivo de identificar discrepâncias presentes nos dados, é necessário considerar que tipo de dado cada coluna se trata, conferir os intervalos númericos possíveis, buscar os dados que fogem do intervalo e decidir uma forma de corrigí-los. \n",
    "Os dados de altura, tamanho de sapato, número de irmãos, mês de aniversário e livros lidos no último ano são quantitativos. Todos esses se limitam a números positivos, mas se diferem com relação ao quantitativo permitido."
   ]
  },
  {
   "cell_type": "code",
   "execution_count": 47,
   "metadata": {},
   "outputs": [
    {
     "data": {
      "text/plain": [
       "(array([ 5., 25.,  0.,  0.,  0.,  0.,  0.,  0.,  0.,  1.]),\n",
       " array([   1.71 ,  156.039,  310.368,  464.697,  619.026,  773.355,\n",
       "         927.684, 1082.013, 1236.342, 1390.671, 1545.   ]),\n",
       " <BarContainer object of 10 artists>)"
      ]
     },
     "execution_count": 47,
     "metadata": {},
     "output_type": "execute_result"
    },
    {
     "data": {
      "image/png": "[encoded data removed]",
      "text/plain": [
       "<Figure size 640x480 with 1 Axes>"
      ]
     },
     "metadata": {},
     "output_type": "display_data"
    }
   ],
   "source": [
    "plt.hist(Tabela[alturas])"
   ]
  },
  {
   "cell_type": "code",
   "execution_count": 39,
   "metadata": {},
   "outputs": [
    {
     "name": "stdout",
     "output_type": "stream",
     "text": [
      "Outliers de altura: [17.0, 1545.0, 1.71]\n",
      "Outliers do tamanho de sapato: []\n",
      "Outliers de número de irmãos: []\n",
      "Outliers de aniversários: []\n"
     ]
    }
   ],
   "source": [
    "falhas_altura = []\n",
    "falhas_sapato = []\n",
    "falhas_n_irmaos = []\n",
    "falhas_mes= []\n",
    "\n",
    "for altura in Tabela[alturas]:\n",
    "    if altura < 54 or altura > 340:\n",
    "        falhas_altura.append(altura)\n",
    "\n",
    "for tamanho_sapato in Tabela[tamanhos_sapato]:\n",
    "    if tamanho_sapato < 20 or tamanho_sapato > 60:\n",
    "        falhas_sapato.append(tamanho_sapato)\n",
    "\n",
    "for n_irmao in Tabela[n_irmaos]:\n",
    "    if  n_irmao < 0  or n_irmao > 102:\n",
    "        falhas_n_irmaos.append(n_irmao)\n",
    "\n",
    "for aniversario in Tabela[aniversarios]:\n",
    "    if  aniversario < 1  or aniversario > 12:\n",
    "        falhas_mes.append(aniversario)\n",
    "\n",
    "\n",
    "\n",
    "print(\"Outliers de altura:\",falhas_altura)\n",
    "print(\"Outliers do tamanho de sapato:\",falhas_sapato)\n",
    "print(\"Outliers de número de irmãos:\",falhas_n_irmaos)\n",
    "print(\"Outliers de aniversários:\",falhas_mes)\n",
    "        "
   ]
  },
  {
   "cell_type": "code",
   "execution_count": 32,
   "metadata": {},
   "outputs": [],
   "source": [
    "Copia_tabela = Tabela.copy()\n",
    "Copia_tabela.at[4,alturas] = None"
   ]
  },
  {
   "cell_type": "markdown",
   "metadata": {},
   "source": [
    "## Resultado e discussão\n",
    "\n"
   ]
  },
  {
   "cell_type": "code",
   "execution_count": null,
   "metadata": {},
   "outputs": [],
   "source": []
  },
  {
   "cell_type": "markdown",
   "metadata": {},
   "source": [
    "## Referências\n",
    "\n"
   ]
  },
  {
   "cell_type": "markdown",
   "metadata": {},
   "source": [
    "Escreva nesta seção as referências consultadas.\n",
    "\n"
   ]
  },
  {
   "cell_type": "markdown",
   "metadata": {},
   "source": [
    "## Playground\n",
    "\n"
   ]
  },
  {
   "cell_type": "code",
   "execution_count": null,
   "metadata": {},
   "outputs": [],
   "source": []
  }
 ],
 "metadata": {
  "kernelspec": {
   "display_name": "Python 3.10.8 64-bit",
   "language": "python",
   "name": "python3"
  },
  "language_info": {
   "codemirror_mode": {
    "name": "ipython",
    "version": 3
   },
   "file_extension": ".py",
   "mimetype": "text/x-python",
   "name": "python",
   "nbconvert_exporter": "python",
   "pygments_lexer": "ipython3",
   "version": "3.10.8"
  },
  "org": null,
  "vscode": {
   "interpreter": {
    "hash": "26de051ba29f2982a8de78e945f0abaf191376122a1563185a90213a26c5da77"
   }
  }
 },
 "nbformat": 4,
 "nbformat_minor": 4
}
