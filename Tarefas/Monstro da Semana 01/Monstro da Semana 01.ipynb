{
 "cells": [
  {
   "cell_type": "markdown",
   "metadata": {},
   "source": [
    "Estatística descritiva - Exercício\n",
    "==================================\n",
    "\n"
   ]
  },
  {
   "cell_type": "markdown",
   "metadata": {},
   "source": [
    "## Objetivo\n",
    "\n"
   ]
  },
  {
   "cell_type": "markdown",
   "metadata": {},
   "source": [
    "Faça uma análise exploratória do conjunto de dados que você recebeu. Para isso, compute estatísticas descritivas dos dados e escolha algumas variáveis para representar graficamente. Com as informações obtidas, escreva um texto sobre o que observou.\n",
    "\n"
   ]
  },
  {
   "cell_type": "markdown",
   "metadata": {},
   "source": [
    "<h2>Métodos:<h2>"
   ]
  },
  {
   "cell_type": "code",
   "execution_count": 2,
   "metadata": {},
   "outputs": [],
   "source": [
    "import pandas as pd\n",
    "import statistics as st\n",
    "import matplotlib.pyplot as plt "
   ]
  },
  {
   "cell_type": "code",
   "execution_count": 7,
   "metadata": {},
   "outputs": [
    {
     "name": "stdout",
     "output_type": "stream",
     "text": [
      "17.0\n",
      "1545.0\n",
      "1.71\n"
     ]
    }
   ],
   "source": [
    "Tabela = pd.read_excel(\"questionario_turma_2023.xlsx\")\n",
    "\n",
    "altura = \"Qual Ã© a sua altura em centÃ­metros?\"\n",
    "tamanho_sapato = \"Qual Ã© o nÃºmero de sapato que vocÃª calÃ§a?\\n\tQual o mÃªs do seu aniversÃ¡rio?\\n\"\n",
    "aniversario = \"Qual o mÃªs do seu aniversÃ¡rio?\\n\"\n",
    "livros_ano_passado = \"Quantos livros vocÃª leu ano passado?\\n\"\n",
    "cor_favorita = \"Das cores abaixo, qual Ã© a sua favorita (ou a cor que mais gosta se sua cor favorita mesmo nÃ£o estiver na lista)?\\n\"\n",
    "opiniao_azeitona = \"Qual a sua opiniÃ£o sobre azeitona?\\n\"\n",
    "mais_afinidade = \"Qual destas linhas de estudo Ã© a que vocÃª tem mais afinidade?\\n\"\n",
    "menos_afinidade = \"Qual destas linhas de estudo Ã© a que vocÃª tem menos afinidade?\\n\"\n",
    "cat_dog = \"Cachorros ou gatos?\\n\"\n",
    "\n",
    "for i in Tabela[altura]:\n",
    "    if i < 54.6 or i > 272:\n",
    "        print(i)"
   ]
  },
  {
   "cell_type": "markdown",
   "metadata": {},
   "source": [
    "## Resultado e discussão\n",
    "\n"
   ]
  },
  {
   "cell_type": "code",
   "execution_count": null,
   "metadata": {},
   "outputs": [],
   "source": []
  },
  {
   "cell_type": "markdown",
   "metadata": {},
   "source": [
    "## Referências\n",
    "\n"
   ]
  },
  {
   "cell_type": "markdown",
   "metadata": {},
   "source": [
    "Escreva nesta seção as referências consultadas.\n",
    "\n"
   ]
  },
  {
   "cell_type": "markdown",
   "metadata": {},
   "source": [
    "## Playground\n",
    "\n"
   ]
  },
  {
   "cell_type": "code",
   "execution_count": null,
   "metadata": {},
   "outputs": [],
   "source": []
  }
 ],
 "metadata": {
  "kernelspec": {
   "display_name": "Python 3.10.8 64-bit",
   "language": "python",
   "name": "python3"
  },
  "language_info": {
   "codemirror_mode": {
    "name": "ipython",
    "version": 3
   },
   "file_extension": ".py",
   "mimetype": "text/x-python",
   "name": "python",
   "nbconvert_exporter": "python",
   "pygments_lexer": "ipython3",
   "version": "3.10.8"
  },
  "org": null,
  "vscode": {
   "interpreter": {
    "hash": "26de051ba29f2982a8de78e945f0abaf191376122a1563185a90213a26c5da77"
   }
  }
 },
 "nbformat": 4,
 "nbformat_minor": 4
}
