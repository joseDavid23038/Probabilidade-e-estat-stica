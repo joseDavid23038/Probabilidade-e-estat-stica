{
 "cells": [
  {
   "cell_type": "markdown",
   "metadata": {},
   "source": [
    "Estatística descritiva - Exercício\n",
    "==================================\n",
    "\n"
   ]
  },
  {
   "cell_type": "markdown",
   "metadata": {},
   "source": [
    "## Objetivo\n",
    "\n"
   ]
  },
  {
   "cell_type": "markdown",
   "metadata": {},
   "source": [
    "Faça uma análise exploratória do conjunto de dados que você recebeu. Para isso, compute estatísticas descritivas dos dados e escolha algumas variáveis para representar graficamente. Com as informações obtidas, escreva um texto sobre o que observou.\n",
    "\n"
   ]
  },
  {
   "cell_type": "markdown",
   "metadata": {},
   "source": [
    "<h2>Métodos:</h2>\n",
    "</br1>\n",
    "\n",
    "Inicialmente, as bibliotecas necessárias foram importadas e as variáveis referentes aos títulos de cada coluna de dados foram definidas.  "
   ]
  },
  {
   "cell_type": "code",
   "execution_count": 2,
   "metadata": {},
   "outputs": [],
   "source": [
    "import pandas as pd\n",
    "import statistics as st\n",
    "import matplotlib.pyplot as plt "
   ]
  },
  {
   "cell_type": "code",
   "execution_count": 24,
   "metadata": {},
   "outputs": [],
   "source": [
    "Tabela = pd.read_excel(\"questionario_turma_2023.xlsx\")\n",
    "\n",
    "alturas = \"Qual Ã© a sua altura em centÃ­metros?\"\n",
    "tamanhos_sapato = \"Qual Ã© o nÃºmero de sapato que vocÃª calÃ§a?\\n\"\n",
    "n_irmaos = \"Quantos irmÃ£os vocÃª tem?\\n\"\n",
    "aniversarios = \"Qual o mÃªs do seu aniversÃ¡rio?\\n\"\n",
    "livros_ano_passado = \"Quantos livros vocÃª leu ano passado?\\n\"\n",
    "\n",
    "cores = \"Das cores abaixo, qual Ã© a sua favorita (ou a cor que mais gosta se sua cor favorita mesmo nÃ£o estiver na lista)?\\n\"\n",
    "opinioes_azeitona = \"Qual a sua opiniÃ£o sobre azeitona?\\n\"\n",
    "afinidades = \"Qual destas linhas de estudo Ã© a que vocÃª tem mais afinidade?\\n\"\n",
    "desafinidades = \"Qual destas linhas de estudo Ã© a que vocÃª tem menos afinidade?\\n\"\n",
    "cats_dogs = \"Cachorros ou gatos?\\n\"\n"
   ]
  },
  {
   "cell_type": "markdown",
   "metadata": {},
   "source": [
    "Com o objetivo de identificar discrepâncias presentes nos dados, é necessário considerar que tipo de dado cada coluna se trata, conferir os intervalos númericos possíveis, buscar os dados que fogem do intervalo e decidir uma forma de corrigí-los. \n",
    "Os dados de altura, tamanho de sapato, número de irmãos, mês de aniversário e livros lidos no último ano são quantitativos. Todos esses se limitam a números positivos, mas se diferem com relação ao quantitativo permitido."
   ]
  },
  {
   "cell_type": "code",
   "execution_count": 26,
   "metadata": {},
   "outputs": [
    {
     "name": "stdout",
     "output_type": "stream",
     "text": [
      "Outliers de altura: [17.0, 1545.0, 1.71]\n",
      "Outliers de altura: []\n"
     ]
    }
   ],
   "source": [
    "falhas_altura = []\n",
    "falhas_sapato = []\n",
    "falhas_n_irmaos = []\n",
    "falhas_mes= []\n",
    "\n",
    "for altura in Tabela[alturas]:\n",
    "    if altura < 54 or altura > 340:\n",
    "        falhas_altura.append(altura)\n",
    "\n",
    "for tamanho_sapato in Tabela[tamanhos_sapato]:\n",
    "    if tamanho_sapato < 20 or tamanho_sapato > 60:\n",
    "        falhas_altura.append(altura)\n",
    "\n",
    "\n",
    "print(\"Outliers de altura:\",falhas_altura)\n",
    "print(\"Outliers de altura:\",falhas_sapato)\n",
    "        "
   ]
  },
  {
   "cell_type": "markdown",
   "metadata": {},
   "source": [
    "## Resultado e discussão\n",
    "\n"
   ]
  },
  {
   "cell_type": "code",
   "execution_count": null,
   "metadata": {},
   "outputs": [],
   "source": []
  },
  {
   "cell_type": "markdown",
   "metadata": {},
   "source": [
    "## Referências\n",
    "\n"
   ]
  },
  {
   "cell_type": "markdown",
   "metadata": {},
   "source": [
    "Escreva nesta seção as referências consultadas.\n",
    "\n"
   ]
  },
  {
   "cell_type": "markdown",
   "metadata": {},
   "source": [
    "## Playground\n",
    "\n"
   ]
  },
  {
   "cell_type": "code",
   "execution_count": null,
   "metadata": {},
   "outputs": [],
   "source": []
  }
 ],
 "metadata": {
  "kernelspec": {
   "display_name": "Python 3.10.8 64-bit",
   "language": "python",
   "name": "python3"
  },
  "language_info": {
   "codemirror_mode": {
    "name": "ipython",
    "version": 3
   },
   "file_extension": ".py",
   "mimetype": "text/x-python",
   "name": "python",
   "nbconvert_exporter": "python",
   "pygments_lexer": "ipython3",
   "version": "3.10.8"
  },
  "org": null,
  "vscode": {
   "interpreter": {
    "hash": "26de051ba29f2982a8de78e945f0abaf191376122a1563185a90213a26c5da77"
   }
  }
 },
 "nbformat": 4,
 "nbformat_minor": 4
}
