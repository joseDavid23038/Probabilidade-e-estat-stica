{
 "cells": [
  {
   "cell_type": "markdown",
   "metadata": {},
   "source": [
    "To Bayes or not to Bayes\n",
    "========================\n",
    "Discentes: José David e Eric Leandro\n",
    "========================"
   ]
  },
  {
   "cell_type": "markdown",
   "metadata": {},
   "source": [
    "## Objetivo\n",
    "\n"
   ]
  },
  {
   "cell_type": "markdown",
   "metadata": {},
   "source": [
    "Na sua área de estudo existem duas explicações reportadas na literatura para um certo fenômeno natural. Considere que estas explicações são mutualmente exclusivas.\n",
    "\n",
    "Evidências a favor das duas explicações existem e a comunidade científica ainda debate sobre qual destas explicações é a mais adequada para o fenômeno natural sendo estudado. Vamos chamar de $E_1$ o evento &ldquo;a explicação 1 está correta&rdquo; e de $E_2$ o evento &ldquo;a explicação 2 está correta&rdquo;.\n",
    "\n",
    "Você acabou de realizar um experimento e obteve uma nova evidência a favor da explicação 1. O experimento que você executou entrega o resultado correto $n$ vezes a cada 100 experimentos. Vamos chamar de $X$ o evento &ldquo;experimento realizado resultou em evidência a favor da explicação 1&rdquo;.\n",
    "\n",
    "Para cada uma das situações abaixo, compute a probabilidade a posteriori da explicação $E_1$ após a realização do experimento. Use sempre as notações discutidas no notebook da disciplina.\n",
    "\n",
    "1.  Probabilidade inicial de $E_1$ de 20% e $n=99$.\n",
    "\n",
    "2.  Probabilidade inicial de $E_1$ de 20% e $n=50$.\n",
    "\n",
    "3.  Probabilidade inicial de $E_1$ de 99% e $n=5$.\n",
    "\n",
    "Após isso, mostre como a probabilidade a posteriori se altera com a realização de mais experimentos sucessivos para o caso 2. Mostre graficamente seu resultado.\n",
    "\n",
    "Discuta os resultados obtidos.\n",
    "\n"
   ]
  },
  {
   "cell_type": "markdown",
   "metadata": {},
   "source": [
    "## Métodos:"
   ]
  },
  {
   "cell_type": "markdown",
   "metadata": {},
   "source": [
    "Para realizar os cálculos exigidos, as notações da material 5<sup>[1]</sup> foram alteradas para considerar o casos descrito atual exercício. \n",
    "\n",
    "1.  **Probabilidade inicial de $E_1$ de 20% e $n=99$.**\n",
    "<br> Considerando o teorema de Bayes e realizando os cálculos para ambos os eventos.\n",
    "$$\n",
    "P(E | X) = \\frac{P(E) P(X | E)}{P(X)}  \n",
    "$$\n",
    "\n",
    "$$\n",
    "P(E_1 | X) = \\frac{0,2 ⋅ 0,99}{0,2⋅0,99+0,8⋅0,01}    \\quad\\quad|\\quad  P(E_2 | X) = \\frac{0,8 ⋅ 0,01}{0,8⋅0,01+0,2⋅0,99} \n",
    "$$\n",
    "\n",
    "$$\n",
    "P(E_1 | X) = \\frac{0,198}{0,206} \\quad\\quad|\\quad P(E_2 | X) = \\frac{0,008}{0,206}\n",
    "$$\n",
    "\n",
    "$$\n",
    "P(E_1 | X) = 0,96116   = 96,116 \\%   \\quad\\quad|\\quad P(E_2 | X) = 0.038834 = 3,883\\%\n",
    "$$\n",
    "<br>    É possível concluir que a explicação 1 possui maior probabilidade de estar correta.\n",
    "\n",
    "\n"
   ]
  },
  {
   "cell_type": "markdown",
   "metadata": {},
   "source": [
    "2.  **Probabilidade inicial de $E_1$ de 20% e $n=50$.**\n",
    "<br> Considerando o teorema de Bayes e realizando os cálculos para ambos os eventos.\n",
    "$$\n",
    "P(E | X) = \\frac{P(E) P(X | E)}{P(X)}  \n",
    "$$\n",
    "$$\n",
    "P(E_1 | X) = \\frac{0,2 ⋅ 0,5}{0,2⋅0,5+0,8⋅0,5} \\quad\\quad|\\quad P(E_2 | X) = \\frac{0,8 ⋅ 0,5}{0,8⋅0,5+0,2⋅0,5}\n",
    "$$\n",
    "$$\n",
    "P(E_1 | X) = \\frac{0,1}{0,5}  \\quad\\quad|\\quad P(E_2 | X) = \\frac{0,4}{0,5}\n",
    "$$\n",
    "$$\n",
    "P(E_1 | X) = 0,2 = 20\\% \\quad\\quad|\\quad P(E_2 | X) = 0,8 = 80\\%\n",
    "$$\n",
    "<br>    É possível concluir que a explicação 2 possui maior probabilidade de estar correta."
   ]
  },
  {
   "cell_type": "markdown",
   "metadata": {},
   "source": [
    "3.  **Probabilidade inicial de $E_1$ de 99% e $n=5$.**\n",
    "$$\n",
    "P(E | X) = \\frac{P(E) P(X | E)}{P(X)}  \n",
    "$$\n",
    "$$\n",
    "P(E_1 | X) = \\frac{0,99 ⋅ 0,05}{0,99⋅0,05+0,01⋅0,95} \\quad\\quad|\\quad P(E_2 | X) = \\frac{0,01 ⋅ 0,95}{0,01⋅0,05+0,99⋅0,05} \n",
    "$$\n",
    "$$\n",
    "P(E_1 | X) = \\frac{0,0495}{0.059} \\quad\\quad|\\quad P(E_2 | X) = \\frac{0,0095}{0.059}\n",
    "$$\n",
    "$$\n",
    "P(E_1 | X) = 0.8389 = 83,89\\%  \\quad\\quad|\\quad  P(E_2 | X) =   0.161 =16,1\\%\n",
    "$$\n",
    "<br>    É possível concluir que a explicação 1 possui maior probabilidade de estar correta."
   ]
  },
  {
   "cell_type": "markdown",
   "metadata": {},
   "source": [
    "**Após isso, mostre como a probabilidade a posteriori se altera com a realização de mais experimentos sucessivos para o caso 2. Mostre graficamente seu resultado.**"
   ]
  },
  {
   "cell_type": "markdown",
   "metadata": {},
   "source": [
    "<p align = 'justify'>Para realizar a análise do comportamento da probabilidade a posteriori em função da realização de experimentos sucessivos, um loop for foi criado para a cada repetição adicionar na lista \"experimentos\" o número da repetição e na lista o valor da probabilidade da explicação 1 estar correta. Para além disso, a probabilidade é atualizada por meio do teorema de Bayes. </p>"
   ]
  },
  {
   "cell_type": "code",
   "execution_count": 3,
   "metadata": {},
   "outputs": [],
   "source": [
    "p_e1 = 0.20\n",
    "p_x_e1 = 0.50\n",
    "experimentos = []\n",
    "probabilidade = []\n",
    "for i in range(100):\n",
    "    experimentos.append(i)\n",
    "    probabilidade.append(p_e1*100)\n",
    "    p_e1 = (p_e1 * p_x_e1) / (p_e1 * p_x_e1 + (1 - p_e1) * (1-p_x_e1))\n",
    "\n"
   ]
  },
  {
   "cell_type": "markdown",
   "metadata": {},
   "source": [
    "Para plotar o gráfico da probabilidade por número de atualizações, a biblioteca matplotlib é importada e a função plot é utilizada juntamente com outras de estilização.<sup>[2][3]</sup>"
   ]
  },
  {
   "cell_type": "code",
   "execution_count": 4,
   "metadata": {},
   "outputs": [
    {
     "data": {
      "image/png": "[encoded data removed]",
      "text/plain": [
       "<Figure size 640x480 with 1 Axes>"
      ]
     },
     "metadata": {},
     "output_type": "display_data"
    }
   ],
   "source": [
    "import matplotlib.pyplot as plt \n",
    "\n",
    "plt.plot(experimentos,probabilidade)\n",
    "plt.ylabel(\"Probabilidade(%)\")\n",
    "plt.xlabel(\"Experimentos\")\n",
    "plt.grid(True)\n",
    "plt.show()"
   ]
  },
  {
   "cell_type": "markdown",
   "metadata": {},
   "source": [
    "## Resultado e discussão\n",
    "\n"
   ]
  },
  {
   "cell_type": "markdown",
   "metadata": {},
   "source": [
    "<p align = 'justify'>Realizando os cálculos com o teoremas de Bayes, foi notável que para os casos 1 e 3, a probabilidade a posteriori da explicação 1 estar correta era maior que da explicação 2. No entanto, para o caso 2, a probabilidade a posteriori da explicação 1 estar correta era menor que a da explição 2. <br>Realizando um loop for para ficar repetindo o cáculo da probabilidade posteriori à evidência, foi possível obter um gráfico que mostre que a probabilidade como independente do número de atualizações. É possível justificar matematiamente esse comportamente considerando o formato da equação:</p>\n",
    "\n",
    "$$\n",
    "P(E | X) =\n",
    "\\frac{P(E) P(X | E)}{P(E)P(X|E) + P(E^c)P(X|E^c)}\n",
    "$$\n",
    "\n",
    "Se P(X|E) = 0,5 , então:\n",
    "\n",
    "$$\n",
    "P(E | X) =\\frac{P(E) 0,5}{P(E)0,5 + P(E^c)0,5}  =\\frac{P(E) \\cancel{0{,}5} }{\\cancel{0{,}5} (P(E)+ P(E^c))} \n",
    "$$\n",
    "\n",
    "Como P(E)+ P(Ec) = 1\n",
    "$$\n",
    "P(E | X) =\\frac{P(E)}{1}  \n",
    "$$\n",
    "\n",
    "$$\n",
    "P(E | X) = P(E) \n",
    "$$\n",
    "\n",
    "Então, conclui-se para qualquer evidência de 50% que venha tentar atualizar a probabilidade, a atualização será igual a probabilidade inicial. Para chegar nessa conclusão, não utilizamos fontes externas, apenas consideramos algumas propriedades básicas da matemática, como a distributividade. "
   ]
  },
  {
   "cell_type": "markdown",
   "metadata": {},
   "source": [
    "## Referências\n",
    "\n",
    "[1] Daniel R. Cassar. **5 - Probabilidade condicional**\n",
    "\n",
    "[2] MATHWORKS. Create Line Plot. Disponível em: <https://www.mathworks.com/help/matlab/ref/plot.html>. Acesso em:  7 set. 2023.\n",
    "\n",
    "‌[3] matplotlib.pyplot — Matplotlib 3.5.2 documentation. Disponível em: <https://matplotlib.org/stable/api/pyplot_summary.html>. Acesso em: 7 set. 2023."
   ]
  },
  {
   "cell_type": "markdown",
   "metadata": {},
   "source": [
    "## Playground\n",
    "\n"
   ]
  },
  {
   "cell_type": "markdown",
   "metadata": {},
   "source": [
    "Use este espaço para fazer o que quiser. Não será considerado na correção.\n",
    "\n"
   ]
  }
 ],
 "metadata": {
  "kernelspec": {
   "display_name": "Python 3.10.8 64-bit",
   "language": "python",
   "name": "python3"
  },
  "language_info": {
   "codemirror_mode": {
    "name": "ipython",
    "version": 3
   },
   "file_extension": ".py",
   "mimetype": "text/x-python",
   "name": "python",
   "nbconvert_exporter": "python",
   "pygments_lexer": "ipython3",
   "version": "3.10.8"
  },
  "org": null,
  "vscode": {
   "interpreter": {
    "hash": "26de051ba29f2982a8de78e945f0abaf191376122a1563185a90213a26c5da77"
   }
  }
 },
 "nbformat": 4,
 "nbformat_minor": 4
}
