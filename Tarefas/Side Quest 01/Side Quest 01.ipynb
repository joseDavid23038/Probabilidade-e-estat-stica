{
 "cells": [
  {
   "cell_type": "markdown",
   "metadata": {},
   "source": [
    "Somando variáveis aleatórias\n",
    "============================\n",
    "## **Discentes:** Eric Leandro e José David ## \n"
   ]
  },
  {
   "cell_type": "markdown",
   "metadata": {},
   "source": [
    "## Objetivo\n",
    "\n"
   ]
  },
  {
   "cell_type": "markdown",
   "metadata": {},
   "source": [
    "Crie dois arrays de mesmo tamanho que representam variáveis aleatórias (certifique-se que os arrays têm pelo menos 50 itens e não são correlacionados). Teste o que acontece com os valores da média, variância e do desvio padrão quando somamos duas variáveis aleatórias. Após testar, escreva um breve texto sobre o que observou. Por fim, se informe em livros ou na internet sobre a matemática por trás desta conta (ou derive o resultado você mesmo caso queira esse desafio).\n",
    "\n",
    "**Dica**: uma estratégia para criar seus arrays é sorteando valores a partir de diferentes distribuições. A distribuição normal é uma escolha possível, mas pode escolher outras se preferir.\n",
    "\n"
   ]
  },
  {
   "cell_type": "code",
   "execution_count": 1,
   "metadata": {},
   "outputs": [],
   "source": [
    "import pandas as pd\n",
    "import random \n",
    "import statistics as st"
   ]
  },
  {
   "cell_type": "code",
   "execution_count": 10,
   "metadata": {},
   "outputs": [
    {
     "ename": "SyntaxError",
     "evalue": "invalid syntax. Perhaps you forgot a comma? (1115968865.py, line 6)",
     "output_type": "error",
     "traceback": [
      "\u001b[1;36m  Cell \u001b[1;32mIn[10], line 6\u001b[1;36m\u001b[0m\n\u001b[1;33m    lista2.append(random.randint(5 15))\u001b[0m\n\u001b[1;37m                                 ^\u001b[0m\n\u001b[1;31mSyntaxError\u001b[0m\u001b[1;31m:\u001b[0m invalid syntax. Perhaps you forgot a comma?\n"
     ]
    }
   ],
   "source": [
    "\n",
    "lista = []\n",
    "lista2 = []\n",
    "\n",
    "for i in range(100):\n",
    "    lista.append(random.randint(5,15))\n",
    "    lista2.append(random.randint(5 15))\n",
    "\n",
    "print(st.mean(lista+lista2))\n",
    "X, Y = contar_itens(lista+lista2)\n",
    "\n",
    "grafico_barras(X, Y, \"Alturas\", ['Altura', 'Quantidade de pessoas'])\n",
    "\n"
   ]
  },
  {
   "cell_type": "code",
   "execution_count": 3,
   "metadata": {},
   "outputs": [],
   "source": [
    "'''FUNÇÕES'''\n",
    "\n",
    "def grafico_barras(X, Y, titulo, X_Y, LEGENDAS_COLORS = [], LEGENDAS = [], COLORS = '#804a81', LG = False):\n",
    "    from bokeh.plotting import figure, show\n",
    "    from bokeh.io import output_notebook\n",
    "    from bokeh.models import LabelSet\n",
    "    from bokeh.models import Legend, LegendItem\n",
    "    from bokeh.layouts import row\n",
    "    from bokeh.models.annotations import LegendItem as BokehLegendItem\n",
    "    from bokeh.models.ranges import FactorRange\n",
    "    \n",
    "    output_notebook()\n",
    "\n",
    "    # Criar figura\n",
    "    p = figure(x_range=X, title=titulo, x_axis_label=X_Y[0], y_axis_label=X_Y[1])\n",
    "    \n",
    "    if LG:\n",
    "        # Criar a legenda\n",
    "        legend = Legend(items=[])\n",
    "\n",
    "        # Adicionar cada item da legenda com retângulo de cor\n",
    "        for legend_label, color in zip(LEGENDAS, LEGENDAS_COLORS):\n",
    "            # Criar o retângulo de cor\n",
    "            rect = p.rect(x=0, y=0, fill_color=color, line_color=None)\n",
    "            # Criar o item da legenda com o retângulo de cor e o rótulo\n",
    "            legend_item = BokehLegendItem(label=legend_label, renderers=[rect])\n",
    "            # Adicionar o LegendItem à legenda\n",
    "            legend.items.append(legend_item)\n",
    "\n",
    "        # Adicionar a legenda ao gráfico\n",
    "        p.add_layout(legend, 'center')\n",
    "\n",
    "    # Adicionar o gráfico de barras\n",
    "    p.vbar(x=X, top=Y, width=0.5, color=COLORS)\n",
    "    \n",
    "    p.xaxis.major_label_orientation = 0.8  # Rotacionar os rótulos em um ângulo específico (em radianos)\n",
    "\n",
    "    # Exibir o gráfico\n",
    "    show(p)\n",
    "    \n",
    "    return\n",
    "\n",
    "def contar_itens(lista):\n",
    "    # Inicializar as listas que serão usadas\n",
    "    contagem = []\n",
    "    repeticoes = []\n",
    "    Xs = []\n",
    "\n",
    "    # Percorrer a lista e contar os caracteres\n",
    "    for item in lista:\n",
    "        if item not in contagem:\n",
    "            contagem.append(item)\n",
    "\n",
    "    contagem_ordenada = sorted(contagem)\n",
    "\n",
    "    for item in contagem_ordenada:\n",
    "        a = 0\n",
    "        for valor in lista:\n",
    "            if valor == item:\n",
    "                a = a + 1\n",
    "        repeticoes.append(a)\n",
    "    \n",
    "    # Tranforma os valores númericos em char\n",
    "    for item in contagem_ordenada:\n",
    "        Xs.append(str(item))\n",
    "        \n",
    "    return Xs, repeticoes\n",
    "\n",
    "\n"
   ]
  },
  {
   "cell_type": "code",
   "execution_count": null,
   "metadata": {},
   "outputs": [],
   "source": []
  },
  {
   "cell_type": "markdown",
   "metadata": {},
   "source": [
    "## Resultado e discussão\n",
    "\n"
   ]
  },
  {
   "cell_type": "code",
   "execution_count": null,
   "metadata": {},
   "outputs": [],
   "source": []
  },
  {
   "cell_type": "markdown",
   "metadata": {},
   "source": [
    "## Referências\n",
    "\n"
   ]
  },
  {
   "cell_type": "markdown",
   "metadata": {},
   "source": [
    "Escreva nesta seção as referências consultadas.\n",
    "\n"
   ]
  },
  {
   "cell_type": "markdown",
   "metadata": {},
   "source": [
    "## Playground\n",
    "\n"
   ]
  },
  {
   "cell_type": "code",
   "execution_count": null,
   "metadata": {},
   "outputs": [],
   "source": []
  }
 ],
 "metadata": {
  "kernelspec": {
   "display_name": "Python 3.10.8 64-bit",
   "language": "python",
   "name": "python3"
  },
  "language_info": {
   "codemirror_mode": {
    "name": "ipython",
    "version": 3
   },
   "file_extension": ".py",
   "mimetype": "text/x-python",
   "name": "python",
   "nbconvert_exporter": "python",
   "pygments_lexer": "ipython3",
   "version": "3.10.8"
  },
  "org": null,
  "vscode": {
   "interpreter": {
    "hash": "26de051ba29f2982a8de78e945f0abaf191376122a1563185a90213a26c5da77"
   }
  }
 },
 "nbformat": 4,
 "nbformat_minor": 4
}
