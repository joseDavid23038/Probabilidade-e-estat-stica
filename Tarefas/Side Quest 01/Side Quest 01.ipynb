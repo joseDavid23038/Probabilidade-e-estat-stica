{
 "cells": [
  {
   "cell_type": "markdown",
   "metadata": {},
   "source": [
    "Somando variáveis aleatórias\n",
    "============================\n",
    "## **Discentes:** Eric Leandro e José David ## \n"
   ]
  },
  {
   "cell_type": "markdown",
   "metadata": {},
   "source": [
    "## Objetivo\n",
    "\n"
   ]
  },
  {
   "cell_type": "markdown",
   "metadata": {},
   "source": [
    "Crie dois arrays de mesmo tamanho que representam variáveis aleatórias (certifique-se que os arrays têm pelo menos 50 itens e não são correlacionados). Teste o que acontece com os valores da média, variância e do desvio padrão quando somamos duas variáveis aleatórias. Após testar, escreva um breve texto sobre o que observou. Por fim, se informe em livros ou na internet sobre a matemática por trás desta conta (ou derive o resultado você mesmo caso queira esse desafio).\n",
    "\n",
    "**Dica**: uma estratégia para criar seus arrays é sorteando valores a partir de diferentes distribuições. A distribuição normal é uma escolha possível, mas pode escolher outras se preferir.\n",
    "\n"
   ]
  },
  {
   "cell_type": "code",
   "execution_count": 13,
   "metadata": {},
   "outputs": [],
   "source": [
    "import random \n",
    "import numpy as np\n",
    "import statistics as st"
   ]
  },
  {
   "cell_type": "code",
   "execution_count": 95,
   "metadata": {},
   "outputs": [],
   "source": [
    "array = np.random.normal(0,10,1000)\n",
    "array2 = np.random.normal(0,10,1000)\n",
    "array_soma = array+array2"
   ]
  },
  {
   "cell_type": "code",
   "execution_count": 96,
   "metadata": {},
   "outputs": [
    {
     "name": "stdout",
     "output_type": "stream",
     "text": [
      "Média do array é -0.03809418329766748, a variancia é 95.3620983016049 e o desvio padrão é 9.765351929224307\n",
      "Média do array_2 é -0.10320963121522607, a variancia é 103.05969048905084 e o desvio padrão é 10.151831878486307\n",
      "Média da soma dos arrays é -0.14130381451289356, a variancia é  199.8848663118299 e o desvio padrão é 14.13806444715223\n"
     ]
    }
   ],
   "source": [
    "media_array = st.mean(array)\n",
    "variancia_array = st.variance(array)\n",
    "desvio_padrao_array = st.stdev(array)\n",
    "media_array2 = st.mean(array2)\n",
    "variancia_array2 = st.variance(array2)\n",
    "desvio_padrao_array2 = st.stdev(array2)\n",
    "media_array_soma = st.mean(array_soma)\n",
    "variancia_array_soma = st.variance(array_soma)\n",
    "desvio_padrao_array_soma = st.stdev(array_soma)\n",
    "\n",
    "\n",
    "\n",
    "print(f\"Média do array é {media_array}, a variancia é {variancia_array} e o desvio padrão é {desvio_padrao_array}\")\n",
    "print(f\"Média do array_2 é {media_array2}, a variancia é {variancia_array2} e o desvio padrão é {desvio_padrao_array2}\")\n",
    "print(f\"Média da soma dos arrays é {st.mean(array_soma)}, a variancia é  {st.variance(array_soma)} e o desvio padrão é {st.stdev(array_soma)}\")\n"
   ]
  },
  {
   "cell_type": "code",
   "execution_count": 3,
   "metadata": {},
   "outputs": [],
   "source": [
    "'''FUNÇÕES'''\n",
    "\n",
    "def grafico_barras(X, Y, titulo, X_Y, LEGENDAS_COLORS = [], LEGENDAS = [], COLORS = '#804a81', LG = False):\n",
    "    from bokeh.plotting import figure, show\n",
    "    from bokeh.io import output_notebook\n",
    "    from bokeh.models import LabelSet\n",
    "    from bokeh.models import Legend, LegendItem\n",
    "    from bokeh.layouts import row\n",
    "    from bokeh.models.annotations import LegendItem as BokehLegendItem\n",
    "    from bokeh.models.ranges import FactorRange\n",
    "    \n",
    "    output_notebook()\n",
    "\n",
    "    # Criar figura\n",
    "    p = figure(x_range=X, title=titulo, x_axis_label=X_Y[0], y_axis_label=X_Y[1])\n",
    "    \n",
    "    if LG:\n",
    "        # Criar a legenda\n",
    "        legend = Legend(items=[])\n",
    "\n",
    "        # Adicionar cada item da legenda com retângulo de cor\n",
    "        for legend_label, color in zip(LEGENDAS, LEGENDAS_COLORS):\n",
    "            # Criar o retângulo de cor\n",
    "            rect = p.rect(x=0, y=0, fill_color=color, line_color=None)\n",
    "            # Criar o item da legenda com o retângulo de cor e o rótulo\n",
    "            legend_item = BokehLegendItem(label=legend_label, renderers=[rect])\n",
    "            # Adicionar o LegendItem à legenda\n",
    "            legend.items.append(legend_item)\n",
    "\n",
    "        # Adicionar a legenda ao gráfico\n",
    "        p.add_layout(legend, 'center')\n",
    "\n",
    "    # Adicionar o gráfico de barras\n",
    "    p.vbar(x=X, top=Y, width=0.5, color=COLORS)\n",
    "    \n",
    "    p.xaxis.major_label_orientation = 0.8  # Rotacionar os rótulos em um ângulo específico (em radianos)\n",
    "\n",
    "    # Exibir o gráfico\n",
    "    show(p)\n",
    "    \n",
    "    return\n",
    "\n",
    "def contar_itens(lista):\n",
    "    # Inicializar as listas que serão usadas\n",
    "    contagem = []\n",
    "    repeticoes = []\n",
    "    Xs = []\n",
    "\n",
    "    # Percorrer a lista e contar os caracteres\n",
    "    for item in lista:\n",
    "        if item not in contagem:\n",
    "            contagem.append(item)\n",
    "\n",
    "    contagem_ordenada = sorted(contagem)\n",
    "\n",
    "    for item in contagem_ordenada:\n",
    "        a = 0\n",
    "        for valor in lista:\n",
    "            if valor == item:\n",
    "                a = a + 1\n",
    "        repeticoes.append(a)\n",
    "    \n",
    "    # Tranforma os valores númericos em char\n",
    "    for item in contagem_ordenada:\n",
    "        Xs.append(str(item))\n",
    "        \n",
    "    return Xs, repeticoes\n",
    "\n",
    "\n"
   ]
  },
  {
   "cell_type": "code",
   "execution_count": null,
   "metadata": {},
   "outputs": [],
   "source": []
  },
  {
   "cell_type": "markdown",
   "metadata": {},
   "source": [
    "## Resultado e discussão\n",
    "\n"
   ]
  },
  {
   "cell_type": "code",
   "execution_count": null,
   "metadata": {},
   "outputs": [],
   "source": []
  },
  {
   "cell_type": "markdown",
   "metadata": {},
   "source": [
    "## Referências\n",
    "\n"
   ]
  },
  {
   "cell_type": "markdown",
   "metadata": {},
   "source": [
    "Escreva nesta seção as referências consultadas.\n",
    "\n"
   ]
  },
  {
   "cell_type": "markdown",
   "metadata": {},
   "source": [
    "## Playground\n",
    "\n"
   ]
  },
  {
   "cell_type": "code",
   "execution_count": null,
   "metadata": {},
   "outputs": [],
   "source": []
  }
 ],
 "metadata": {
  "kernelspec": {
   "display_name": "Python 3.10.8 64-bit",
   "language": "python",
   "name": "python3"
  },
  "language_info": {
   "codemirror_mode": {
    "name": "ipython",
    "version": 3
   },
   "file_extension": ".py",
   "mimetype": "text/x-python",
   "name": "python",
   "nbconvert_exporter": "python",
   "pygments_lexer": "ipython3",
   "version": "3.10.8"
  },
  "org": null,
  "vscode": {
   "interpreter": {
    "hash": "26de051ba29f2982a8de78e945f0abaf191376122a1563185a90213a26c5da77"
   }
  }
 },
 "nbformat": 4,
 "nbformat_minor": 4
}
