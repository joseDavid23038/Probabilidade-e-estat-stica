{
 "cells": [
  {
   "cell_type": "markdown",
   "metadata": {},
   "source": [
    "Somando variáveis aleatórias\n",
    "============================\n",
    "## **Discentes:** Eric Leandro e José David ## \n"
   ]
  },
  {
   "cell_type": "markdown",
   "metadata": {},
   "source": [
    "## Objetivo\n",
    "\n"
   ]
  },
  {
   "cell_type": "markdown",
   "metadata": {},
   "source": [
    "Crie dois arrays de mesmo tamanho que representam variáveis aleatórias (certifique-se que os arrays têm pelo menos 50 itens e não são correlacionados). Teste o que acontece com os valores da média, variância e do desvio padrão quando somamos duas variáveis aleatórias. Após testar, escreva um breve texto sobre o que observou. Por fim, se informe em livros ou na internet sobre a matemática por trás desta conta (ou derive o resultado você mesmo caso queira esse desafio).\n",
    "\n",
    "**Dica**: uma estratégia para criar seus arrays é sorteando valores a partir de diferentes distribuições. A distribuição normal é uma escolha possível, mas pode escolher outras se preferir.\n",
    "\n"
   ]
  },
  {
   "cell_type": "markdown",
   "metadata": {},
   "source": [
    "A bibliote numpy e importada para que a criação dos arrays com valores aleatórios em distribuição normal possa ser feita de uma forma mais simples.<sup>[1]</sup>Enquanto biblioteca statistics é utilizada para realizar os cálculos estatísticos. "
   ]
  },
  {
   "cell_type": "code",
   "execution_count": 41,
   "metadata": {},
   "outputs": [],
   "source": [
    "import numpy as np\n",
    "import statistics as st"
   ]
  },
  {
   "cell_type": "markdown",
   "metadata": {},
   "source": [
    "Realizando a criação dos arrays e calculando a correlação entre eles com a função correlation foi possível notar que eles não se correlacionam.   "
   ]
  },
  {
   "cell_type": "code",
   "execution_count": 42,
   "metadata": {},
   "outputs": [
    {
     "name": "stdout",
     "output_type": "stream",
     "text": [
      "-0.002829027450181718\n"
     ]
    }
   ],
   "source": [
    "array = np.random.normal(0,1,1000)\n",
    "array2 = np.random.normal(0,10,1000)\n",
    "correlacao = st.correlation(array,array2)\n",
    "print(correlacao)\n",
    "array_soma = array+array2"
   ]
  },
  {
   "cell_type": "code",
   "execution_count": 43,
   "metadata": {},
   "outputs": [
    {
     "name": "stdout",
     "output_type": "stream",
     "text": [
      "Média do array é -0.007141688469706222, a variância é 0.9802863138111367 e o desvio padrão é 0.9900940934129123\n",
      "Média do array_2 é 0.2571883940737963, a variância é 102.22197566365169 e o desvio padrão é 10.11048839886836\n",
      "Média da soma dos arrays é 0.2500467056040901, a variância é  103.14562295333744 e o desvio padrão é 10.156063359064744\n"
     ]
    }
   ],
   "source": [
    "media_array = st.mean(array)\n",
    "variancia_array = st.variance(array)\n",
    "desvio_padrao_array = st.stdev(array)\n",
    "media_array2 = st.mean(array2)\n",
    "variancia_array2 = st.variance(array2)\n",
    "desvio_padrao_array2 = st.stdev(array2)\n",
    "media_array_soma = st.mean(array_soma)\n",
    "variancia_array_soma = st.variance(array_soma)\n",
    "desvio_padrao_array_soma = st.stdev(array_soma)\n",
    "\n",
    "\n",
    "\n",
    "print(f\"Média do array é {media_array}, a variância é {variancia_array} e o desvio padrão é {desvio_padrao_array}\")\n",
    "print(f\"Média do array_2 é {media_array2}, a variância é {variancia_array2} e o desvio padrão é {desvio_padrao_array2}\")\n",
    "print(f\"Média da soma dos arrays é {st.mean(array_soma)}, a variância é  {st.variance(array_soma)} e o desvio padrão é {st.stdev(array_soma)}\")\n"
   ]
  },
  {
   "cell_type": "markdown",
   "metadata": {},
   "source": [
    "## Resultado e discussão\n",
    "\n"
   ]
  },
  {
   "cell_type": "markdown",
   "metadata": {},
   "source": [
    "Observando os valores printados pode-se perceber que a média da soma dos arrays é igual a soma da média de cada array. O mesmo é válido para a variância, a variância da soma dos arrays é igual a soma da variância de cada um. <br>Para o caso da desvio padrão, essa afirmação não funciona dessa forma, tendo em vista que ele é a raíz quadrada da variância. Ele \n",
    "<br>\n",
    "A explicação para isso acontecer pode ser feita considerando as propriedades dos somatórios usadas para o cálculo da média, do desvio padrão e da variância. \n",
    "<br><br>\n",
    "Tendo em vista que a **média** X pode ser descrita com a fórmula abaixo:\n",
    "$$\n",
    "\\bar{X} = \\frac{1}{n} \\sum_{i=1}^{n} X_i\n",
    "$$\n",
    "\n",
    "<br>\n",
    "Bastaria considerar a propriedade da soma, a qual diz que o somatório do termo X ± termo Y é igual ao somatório do termo X ± o somatório do termo Y.\n",
    "\n",
    "$$\n",
    "\\sum_{i=1}^{n} X_i ± Y_i     =        \\sum_{i=1}^{n} X_i ± \\sum_{i=1}^{n} Y_i\n",
    "$$\n",
    "\n",
    "<br>\n",
    "Para poder concluir que a média da soma do array 1(X) com o array 2(Y) é igual a média do array 1 mais a média do array 2.  \n",
    "\n",
    "$$\n",
    "\\frac{1}{n} \\sum_{i=1}^{n} X_i ± Y_i  =  \\frac{1}{n} \\sum_{i=1}^{n} X_i ± \\frac{1}{n} \\sum_{i=1}^{n} Y_i \n",
    "$$ \n",
    "</br>\n",
    "\n",
    "\n",
    "Com relação a **variância** S, descrita pela fórmula abaixo:\n",
    "\n",
    "$$\n",
    "s^2 = \\frac{1}{n-1} \\sum_{i=1}^{n} (X_i - \\bar{X})^2      \n",
    "$$\n",
    "\n",
    "ou da maneira abaixo para deixar exposto o somatório da média também.\n",
    "\n",
    "$$\n",
    "s^2 = \\frac{1}{n-1} \\sum_{i=1}^{n} (X_i -\\frac{1}{n} \\sum_{i=1}^{n} X_i)^2   \n",
    "$$\n",
    "<br>\n",
    "É possível usar das propriedades de soma de somatórios e resolução normal de equações para mostrar que a variância da soma dos arrays é igual a soma das variâncias como é descrito pela equação abaixo.\n",
    "\n",
    "$$\n",
    "\\frac{1}{n-1} \\sum_{i=1}^{n} ((X_i+Y_i)^2 -\\frac{1}{n} \\sum_{i=1}^{n} (X_i+Y_i)^2)    = \\frac{1}{n-1} \\sum_{i=1}^{n} (X_i -\\frac{1}{n} \\sum_{i=1}^{n} X_i)^2 +  \\frac{1}{n-1} \\sum_{i=1}^{n} (Y_i -\\frac{1}{n} \\sum_{i=1}^{n} Y_i)^2\n",
    "$$\n"
   ]
  },
  {
   "cell_type": "markdown",
   "metadata": {},
   "source": [
    "## Referências:\n",
    "\n",
    "[1] Revisão de estatística e probabilidade em Python. Disponível em: <https://www.sakurai.dev.br/revisao-estatistica-probabilidade-python/>. Acesso em: 17 ago. 2023.\n",
    "\n",
    "‌[2] Propriedades dos somatórios - Algol.dev - com ilustrações e exercícios. Disponível em: <https://algol.dev/propriedades-dos-somatorios/>. Acesso em: 18 ago. 2023.\n",
    "\n",
    "‌\n"
   ]
  },
  {
   "cell_type": "markdown",
   "metadata": {},
   "source": [
    "## Playground\n",
    "\n"
   ]
  },
  {
   "cell_type": "code",
   "execution_count": null,
   "metadata": {},
   "outputs": [],
   "source": []
  }
 ],
 "metadata": {
  "kernelspec": {
   "display_name": "Python 3.10.8 64-bit",
   "language": "python",
   "name": "python3"
  },
  "language_info": {
   "codemirror_mode": {
    "name": "ipython",
    "version": 3
   },
   "file_extension": ".py",
   "mimetype": "text/x-python",
   "name": "python",
   "nbconvert_exporter": "python",
   "pygments_lexer": "ipython3",
   "version": "3.10.8"
  },
  "org": null,
  "vscode": {
   "interpreter": {
    "hash": "26de051ba29f2982a8de78e945f0abaf191376122a1563185a90213a26c5da77"
   }
  }
 },
 "nbformat": 4,
 "nbformat_minor": 4
}
