{
 "cells": [
  {
   "cell_type": "markdown",
   "metadata": {},
   "source": [
    "A média das médias\n",
    "==================\n",
    "\n",
    "## **Discentes:** José David e Eric Leandro\n"
   ]
  },
  {
   "cell_type": "markdown",
   "metadata": {},
   "source": [
    "## Objetivo\n",
    "\n"
   ]
  },
  {
   "cell_type": "markdown",
   "metadata": {},
   "source": [
    "Crie ou obtenha um conjunto de dados numéricos que representa uma variável aleatória (certifique-se que seu conjunto de dados tem pelo menos 100 itens). Considere que este conjunto de dados é a sua população. Compute e reporte a média desta população.\n",
    "\n",
    "Realize o processo de amostragem aleatória sem reposição neste conjunto de dados 100 vezes. Cada vez que realizar a amostragem, colete um certo número de dados (algo entre 25% e 75% dos dados, escolha o valor que preferir), compute a média das suas amostras e registre estas médias em uma lista.\n",
    "\n",
    "Compute a média da lista de médias que obteve e compare este valor com a média da população. Discuta seu resultado.\n",
    "\n"
   ]
  },
  {
   "cell_type": "markdown",
   "metadata": {},
   "source": [
    "## Métodos:"
   ]
  },
  {
   "cell_type": "markdown",
   "metadata": {},
   "source": [
    "Para evitar o envio de um arquivo zip com a planilha de dados ou uso de random, decidimos fazer uso da biblioteca seaborn para importar um conjunto de dados e realizar os cálculos estatísticos. "
   ]
  },
  {
   "cell_type": "code",
   "execution_count": 26,
   "metadata": {},
   "outputs": [],
   "source": [
    "import seaborn as sbn\n",
    "import random"
   ]
  },
  {
   "cell_type": "code",
   "execution_count": 27,
   "metadata": {},
   "outputs": [
    {
     "name": "stdout",
     "output_type": "stream",
     "text": [
      "['anagrams', 'anscombe', 'attention', 'brain_networks', 'car_crashes', 'diamonds', 'dots', 'dowjones', 'exercise', 'flights', 'fmri', 'geyser', 'glue', 'healthexp', 'iris', 'mpg', 'penguins', 'planets', 'seaice', 'taxis', 'tips', 'titanic']\n"
     ]
    }
   ],
   "source": [
    "nomes = sbn.get_dataset_names()\n",
    "print(nomes)"
   ]
  },
  {
   "cell_type": "code",
   "execution_count": 28,
   "metadata": {},
   "outputs": [],
   "source": [
    "pinguins = sbn.load_dataset('penguins')\n",
    "#display(pinguins)"
   ]
  },
  {
   "cell_type": "code",
   "execution_count": 34,
   "metadata": {},
   "outputs": [],
   "source": [
    "filtro = (pinguins['species'] == 'Gentoo')\n",
    "pinguins_escolha = pinguins[filtro].dropna(subset = ['body_mass_g'])\n",
    "#display(pinguins_escolha)"
   ]
  },
  {
   "cell_type": "code",
   "execution_count": 33,
   "metadata": {},
   "outputs": [
    {
     "ename": "TypeError",
     "evalue": "Population must be a sequence.  For dicts or sets, use sorted(d).",
     "output_type": "error",
     "traceback": [
      "\u001b[1;31m---------------------------------------------------------------------------\u001b[0m",
      "\u001b[1;31mTypeError\u001b[0m                                 Traceback (most recent call last)",
      "Cell \u001b[1;32mIn[33], line 1\u001b[0m\n\u001b[1;32m----> 1\u001b[0m lista \u001b[39m=\u001b[39m random\u001b[39m.\u001b[39;49msample(pinguins_escolha[\u001b[39m'\u001b[39;49m\u001b[39mbody_mass_g\u001b[39;49m\u001b[39m'\u001b[39;49m],k \u001b[39m=\u001b[39;49m \u001b[39m25\u001b[39;49m)\n",
      "File \u001b[1;32mc:\\Program Files\\Python310\\lib\\random.py:466\u001b[0m, in \u001b[0;36mRandom.sample\u001b[1;34m(self, population, k, counts)\u001b[0m\n\u001b[0;32m    464\u001b[0m         population \u001b[39m=\u001b[39m \u001b[39mtuple\u001b[39m(population)\n\u001b[0;32m    465\u001b[0m     \u001b[39melse\u001b[39;00m:\n\u001b[1;32m--> 466\u001b[0m         \u001b[39mraise\u001b[39;00m \u001b[39mTypeError\u001b[39;00m(\u001b[39m\"\u001b[39m\u001b[39mPopulation must be a sequence.  For dicts or sets, use sorted(d).\u001b[39m\u001b[39m\"\u001b[39m)\n\u001b[0;32m    467\u001b[0m n \u001b[39m=\u001b[39m \u001b[39mlen\u001b[39m(population)\n\u001b[0;32m    468\u001b[0m \u001b[39mif\u001b[39;00m counts \u001b[39mis\u001b[39;00m \u001b[39mnot\u001b[39;00m \u001b[39mNone\u001b[39;00m:\n",
      "\u001b[1;31mTypeError\u001b[0m: Population must be a sequence.  For dicts or sets, use sorted(d)."
     ]
    }
   ],
   "source": [
    "lista = random.sample(pinguins_escolha['body_mass_g'],k = 25) u"
   ]
  },
  {
   "cell_type": "markdown",
   "metadata": {},
   "source": [
    "## Resultado e discussão\n",
    "\n"
   ]
  },
  {
   "cell_type": "code",
   "execution_count": null,
   "metadata": {},
   "outputs": [],
   "source": []
  },
  {
   "cell_type": "markdown",
   "metadata": {},
   "source": [
    "## Referências\n",
    "\n"
   ]
  },
  {
   "cell_type": "markdown",
   "metadata": {},
   "source": [
    "Escreva nesta seção as referências consultadas.\n",
    "\n"
   ]
  },
  {
   "cell_type": "markdown",
   "metadata": {},
   "source": [
    "## Playground\n",
    "\n"
   ]
  },
  {
   "cell_type": "code",
   "execution_count": null,
   "metadata": {},
   "outputs": [],
   "source": []
  }
 ],
 "metadata": {
  "kernelspec": {
   "display_name": "Python 3.10.8 64-bit",
   "language": "python",
   "name": "python3"
  },
  "language_info": {
   "codemirror_mode": {
    "name": "ipython",
    "version": 3
   },
   "file_extension": ".py",
   "mimetype": "text/x-python",
   "name": "python",
   "nbconvert_exporter": "python",
   "pygments_lexer": "ipython3",
   "version": "3.10.8"
  },
  "org": null,
  "vscode": {
   "interpreter": {
    "hash": "26de051ba29f2982a8de78e945f0abaf191376122a1563185a90213a26c5da77"
   }
  }
 },
 "nbformat": 4,
 "nbformat_minor": 4
}
