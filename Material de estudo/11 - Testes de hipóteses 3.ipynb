{
 "cells": [
  {
   "cell_type": "markdown",
   "metadata": {},
   "source": [
    "Testes de hipóteses --- alguns testes muito utilizados\n",
    "======================================================\n",
    "\n"
   ]
  },
  {
   "cell_type": "markdown",
   "metadata": {},
   "source": [
    "## Importações\n",
    "\n"
   ]
  },
  {
   "cell_type": "code",
   "execution_count": 1,
   "metadata": {},
   "outputs": [],
   "source": [
    "import numpy as np\n",
    "import pandas as pd\n",
    "import matplotlib.pyplot as plt\n",
    "from scipy import stats"
   ]
  },
  {
   "cell_type": "markdown",
   "metadata": {},
   "source": [
    "## Introdução\n",
    "\n"
   ]
  },
  {
   "cell_type": "markdown",
   "metadata": {},
   "source": [
    "Nas aulas anteriores nós investigamos os conceitos fundamentais de testes de hipóteses utilizando estratégias de simulação ou identificando as distribuições esperadas das estatísticas de teste.\n",
    "\n",
    "Seria bastante subótimo se tivéssemos que montar toda a estrutura que fizemos toda vez que quisermos realizar um teste de hipóteses. Fora isso, ficaria mais difícil de comparar resultados de testes de diferentes pesquisadores e cientistas.\n",
    "\n",
    "O que existe, então, é um conjunto de testes de hipóteses já prontos, desenvolvidos por diversos estatísticos ao longo dos anos. Existem diversos destes testes de hipóteses que já estão prontos que já e foram amplamente estudados.\n",
    "\n",
    "O objetivo deste notebook é apresentar sistematicamente (com exemplos) alguns testes de hipóteses bastante utilizados nas ciências naturais. Seria impraticável fazer uma lista extensiva aqui&#x2026; logo, se nenhum destes testes atende um determinado experimento que você realizou, busque mais informações que muito provavelmente existe um teste de hipóteses já pronto que pode te ajudar.\n",
    "\n",
    "Como sempre, antes de seguir em frente, vamos definir o nível de confiança dos nossos testes.\n",
    "\n"
   ]
  },
  {
   "cell_type": "code",
   "execution_count": 2,
   "metadata": {},
   "outputs": [],
   "source": [
    "NIVEL_CONFIANCA = 0.95\n",
    "\n",
    "significancia = 1 - NIVEL_CONFIANCA"
   ]
  },
  {
   "cell_type": "markdown",
   "metadata": {},
   "source": [
    "Para nos ajudar a vida, vamos definir uma função que recebe o p-valor e a significância e nos diz qual deve ser a nossa ação.\n",
    "\n"
   ]
  },
  {
   "cell_type": "code",
   "execution_count": 3,
   "metadata": {},
   "outputs": [],
   "source": [
    "def printa_resultado(pvalor, significancia):\n",
    "    if pvalor < significancia:\n",
    "        print(f\"Com esta observação ({pvalor=:.4f}), devemos rejeitar H0\")\n",
    "    else:\n",
    "        print(f\"Com esta observação ({pvalor=:.4f}), não devemos rejeitar H0\")"
   ]
  },
  {
   "cell_type": "markdown",
   "metadata": {},
   "source": [
    "## O teste $t$ para uma amostra\n",
    "\n"
   ]
  },
  {
   "cell_type": "markdown",
   "metadata": {},
   "source": [
    "**Objetivo**: quero comparar a média $\\mu$ de uma variável aleatória $X$ ($\\mu = E[X]$) com um valor $\\mu_0$ de minha escolha.\n",
    "\n",
    "**Hipótese nula**:\n",
    "\n",
    "-   $H_0$: $\\mu = \\mu_0$\n",
    "\n",
    "**Hipóteses alternativas possíveis**:\n",
    "\n",
    "-   $H_1$: $\\mu > \\mu_0$\n",
    "\n",
    "-   $H_1$: $\\mu < \\mu_0$\n",
    "\n",
    "-   $H_1$: $\\mu \\neq \\mu_0$\n",
    "\n",
    "**Suposição relevante**: a variável aleatória $X$ representa uma amostra coletada de uma população que segue uma distribuição normal. Sugestão: ver teste de Shapiro-Wilk abaixo caso queira testar se uma variável aleatória foi coletada de uma população que segue uma distribuição normal.\n",
    "\n",
    "**Distribuição utilizada para computar a estatística de teste**: $t$ de Student.\n",
    "\n",
    "**Referências**: Seção 8.3 da Ref. [1] e Ref. [2].\n",
    "\n",
    "**Implementação no `scipy`**: [https://docs.scipy.org/doc/scipy/reference/generated/scipy.stats.ttest_1samp.html](https://docs.scipy.org/doc/scipy/reference/generated/scipy.stats.ttest_1samp.html)\n",
    "\n"
   ]
  },
  {
   "cell_type": "markdown",
   "metadata": {},
   "source": [
    "### Exemplo 1\n",
    "\n"
   ]
  },
  {
   "cell_type": "markdown",
   "metadata": {},
   "source": [
    "Suponha que fomos ao laboratório e coletamos os seguintes dados.\n",
    "\n"
   ]
  },
  {
   "cell_type": "code",
   "execution_count": 4,
   "metadata": {},
   "outputs": [],
   "source": [
    "X = [-1.54, 0.28, 1.83, 4.82, 3.32, 2.66, 4.91, -0.69, -1.47, 0.79, -0.17, 2.16,\n",
    "      0.84, 2.87, 2.92, 4.34, 1.77, 0.08, 0.97, -0.24]"
   ]
  },
  {
   "cell_type": "markdown",
   "metadata": {},
   "source": [
    "Vamos levantar as hipóteses do teste. Observe que no exemplo abaixo temos que $\\mu_0 = 0,5$.\n",
    "\n",
    "-   $H_0$: $\\mu = 0,5$\n",
    "\n",
    "-   $H_1$: $\\mu \\neq 0,5$\n",
    "\n",
    "Para realizar este teste, executamos o código abaixo.\n",
    "\n"
   ]
  },
  {
   "cell_type": "code",
   "execution_count": 5,
   "metadata": {},
   "outputs": [
    {
     "name": "stdout",
     "output_type": "stream",
     "text": [
      "Com esta observação (pvalor=0.0311), devemos rejeitar H0\n"
     ]
    }
   ],
   "source": [
    "MI_ZERO = 0.5\n",
    "\n",
    "resultado_teste = stats.ttest_1samp(X, MI_ZERO)\n",
    "\n",
    "pvalor = resultado_teste.pvalue\n",
    "\n",
    "printa_resultado(pvalor, significancia)"
   ]
  },
  {
   "cell_type": "markdown",
   "metadata": {},
   "source": [
    "### Exemplo 2: teste após o teste\n",
    "\n"
   ]
  },
  {
   "cell_type": "markdown",
   "metadata": {},
   "source": [
    "No teste do exemplo anterior, rejeitamos $H_0$ em favor de $H_1$. A hipótese alternativa nos diz que a média da variável aleatória é diferente de $\\mu_0=0,5$ que nós propomos, mas não diz nada além disso.\n",
    "\n",
    "O que podemos fazer aqui é um *teste após o teste* para saber para qual direção está a média da variável aleatória.\n",
    "\n",
    "Podemos levantar as seguintes hipóteses:\n",
    "\n",
    "-   $H_0$: $\\mu = 0,5$\n",
    "\n",
    "-   $H_1$: $\\mu > 0,5$\n",
    "\n",
    "Para realizar este teste, executamos o código abaixo. Preste atenção no argumento `alternative=\"greater\"` (*greater* significa &ldquo;maior que&rdquo; em inglês, observe este fato em conjunto com a $H_1$).\n",
    "\n"
   ]
  },
  {
   "cell_type": "code",
   "execution_count": 6,
   "metadata": {},
   "outputs": [
    {
     "name": "stdout",
     "output_type": "stream",
     "text": [
      "Com esta observação (pvalor=0.0155), devemos rejeitar H0\n"
     ]
    }
   ],
   "source": [
    "MI_ZERO = 0.5\n",
    "\n",
    "resultado_teste = stats.ttest_1samp(X, MI_ZERO, alternative=\"greater\")\n",
    "\n",
    "pvalor = resultado_teste.pvalue\n",
    "\n",
    "printa_resultado(pvalor, significancia)"
   ]
  },
  {
   "cell_type": "markdown",
   "metadata": {},
   "source": [
    "### Exemplo 3: teste após o teste caso tivéssemos feito outra escolha de $H_1$\n",
    "\n"
   ]
  },
  {
   "cell_type": "markdown",
   "metadata": {},
   "source": [
    "O que teria acontecido se tivéssemos escolhido outra hipótese alternativa?\n",
    "\n",
    "-   $H_0$: $\\mu = 0,5$\n",
    "\n",
    "-   $H_1$: $\\mu < 0,5$\n",
    "\n",
    "Para realizar este teste, executamos o código abaixo. Preste atenção no argumento `alternative=\"less\"` (*less* significa &ldquo;menor que&rdquo; em inglês, observe este fato em conjunto com a $H_1$).\n",
    "\n"
   ]
  },
  {
   "cell_type": "code",
   "execution_count": 7,
   "metadata": {},
   "outputs": [
    {
     "name": "stdout",
     "output_type": "stream",
     "text": [
      "Com esta observação (pvalor=0.9845), não devemos rejeitar H0\n"
     ]
    }
   ],
   "source": [
    "MI_ZERO = 0.5\n",
    "\n",
    "resultado_teste = stats.ttest_1samp(X, MI_ZERO, alternative=\"less\")\n",
    "\n",
    "pvalor = resultado_teste.pvalue\n",
    "\n",
    "printa_resultado(pvalor, significancia)"
   ]
  },
  {
   "cell_type": "markdown",
   "metadata": {},
   "source": [
    "## O teste $t$ para duas amostras independentes de mesma variância\n",
    "\n"
   ]
  },
  {
   "cell_type": "markdown",
   "metadata": {},
   "source": [
    "**Objetivo**: quero comparar a média $\\mu_a$ de uma variável aleatória $X_a$ ($\\mu_a = E[X_a]$) com a média $\\mu_b$ de uma variável aleatória $X_b$ ($\\mu_b = E[X_b]$). $X_a$ e $X_b$ são variáveis aleatórias independentes.\n",
    "\n",
    "**Hipótese nula**:\n",
    "\n",
    "-   $H_0$: $\\mu_a = \\mu_b$\n",
    "\n",
    "**Hipóteses alternativas possíveis**:\n",
    "\n",
    "-   $H_1$: $\\mu_a > \\mu_b$\n",
    "\n",
    "-   $H_1$: $\\mu_a < \\mu_b$\n",
    "\n",
    "-   $H_1$: $\\mu_a \\neq \\mu_b$\n",
    "\n",
    "**Suposição relevante**: a variância da população de onde $X_a$ foi amostrado é igual à variância da população de onde $X_b$ foi amostrado. Esta condição tem um nome: *homoscedasticidade*.\n",
    "\n",
    "**Distribuição utilizada para computar a estatística de teste**: $t$ de Student.\n",
    "\n",
    "**Referência**: [3].\n",
    "\n",
    "**Implementação no `scipy`**: [https://docs.scipy.org/doc/scipy/reference/generated/scipy.stats.ttest_ind.html](https://docs.scipy.org/doc/scipy/reference/generated/scipy.stats.ttest_ind.html)\n",
    "\n"
   ]
  },
  {
   "cell_type": "markdown",
   "metadata": {},
   "source": [
    "### Exemplo 1\n",
    "\n"
   ]
  },
  {
   "cell_type": "markdown",
   "metadata": {},
   "source": [
    "Em um estudo de campo, medimos o tamanho das pétalas de flores da mesma espécie de planta em duas regiões diferentes do cerrado. Registramos estas medidas nas variáveis `Xa` e `Xb`.\n",
    "\n"
   ]
  },
  {
   "cell_type": "code",
   "execution_count": 8,
   "metadata": {},
   "outputs": [],
   "source": [
    "Xa = [9.51, 7.8, 9.32, 8.89, 8.41, 8.76, 10.66, 11.38, 9.03, 8.2, 11.08, 10.47,\n",
    "      11.44, 9.37, 10.33, 8.79, 8.87, 10.58, 9.73, 11.51]\n",
    "\n",
    "Xb = [11.72, 11.64, 11.67, 11.69, 12.62, 11.18, 10.56, 12.8, 10.41, 11.29,\n",
    "      12.67, 11.94, 11.78, 12.12, 12.34, 12.42, 11.35, 12.22, 11.25, 11.05]"
   ]
  },
  {
   "cell_type": "markdown",
   "metadata": {},
   "source": [
    "Vamos levantar as hipóteses do teste.\n",
    "\n",
    "-   $H_0$: $\\mu_a = \\mu_b$\n",
    "\n",
    "-   $H_1$: $\\mu_a \\neq \\mu_b$\n",
    "\n",
    "Para realizar este teste, executamos o código abaixo.\n",
    "\n"
   ]
  },
  {
   "cell_type": "code",
   "execution_count": 9,
   "metadata": {},
   "outputs": [
    {
     "name": "stdout",
     "output_type": "stream",
     "text": [
      "Com esta observação (pvalor=0.0000), devemos rejeitar H0\n"
     ]
    }
   ],
   "source": [
    "resultado_teste = stats.ttest_ind(Xa, Xb)\n",
    "\n",
    "pvalor = resultado_teste.pvalue\n",
    "\n",
    "printa_resultado(pvalor, significancia)"
   ]
  },
  {
   "cell_type": "markdown",
   "metadata": {},
   "source": [
    "### Exemplo 2: teste após o teste\n",
    "\n"
   ]
  },
  {
   "cell_type": "markdown",
   "metadata": {},
   "source": [
    "No teste do exemplo anterior, rejeitamos $H_0$ em favor de $H_1$. A hipótese alternativa nos dizia que as médias são diferentes. Vamos realizar nosso teste após o teste para saber qual das médias é maior.\n",
    "\n",
    "Podemos levantar as seguintes hipóteses:\n",
    "\n",
    "-   $H_0$: $\\mu_a = \\mu_b$\n",
    "\n",
    "-   $H_1$: $\\mu_a < \\mu_b$\n",
    "\n",
    "Para realizar este teste, executamos o código abaixo.\n",
    "\n"
   ]
  },
  {
   "cell_type": "code",
   "execution_count": 10,
   "metadata": {},
   "outputs": [
    {
     "name": "stdout",
     "output_type": "stream",
     "text": [
      "Com esta observação (pvalor=0.0000), devemos rejeitar H0\n"
     ]
    }
   ],
   "source": [
    "resultado_teste = stats.ttest_ind(Xa, Xb, alternative=\"less\")\n",
    "\n",
    "pvalor = resultado_teste.pvalue\n",
    "\n",
    "printa_resultado(pvalor, significancia)"
   ]
  },
  {
   "cell_type": "markdown",
   "metadata": {},
   "source": [
    "## O teste $t$ de Welch para duas amostras independentes de variâncias diferentes\n",
    "\n"
   ]
  },
  {
   "cell_type": "markdown",
   "metadata": {},
   "source": [
    "**Objetivo**: quero comparar a média $\\mu_a$ de uma variável aleatória $X_a$ ($\\mu_a = E[X_a]$) com a média $\\mu_b$ de uma variável aleatória $X_b$ ($\\mu_b = E[X_b]$). $X_a$ e $X_b$ são variáveis aleatórias independentes.\n",
    "\n",
    "**Hipótese nula**:\n",
    "\n",
    "-   $H_0$: $\\mu_a = \\mu_b$\n",
    "\n",
    "**Hipóteses alternativas possíveis**:\n",
    "\n",
    "-   $H_1$: $\\mu_a > \\mu_b$\n",
    "\n",
    "-   $H_1$: $\\mu_a < \\mu_b$\n",
    "\n",
    "-   $H_1$: $\\mu_a \\neq \\mu_b$\n",
    "\n",
    "**Distribuição utilizada para computar a estatística de teste**: $t$ de Student.\n",
    "\n",
    "**Comentário**: para fins práticos, é como se fosse o teste $t$ para duas amostras mas sem a restrição de elas terem a mesma variância.\n",
    "\n",
    "**Referência**: [4].\n",
    "\n",
    "**Implementação no `scipy`**: [https://docs.scipy.org/doc/scipy/reference/generated/scipy.stats.ttest_ind.html](https://docs.scipy.org/doc/scipy/reference/generated/scipy.stats.ttest_ind.html)\n",
    "\n"
   ]
  },
  {
   "cell_type": "markdown",
   "metadata": {},
   "source": [
    "### Exemplo\n",
    "\n"
   ]
  },
  {
   "cell_type": "markdown",
   "metadata": {},
   "source": [
    "Em um estudo de campo, medimos o tamanho das folhas de espécies diferentes de plantas em uma região da mata amazônica. Registramos estas medidas nas variáveis `Xa` e `Xb`.\n",
    "\n"
   ]
  },
  {
   "cell_type": "code",
   "execution_count": 11,
   "metadata": {},
   "outputs": [],
   "source": [
    "Xa = [21.07, 18.54, 22.48, 21.93, 22.39, 19.8, 20.16, 18.35, 20.98, 21.67,\n",
    "      17.55, 17.73, 18.69, 17.97, 19.94, 21.16, 22.39, 19.58, 16.2, 19.46]\n",
    "\n",
    "Xb = [19.32, 20.08, 20.8, 19.51, 20.81, 17.68, 21.3, 19.81, 19.77, 20.63, 20.75,\n",
    "      21.68, 19.02, 19.5, 20.63, 18.9, 19.95, 19.07, 18.52, 19.65]"
   ]
  },
  {
   "cell_type": "markdown",
   "metadata": {},
   "source": [
    "Vamos levantar as hipóteses do teste.\n",
    "\n",
    "-   $H_0$: $\\mu_a = \\mu_b$\n",
    "\n",
    "-   $H_1$: $\\mu_a \\neq \\mu_b$\n",
    "\n",
    "Para realizar este teste, executamos o código abaixo. Note que devemos passar o atributo `equal_var=False` para que o teste correto seja executado.\n",
    "\n"
   ]
  },
  {
   "cell_type": "code",
   "execution_count": 12,
   "metadata": {},
   "outputs": [
    {
     "name": "stdout",
     "output_type": "stream",
     "text": [
      "Com esta observação (pvalor=0.9441), não devemos rejeitar H0\n"
     ]
    }
   ],
   "source": [
    "resultado_teste = stats.ttest_ind(Xa, Xb, equal_var=False)\n",
    "\n",
    "pvalor = resultado_teste.pvalue\n",
    "\n",
    "printa_resultado(pvalor, significancia)"
   ]
  },
  {
   "cell_type": "markdown",
   "metadata": {},
   "source": [
    "## O teste postos sinalizados de Wilcoxon\n",
    "\n"
   ]
  },
  {
   "cell_type": "markdown",
   "metadata": {},
   "source": [
    "**Objetivo**: quero saber se mediana $\\tilde{\\mu}$ de uma variável aleatória $X$ é igual a zero.\n",
    "\n",
    "**Hipótese nula**:\n",
    "\n",
    "-   $H_0$: $\\tilde{\\mu} = 0$\n",
    "\n",
    "**Hipóteses alternativas possíveis**:\n",
    "\n",
    "-   $H_1$: $\\tilde{\\mu} > 0$\n",
    "\n",
    "-   $H_1$: $\\tilde{\\mu} < 0$\n",
    "\n",
    "-   $H_1$: $\\tilde{\\mu} \\neq 0$\n",
    "\n",
    "**Distribuição utilizada para computar a estatística de teste**: não tem, este é um teste não-paramétrico.\n",
    "\n",
    "**Comentário**: é um teste parecido com o teste $t$ para uma amostra, porém não requer que a variável aleatória tenha sido amostrada de uma normal.\n",
    "\n",
    "**Referência**: Capítulo 15.1 da Ref. [1].\n",
    "\n",
    "**Implementação no `scipy`**: [https://docs.scipy.org/doc/scipy/reference/generated/scipy.stats.wilcoxon.html](https://docs.scipy.org/doc/scipy/reference/generated/scipy.stats.wilcoxon.html)\n",
    "\n"
   ]
  },
  {
   "cell_type": "markdown",
   "metadata": {},
   "source": [
    "### Exemplo\n",
    "\n"
   ]
  },
  {
   "cell_type": "markdown",
   "metadata": {},
   "source": [
    "A variável `diferencas` abaixo registra as diferenças de altura entre plantas de milho com fertilização cruzada e autofecundada:\n",
    "\n"
   ]
  },
  {
   "cell_type": "code",
   "execution_count": 13,
   "metadata": {},
   "outputs": [],
   "source": [
    "diferencas = [6, 8, 14, 16, 23, 24, 28, 29, 41, -48, 49, 56, 60, -67, 75]"
   ]
  },
  {
   "cell_type": "markdown",
   "metadata": {},
   "source": [
    "**Comentário**: se você tem os valores em si da altura das plantas (por exemplo) e não a diferença, basta computar a diferença antes de realizar o teste.\n",
    "\n",
    "Vamos levantar as hipóteses do teste.\n",
    "\n",
    "-   $H_0$: $\\tilde{\\mu} = 0$ (isto é, a mediana da distribuição de diferenças é zero, logo não h diferença entre as alturas das plantas)\n",
    "\n",
    "-   $H_1$: $\\tilde{\\mu} \\neq 0$\n",
    "\n",
    "Para realizar este teste, executamos o código abaixo.\n",
    "\n"
   ]
  },
  {
   "cell_type": "code",
   "execution_count": 14,
   "metadata": {},
   "outputs": [
    {
     "name": "stdout",
     "output_type": "stream",
     "text": [
      "Com esta observação (pvalor=0.0413), devemos rejeitar H0\n"
     ]
    }
   ],
   "source": [
    "resultado_teste = stats.wilcoxon(diferencas)\n",
    "\n",
    "pvalor = resultado_teste.pvalue\n",
    "\n",
    "printa_resultado(pvalor, significancia)"
   ]
  },
  {
   "cell_type": "markdown",
   "metadata": {},
   "source": [
    "Com este resultado, agora queremos realizar um teste após o teste para saber para que lado está a mediana. Vamos levantar as hipóteses do teste.\n",
    "\n",
    "-   $H_0$: $\\tilde{\\mu} = 0$\n",
    "\n",
    "-   $H_1$: $\\tilde{\\mu} > 0$\n",
    "\n",
    "Para realizar este teste, executamos o código abaixo.\n",
    "\n"
   ]
  },
  {
   "cell_type": "code",
   "execution_count": 15,
   "metadata": {},
   "outputs": [
    {
     "name": "stdout",
     "output_type": "stream",
     "text": [
      "Com esta observação (pvalor=0.0206), devemos rejeitar H0\n"
     ]
    }
   ],
   "source": [
    "resultado_teste = stats.wilcoxon(diferencas, alternative=\"greater\")\n",
    "\n",
    "pvalor = resultado_teste.pvalue\n",
    "\n",
    "printa_resultado(pvalor, significancia)"
   ]
  },
  {
   "cell_type": "markdown",
   "metadata": {},
   "source": [
    "## Análise de variância de um fator (ANOVA)\n",
    "\n"
   ]
  },
  {
   "cell_type": "markdown",
   "metadata": {},
   "source": [
    "**Objetivo**: quero comparar as médias $\\mu_1$, $\\mu_2$, &#x2026;, $\\mu_k$ de três ou mais variáveis aleatórias $X_1$, $X_2$, &#x2026;, $X_k$.\n",
    "\n",
    "**Hipótese nula**:\n",
    "\n",
    "-   $H_0$: $\\mu_1 = \\mu_2 = \\cdots = \\mu_k$\n",
    "\n",
    "**Hipótese alternativa**:\n",
    "\n",
    "-   $H_1$: pelo menos uma das médias $\\mu_i$ é diferente das demais\n",
    "\n",
    "**Suposições relevantes**:\n",
    "\n",
    "-   As variáveis aleatórias $X_1$, $X_2$, &#x2026;, $X_k$ são independentes\n",
    "\n",
    "-   As variáveis aleatórias $X_1$, $X_2$, &#x2026;, $X_k$ seguem distribuições normais (segundo a Ref. [5], podemos utilizar este teste mesmo que esta condição *não* seja verdadeira, principalmente em conjuntos de dados grandes)\n",
    "\n",
    "-   As variâncias das populações de onde as variáveis aleatórias $X_1$, $X_2$, &#x2026;, $X_k$ foram amostradas são iguais. Esta condição tem um nome: *homoscedasticidade*.\n",
    "\n",
    "**Distribuição utilizada para computar a estatística de teste**: distribuição $F$ de Fisher-Senecor [6].\n",
    "\n",
    "**Referência**: O capítulo 9.4 da Ref. [5] abre as contas deste teste de hipóteses. Ver também o capítulo 10 da Ref. [1].\n",
    "\n",
    "**Implementação no `scipy`**: [https://docs.scipy.org/doc/scipy/reference/generated/scipy.stats.f_oneway.html](https://docs.scipy.org/doc/scipy/reference/generated/scipy.stats.f_oneway.html)\n",
    "\n"
   ]
  },
  {
   "cell_type": "markdown",
   "metadata": {},
   "source": [
    "### Exemplo 1\n",
    "\n"
   ]
  },
  {
   "cell_type": "markdown",
   "metadata": {},
   "source": [
    "Abaixo temos alguns dados sobre a medida de concha (o comprimento da cicatriz do músculo adutor anterior, padronizado pela divisão pelo comprimento) no mexilhão *Mytilus trossulus* de cinco locais diferentes: Tillamook, Oregon; Newport, Oregon; Petersburg, Alasca; Magadan, Rússia; e Tvarminne, Finlândia, retirados de um conjunto de dados muito maior reportado na Ref. [12] (dados obtidos na [página](https://docs.scipy.org/doc/scipy/reference/generated/scipy.stats.f_oneway.html) da análise ANOVA do `scipy`).\n",
    "\n"
   ]
  },
  {
   "cell_type": "code",
   "execution_count": 16,
   "metadata": {},
   "outputs": [],
   "source": [
    "tillamook = [0.0571, 0.0813, 0.0831, 0.0976, 0.0817, 0.0859, 0.0735, 0.0659, 0.0923, 0.0836]\n",
    "\n",
    "newport = [0.0873, 0.0662, 0.0672, 0.0819, 0.0749, 0.0649, 0.0835, 0.0725]\n",
    "\n",
    "petersburg = [0.0974, 0.1352, 0.0817, 0.1016, 0.0968, 0.1064, 0.105]\n",
    "\n",
    "magadan = [0.1033, 0.0915, 0.0781, 0.0685, 0.0677, 0.0697, 0.0764, 0.0689]\n",
    "\n",
    "tvarminne = [0.0703, 0.1026, 0.0956, 0.0973, 0.1039, 0.1045]"
   ]
  },
  {
   "cell_type": "markdown",
   "metadata": {},
   "source": [
    "Vamos levantar as hipóteses do teste.\n",
    "\n",
    "-   $H_0$: as médias da medida de concha dos mexilhões são iguais\n",
    "\n",
    "-   $H_1$: pelo menos uma das médias é diferente das outras\n",
    "\n",
    "Para realizar este teste, executamos o código abaixo.\n",
    "\n"
   ]
  },
  {
   "cell_type": "code",
   "execution_count": 17,
   "metadata": {},
   "outputs": [
    {
     "name": "stdout",
     "output_type": "stream",
     "text": [
      "Com esta observação (pvalor=0.0003), devemos rejeitar H0\n"
     ]
    }
   ],
   "source": [
    "resultado_teste = stats.f_oneway(\n",
    "    tillamook, newport, petersburg, magadan, tvarminne\n",
    ")\n",
    "\n",
    "pvalor = resultado_teste.pvalue\n",
    "\n",
    "printa_resultado(pvalor, significancia)"
   ]
  },
  {
   "cell_type": "markdown",
   "metadata": {},
   "source": [
    "### Exemplo 2 - análise post-hoc\n",
    "\n"
   ]
  },
  {
   "cell_type": "markdown",
   "metadata": {},
   "source": [
    "Com o teste realizado no exemplo anterior, nós rejeitamos $H_0$.\n",
    "\n",
    "E agora? Como descobrir qual(is) das espécies de mexilhões tem média(s) diferente(s)? Pode ser tentador identificar todos os pares possíveis de mexilhões e utilizar um teste $t$ para cada par e checar se as médias são iguais. No entanto, <u>esta estratégia nos leva a um enorme número de falsos positivos</u> (erros tipo I)!!! Esta é uma &ldquo;receita perfeita&rdquo; para p-hacking&#x2026;\n",
    "\n",
    "Uma estratégia para para seguir em frente é realizar uma *análise post-hoc*. Uma análise possível é o *teste da diferença significativa honesta de Tukey*. Os detalhes deste teste estão discutidos em outras fontes [13].\n",
    "\n",
    "Antes de seguir em frente com o teste, vamos observar graficamente o que temos.\n",
    "\n"
   ]
  },
  {
   "cell_type": "code",
   "execution_count": 18,
   "metadata": {},
   "outputs": [
    {
     "data": {
      "image/png": "[encoded data removed]",
      "text/plain": [
       "<Figure size 640x480 with 1 Axes>"
      ]
     },
     "metadata": {},
     "output_type": "display_data"
    }
   ],
   "source": [
    "figura, eixo = plt.subplots()\n",
    "\n",
    "eixo.boxplot([tillamook, newport, petersburg, magadan, tvarminne])\n",
    "\n",
    "eixo.set_xticklabels(\n",
    "    [\"tillamook\", \"newport\", \"petersburg\", \"magadan\", \"tvarminne\"]\n",
    ")\n",
    "eixo.set_ylabel(\"Medida da concha\");"
   ]
  },
  {
   "cell_type": "markdown",
   "metadata": {},
   "source": [
    "Para realizar este teste, executamos o código abaixo. Note que a hipótese nula para cada p-valor abaixo diz que as médias entre os pares são iguais e a hipótese alternativa diz que as médias entre os pares são diferentes.\n",
    "\n"
   ]
  },
  {
   "cell_type": "code",
   "execution_count": 19,
   "metadata": {},
   "outputs": [
    {
     "name": "stdout",
     "output_type": "stream",
     "text": [
      "Tukey's HSD Pairwise Group Comparisons (95.0% Confidence Interval)\n",
      "Comparison  Statistic  p-value  Lower CI  Upper CI\n",
      " (0 - 1)      0.005     0.893    -0.012     0.023\n",
      " (0 - 2)     -0.023     0.006    -0.041    -0.005\n",
      " (0 - 3)      0.002     0.996    -0.015     0.019\n",
      " (0 - 4)     -0.016     0.145    -0.034     0.003\n",
      " (1 - 0)     -0.005     0.893    -0.023     0.012\n",
      " (1 - 2)     -0.029     0.001    -0.047    -0.010\n",
      " (1 - 3)     -0.003     0.986    -0.021     0.015\n",
      " (1 - 4)     -0.021     0.032    -0.040    -0.001\n",
      " (2 - 0)      0.023     0.006     0.005     0.041\n",
      " (2 - 1)      0.029     0.001     0.010     0.047\n",
      " (2 - 3)      0.025     0.004     0.007     0.044\n",
      " (2 - 4)      0.008     0.803    -0.012     0.028\n",
      " (3 - 0)     -0.002     0.996    -0.019     0.015\n",
      " (3 - 1)      0.003     0.986    -0.015     0.021\n",
      " (3 - 2)     -0.025     0.004    -0.044    -0.007\n",
      " (3 - 4)     -0.018     0.093    -0.037     0.002\n",
      " (4 - 0)      0.016     0.145    -0.003     0.034\n",
      " (4 - 1)      0.021     0.032     0.001     0.040\n",
      " (4 - 2)     -0.008     0.803    -0.028     0.012\n",
      " (4 - 3)      0.018     0.093    -0.002     0.037\n",
      "\n"
     ]
    }
   ],
   "source": [
    "resultado_teste = stats.tukey_hsd(\n",
    "    tillamook, newport, petersburg, magadan, tvarminne\n",
    ")\n",
    "\n",
    "print(resultado_teste)"
   ]
  },
  {
   "cell_type": "markdown",
   "metadata": {},
   "source": [
    "## O teste de normalidade de Shapiro-Wilk\n",
    "\n"
   ]
  },
  {
   "cell_type": "markdown",
   "metadata": {},
   "source": [
    "**Objetivo**: quero saber se uma variável aleatória $X$ foi amostrada de uma distribuição normal.\n",
    "\n",
    "**Hipótese nula**:\n",
    "\n",
    "-   $H_0$: a população de onde $X$ foi amostrado segue uma distribuição normal\n",
    "\n",
    "**Hipótese alternativa**:\n",
    "\n",
    "-   $H_1$: a população de onde $X$ foi amostrado *não* segue uma distribuição normal\n",
    "\n",
    "**Distribuição utilizada para computar a estatística de teste**: ver na Ref. [10]. É uma equação difícil de ser calculada analiticamente e em geral utilizamos de simulação para executar este teste (conhecida como estratégia de Monte Carlo, foi o que fizemos nos notebooks anteriores).\n",
    "\n",
    "**Referência**: [10].\n",
    "\n",
    "**Implementação no `scipy`**:\n",
    "[https://docs.scipy.org/doc/scipy/reference/generated/scipy.stats.shapiro.html](https://docs.scipy.org/doc/scipy/reference/generated/scipy.stats.shapiro.html)\n",
    "\n"
   ]
  },
  {
   "cell_type": "markdown",
   "metadata": {},
   "source": [
    "### Exemplo\n",
    "\n"
   ]
  },
  {
   "cell_type": "markdown",
   "metadata": {},
   "source": [
    "Abaixo temos algumas alturas reportadas pelos alunos da Ilum da turma 2023 no início do segundo semestre de 2023.\n",
    "\n"
   ]
  },
  {
   "cell_type": "code",
   "execution_count": 20,
   "metadata": {},
   "outputs": [],
   "source": [
    "alturas = [174, 173, 182, 169, 162, 161, 188, 152, 160, 180, 153, 155, 170, 170,\n",
    "           191, 169, 176, 175, 170, 161, 184, 175, 176, 169, 170, 170, 171, 175]"
   ]
  },
  {
   "cell_type": "markdown",
   "metadata": {},
   "source": [
    "Vamos levantar as hipóteses do teste.\n",
    "\n",
    "-   $H_0$: a população de onde as alturas foram amostrados segue uma distribuição normal\n",
    "\n",
    "-   $H_1$: a população de onde as alturas foram amostradas *não* segue uma distribuição normal\n",
    "\n",
    "Para realizar este teste, executamos o código abaixo.\n",
    "\n"
   ]
  },
  {
   "cell_type": "code",
   "execution_count": 21,
   "metadata": {},
   "outputs": [
    {
     "name": "stdout",
     "output_type": "stream",
     "text": [
      "Com esta observação (pvalor=0.4474), não devemos rejeitar H0\n"
     ]
    }
   ],
   "source": [
    "resultado_teste = stats.shapiro(alturas)\n",
    "\n",
    "pvalor = resultado_teste.pvalue\n",
    "\n",
    "printa_resultado(pvalor, significancia)"
   ]
  },
  {
   "cell_type": "markdown",
   "metadata": {},
   "source": [
    "## O teste de aderência qui-quadrado (goodness of fit)\n",
    "\n"
   ]
  },
  {
   "cell_type": "markdown",
   "metadata": {},
   "source": [
    "**Objetivo**: quero comparar a frequência observada de dados categóricos com uma frequência esperada.\n",
    "\n",
    "**Hipótese nula**:\n",
    "\n",
    "-   $H_0$: a frequência observada é igual a frequência esperada.\n",
    "\n",
    "**Hipótese alternativa**:\n",
    "\n",
    "-   $H_1$: a frequência observada *não* é igual a frequência esperada.\n",
    "\n",
    "**Condições para uso**: este teste não funciona bem se as frequências forem muito baixas. Como regra geral, garanta que todas as frequências são maiores ou iguais a 5. É importante que se tenha 13 ou mais observações/amostras para utilizar este teste.\n",
    "\n",
    "**Distribuição utilizada para computar a estatística de teste**: qui-quadrado.\n",
    "\n",
    "**Referência**: O capítulo 8.5 da Ref. [5] e Ref. [9]. Vale muito a pena assistir aos vídeos das Refs. [15] e [16].\n",
    "\n",
    "**Implementação no `scipy`**: [https://docs.scipy.org/doc/scipy/reference/generated/scipy.stats.chisquare.html](https://docs.scipy.org/doc/scipy/reference/generated/scipy.stats.chisquare.html)\n",
    "\n",
    "**Comentário**: também conhecido como *chi-squared goodness of fit test* em inglês.\n",
    "\n"
   ]
  },
  {
   "cell_type": "markdown",
   "metadata": {},
   "source": [
    "### Exemplo 1\n",
    "\n"
   ]
  },
  {
   "cell_type": "markdown",
   "metadata": {},
   "source": [
    "Digamos que você tenha um modelo para a frequência de cor de cabelo. Digamos que você acredite que 1/3 das pessoas têm cabelo preto, 1/3 têm cabelo loiro e 1/3 têm cabelo ruivo (um modelo bastante simples, mas ainda um modelo).\n",
    "\n"
   ]
  },
  {
   "cell_type": "code",
   "execution_count": 22,
   "metadata": {},
   "outputs": [],
   "source": [
    "distribuicao_modelo = np.array([1/3, 1/3, 1/3])"
   ]
  },
  {
   "cell_type": "markdown",
   "metadata": {},
   "source": [
    "Em uma sala com 50 pessoas, você observou 30 pessoas com cabelo preto, 15 pessoas com cabelo loiro e apenas 5 pessoas com cabelo ruivo.\n",
    "\n"
   ]
  },
  {
   "cell_type": "code",
   "execution_count": 23,
   "metadata": {},
   "outputs": [],
   "source": [
    "freq_observada = np.array([30, 15, 5])"
   ]
  },
  {
   "cell_type": "markdown",
   "metadata": {},
   "source": [
    "Você quer testar se sua frequência observada condiz com o modelo que você tem.\n",
    "\n",
    "Vamos levantar as hipóteses do teste.\n",
    "\n",
    "-   $H_0$: a frequência observada é igual a frequência esperada pelo modelo\n",
    "\n",
    "-   $H_1$: a frequência observada *não* é igual a frequência esperada modelo\n",
    "\n",
    "Antes de realizar o teste, devemos calcular a frequência esperada baseada no modelo. Observe que <u>a soma da frequência esperada deve ser igual à soma da frequência observada</u>.\n",
    "\n"
   ]
  },
  {
   "cell_type": "code",
   "execution_count": 24,
   "metadata": {},
   "outputs": [
    {
     "name": "stdout",
     "output_type": "stream",
     "text": [
      "[16.66666667 16.66666667 16.66666667]\n"
     ]
    }
   ],
   "source": [
    "freq_esperada = distribuicao_modelo / sum(distribuicao_modelo) * sum(freq_observada)\n",
    "\n",
    "print(freq_esperada)"
   ]
  },
  {
   "cell_type": "markdown",
   "metadata": {},
   "source": [
    "Para realizar este teste, executamos o código abaixo.\n",
    "\n"
   ]
  },
  {
   "cell_type": "code",
   "execution_count": 25,
   "metadata": {},
   "outputs": [
    {
     "name": "stdout",
     "output_type": "stream",
     "text": [
      "Com esta observação (pvalor=0.0001), devemos rejeitar H0\n"
     ]
    }
   ],
   "source": [
    "resultado_teste = stats.chisquare(freq_observada, freq_esperada)\n",
    "\n",
    "pvalor = resultado_teste.pvalue\n",
    "\n",
    "printa_resultado(pvalor, significancia)"
   ]
  },
  {
   "cell_type": "markdown",
   "metadata": {},
   "source": [
    "Como pode ver, rejeitamos a hipótese de que a frequência observada é igual à frequência do modelo. Precisamos rever o modelo!\n",
    "\n"
   ]
  },
  {
   "cell_type": "markdown",
   "metadata": {},
   "source": [
    "### Exemplo 2\n",
    "\n"
   ]
  },
  {
   "cell_type": "markdown",
   "metadata": {},
   "source": [
    "Existe um jogo tipo mundo aberto chamado Artesãos de Minas. Neste jogo, você controla um aventureiro em um mundo feito de blocos e uma das suas tarefa é coletar recursos contidos nos blocos deste mundo.\n",
    "\n",
    "Ao investigar uma certa região neste jogo, você coletou os seguintes recursos: 112 blocos de queijo, 72 blocos de doce de leite, 29 blocos de tutu de feijão e apenas 12 blocos de torresmo pururuca.\n",
    "\n"
   ]
  },
  {
   "cell_type": "code",
   "execution_count": 26,
   "metadata": {},
   "outputs": [],
   "source": [
    "freq_observada = np.array([112, 72, 29, 12])"
   ]
  },
  {
   "cell_type": "markdown",
   "metadata": {},
   "source": [
    "Segundo a wiki do jogo, a distribuição esperada destes recursos na região é 50% de blocos de queijo, 30% de blocos de doce de leite, 15% de blocos de tutu de feijão e 5% de blocos de torresmo pururuca.\n",
    "\n"
   ]
  },
  {
   "cell_type": "code",
   "execution_count": 27,
   "metadata": {},
   "outputs": [],
   "source": [
    "distribuicao_wiki = np.array([50, 30, 15, 5])"
   ]
  },
  {
   "cell_type": "markdown",
   "metadata": {},
   "source": [
    "Você quer testar se sua frequência observada condiz com o que está escrito na wiki.\n",
    "\n",
    "Vamos levantar as hipóteses do teste.\n",
    "\n",
    "-   $H_0$: a frequência observada é igual a frequência esperada (reportada na wiki)\n",
    "\n",
    "-   $H_1$: a frequência observada *não* é igual a frequência esperada (reportada na wiki)\n",
    "\n",
    "Antes de realizar o teste, devemos calcular a frequência esperada baseada na informação da wiki. Observe que <u>a soma da frequência esperada deve ser igual à soma da frequência observada</u>.\n",
    "\n"
   ]
  },
  {
   "cell_type": "code",
   "execution_count": 28,
   "metadata": {},
   "outputs": [
    {
     "name": "stdout",
     "output_type": "stream",
     "text": [
      "[112.5   67.5   33.75  11.25]\n"
     ]
    }
   ],
   "source": [
    "freq_esperada = distribuicao_wiki / sum(distribuicao_wiki) * sum(freq_observada)\n",
    "\n",
    "print(freq_esperada)"
   ]
  },
  {
   "cell_type": "markdown",
   "metadata": {},
   "source": [
    "Para realizar este teste, executamos o código abaixo.\n",
    "\n"
   ]
  },
  {
   "cell_type": "code",
   "execution_count": 29,
   "metadata": {},
   "outputs": [
    {
     "name": "stdout",
     "output_type": "stream",
     "text": [
      "Com esta observação (pvalor=0.7962), não devemos rejeitar H0\n"
     ]
    }
   ],
   "source": [
    "resultado_teste = stats.chisquare(freq_observada, freq_esperada)\n",
    "\n",
    "pvalor = resultado_teste.pvalue\n",
    "\n",
    "printa_resultado(pvalor, significancia)"
   ]
  },
  {
   "cell_type": "markdown",
   "metadata": {},
   "source": [
    "## O teste de independência qui-quadrado\n",
    "\n"
   ]
  },
  {
   "cell_type": "markdown",
   "metadata": {},
   "source": [
    "**Objetivo**: quero saber se duas ou mais variáveis aleatórias ($X_1$, $X_2$, &#x2026;, $X_k$) são independentes.\n",
    "\n",
    "**Hipótese nula**:\n",
    "\n",
    "-   $H_0$: as variáveis aleatórias ($X_1$, $X_2$, &#x2026;, $X_k$) são independentes.\n",
    "\n",
    "**Hipótese alternativa**:\n",
    "\n",
    "-   $H_1$: existem pelo menos duas variáveis aleatória $X_i$ e $X_n$ que são dependentes.\n",
    "\n",
    "**Condições para uso**: para este teste é necessário o uso de uma tabela de contingência [7]. Nesta tabela, todas as frequências devem ser maiores ou iguais a 5.\n",
    "\n",
    "**Distribuição utilizada para computar a estatística de teste**: qui-quadrado.\n",
    "\n",
    "**Referência**: O capítulo 8.5 da Ref. [5] (ver exercício 8.11) e Ref. [8]. Veja o vídeo da Ref. [15] caso tenha dúvidas entre os testes chi-quadrado apresentados neste notebook.\n",
    "\n",
    "**Implementação no `scipy`**: [https://docs.scipy.org/doc/scipy/reference/generated/scipy.stats.chi2_contingency.html](https://docs.scipy.org/doc/scipy/reference/generated/scipy.stats.chi2_contingency.html)\n",
    "\n"
   ]
  },
  {
   "cell_type": "markdown",
   "metadata": {},
   "source": [
    "### Exemplo 1\n",
    "\n"
   ]
  },
  {
   "cell_type": "markdown",
   "metadata": {},
   "source": [
    "Para utilizarmos este teste, é necessário termos uma tabela de contingência. Segundo a Wikipédia &ldquo;As tabelas de contingência são usadas para registrar observações independentes de duas ou mais variáveis aleatórias, normalmente qualitativas&rdquo;. [7]\n",
    "\n",
    "Abaixo temos a tabela de contingência sobre dados de duas variáveis aleatórias &ldquo;toma aspirina&rdquo; e &ldquo;teve AVC isquêmico&rdquo; da Ref. [14].\n",
    "\n"
   ]
  },
  {
   "cell_type": "code",
   "execution_count": 30,
   "metadata": {},
   "outputs": [
    {
     "data": {
      "text/html": [
       "<div>\n",
       "<style scoped>\n",
       "    .dataframe tbody tr th:only-of-type {\n",
       "        vertical-align: middle;\n",
       "    }\n",
       "\n",
       "    .dataframe tbody tr th {\n",
       "        vertical-align: top;\n",
       "    }\n",
       "\n",
       "    .dataframe thead th {\n",
       "        text-align: right;\n",
       "    }\n",
       "</style>\n",
       "<table border=\"1\" class=\"dataframe\">\n",
       "  <thead>\n",
       "    <tr style=\"text-align: right;\">\n",
       "      <th></th>\n",
       "      <th>Aspirina</th>\n",
       "      <th>Placebo/Controle</th>\n",
       "    </tr>\n",
       "    <tr>\n",
       "      <th>Evento</th>\n",
       "      <th></th>\n",
       "      <th></th>\n",
       "    </tr>\n",
       "  </thead>\n",
       "  <tbody>\n",
       "    <tr>\n",
       "      <th>AVC isquêmico</th>\n",
       "      <td>176</td>\n",
       "      <td>230</td>\n",
       "    </tr>\n",
       "    <tr>\n",
       "      <th>Sem AVC</th>\n",
       "      <td>21035</td>\n",
       "      <td>21018</td>\n",
       "    </tr>\n",
       "  </tbody>\n",
       "</table>\n",
       "</div>"
      ],
      "text/plain": [
       "               Aspirina  Placebo/Controle\n",
       "Evento                                   \n",
       "AVC isquêmico       176               230\n",
       "Sem AVC           21035             21018"
      ]
     },
     "execution_count": 30,
     "metadata": {},
     "output_type": "execute_result"
    }
   ],
   "source": [
    "dados = {\n",
    "    \"Evento\": [\"AVC isquêmico\", \"Sem AVC\"],\n",
    "    \"Aspirina\": [176, 21035],\n",
    "    \"Placebo/Controle\": [230, 21018],\n",
    "}\n",
    "\n",
    "tabela_contingencia = pd.DataFrame(dados)\n",
    "tabela_contingencia = tabela_contingencia.set_index(\"Evento\", drop=True)\n",
    "\n",
    "tabela_contingencia"
   ]
  },
  {
   "cell_type": "markdown",
   "metadata": {},
   "source": [
    "Será que as variáveis aleatórias &ldquo;toma aspirina&rdquo; e &ldquo;teve AVC isquêmico&rdquo; são independentes? Vamos testar!\n",
    "\n",
    "Vamos levantar as hipóteses do teste.\n",
    "\n",
    "-   $H_0$: as variáveis aleatórias &ldquo;toma aspirina&rdquo; e &ldquo;teve AVC isquêmico&rdquo; são independentes.\n",
    "\n",
    "-   $H_1$: as variáveis aleatórias &ldquo;toma aspirina&rdquo; e &ldquo;teve AVC isquêmico&rdquo; *não* são independentes.\n",
    "\n",
    "Para realizar este teste, executamos o código abaixo.\n",
    "\n"
   ]
  },
  {
   "cell_type": "code",
   "execution_count": 31,
   "metadata": {},
   "outputs": [
    {
     "name": "stdout",
     "output_type": "stream",
     "text": [
      "Com esta observação (pvalor=0.0087), devemos rejeitar H0\n"
     ]
    }
   ],
   "source": [
    "resultado_teste = stats.chi2_contingency(tabela_contingencia)\n",
    "\n",
    "pvalor = resultado_teste.pvalue\n",
    "\n",
    "printa_resultado(pvalor, significancia)"
   ]
  },
  {
   "cell_type": "markdown",
   "metadata": {},
   "source": [
    "### Exemplo 2\n",
    "\n"
   ]
  },
  {
   "cell_type": "markdown",
   "metadata": {},
   "source": [
    "Abaixo temos a tabela de contingência sobre dados de duas variáveis aleatórias &ldquo;gosta de abacaxi na pizza?&rdquo; e &ldquo;casa preferida de Harry Potter&rdquo; apresentada no vídeo da Ref. [15].\n",
    "\n"
   ]
  },
  {
   "cell_type": "code",
   "execution_count": 32,
   "metadata": {},
   "outputs": [
    {
     "data": {
      "text/html": [
       "<div>\n",
       "<style scoped>\n",
       "    .dataframe tbody tr th:only-of-type {\n",
       "        vertical-align: middle;\n",
       "    }\n",
       "\n",
       "    .dataframe tbody tr th {\n",
       "        vertical-align: top;\n",
       "    }\n",
       "\n",
       "    .dataframe thead th {\n",
       "        text-align: right;\n",
       "    }\n",
       "</style>\n",
       "<table border=\"1\" class=\"dataframe\">\n",
       "  <thead>\n",
       "    <tr style=\"text-align: right;\">\n",
       "      <th></th>\n",
       "      <th>Grifinória</th>\n",
       "      <th>Lufa-lufa</th>\n",
       "      <th>Sonserina</th>\n",
       "      <th>Corvinal</th>\n",
       "    </tr>\n",
       "    <tr>\n",
       "      <th>Abacaxi na pizza?</th>\n",
       "      <th></th>\n",
       "      <th></th>\n",
       "      <th></th>\n",
       "      <th></th>\n",
       "    </tr>\n",
       "  </thead>\n",
       "  <tbody>\n",
       "    <tr>\n",
       "      <th>Gosto</th>\n",
       "      <td>82</td>\n",
       "      <td>130</td>\n",
       "      <td>240</td>\n",
       "      <td>69</td>\n",
       "    </tr>\n",
       "    <tr>\n",
       "      <th>Não gosto</th>\n",
       "      <td>79</td>\n",
       "      <td>122</td>\n",
       "      <td>204</td>\n",
       "      <td>74</td>\n",
       "    </tr>\n",
       "  </tbody>\n",
       "</table>\n",
       "</div>"
      ],
      "text/plain": [
       "                   Grifinória  Lufa-lufa  Sonserina  Corvinal\n",
       "Abacaxi na pizza?                                            \n",
       "Gosto                      82        130        240        69\n",
       "Não gosto                  79        122        204        74"
      ]
     },
     "execution_count": 32,
     "metadata": {},
     "output_type": "execute_result"
    }
   ],
   "source": [
    "dados = {\n",
    "    \"Abacaxi na pizza?\": [\"Gosto\", \"Não gosto\"],\n",
    "    \"Grifinória\": [82, 79],\n",
    "    \"Lufa-lufa\": [130, 122],\n",
    "    \"Sonserina\": [240, 204],\n",
    "    \"Corvinal\": [69, 74],\n",
    "}\n",
    "\n",
    "tabela_contingencia = pd.DataFrame(dados)\n",
    "tabela_contingencia = tabela_contingencia.set_index(\"Abacaxi na pizza?\", drop=True)\n",
    "\n",
    "tabela_contingencia"
   ]
  },
  {
   "cell_type": "markdown",
   "metadata": {},
   "source": [
    "Será que as variáveis aleatórias &ldquo;gosta de abacaxi na pizza?&rdquo; e &ldquo;casa preferida de Harry Potter&rdquo; são independentes? Vamos testar!\n",
    "\n",
    "Vamos levantar as hipóteses do teste.\n",
    "\n",
    "-   $H_0$: as variáveis aleatórias &ldquo;gosta de abacaxi na pizza?&rdquo; e &ldquo;casa preferida de Harry Potter&rdquo; são independentes.\n",
    "\n",
    "-   $H_1$: as variáveis aleatórias &ldquo;gosta de abacaxi na pizza?&rdquo; e &ldquo;casa preferida de Harry Potter&rdquo; *não* são independentes.\n",
    "\n",
    "Para realizar este teste, executamos o código abaixo.\n",
    "\n"
   ]
  },
  {
   "cell_type": "code",
   "execution_count": 33,
   "metadata": {},
   "outputs": [
    {
     "name": "stdout",
     "output_type": "stream",
     "text": [
      "Com esta observação (pvalor=0.6498), não devemos rejeitar H0\n"
     ]
    }
   ],
   "source": [
    "resultado_teste = stats.chi2_contingency(tabela_contingencia)\n",
    "\n",
    "pvalor = resultado_teste.pvalue\n",
    "\n",
    "printa_resultado(pvalor, significancia)"
   ]
  },
  {
   "cell_type": "markdown",
   "metadata": {},
   "source": [
    "## Teste $U$ de Mann-Whitney (ou teste da soma dos postos de Wilcoxon)\n",
    "\n"
   ]
  },
  {
   "cell_type": "markdown",
   "metadata": {},
   "source": [
    "**Objetivo**: quero saber se duas variáveis aleatórias $X_a$ e $X_b$ foram amostradas de uma mesma distribuição.\n",
    "\n",
    "**Hipótese nula**:\n",
    "\n",
    "-   $H_0$: as distribuições de onde $X_a$ e $X_b$ forma amostradas são iguais\n",
    "\n",
    "**Hipóteses alternativas possíveis**:\n",
    "\n",
    "-   $H_1$: a distribuição de onde $X_a$ foi amostrada é estocasticamente *maior* do que a distribuição de onde $X_b$ foi amostrada (de maneira simples, isso quer dizer que a distribuição de $X_a$ está *em geral* deslocada para a direita em relação à $X_b$)\n",
    "\n",
    "-   $H_1$: a distribuição de onde $X_a$ foi amostrada é estocasticamente *menor* do que a distribuição de onde $X_b$ foi amostrada (de maneira simples, isso quer dizer que a distribuição de $X_a$ está *em geral* deslocada para a esquerda em relação à $X_b$)\n",
    "\n",
    "-   $H_1$: uma das distribuições de onde amostramos as variáveis aleatórias é estocasticamente maior que a outra (de maneira simples, isso quer dizer que uma das distribuições está deslocada para a direita com relação a outra)\n",
    "\n",
    "**Distribuição utilizada para computar a estatística de teste**: não tem, este é um teste não-paramétrico.\n",
    "\n",
    "**Referência**: Capítulo 15.2 da Ref. [1].\n",
    "\n",
    "**Implementação no `scipy`**: [https://docs.scipy.org/doc/scipy/reference/generated/scipy.stats.ranksums.html](https://docs.scipy.org/doc/scipy/reference/generated/scipy.stats.ranksums.html)\n",
    "\n"
   ]
  },
  {
   "cell_type": "markdown",
   "metadata": {},
   "source": [
    "### Exemplo\n",
    "\n"
   ]
  },
  {
   "cell_type": "markdown",
   "metadata": {},
   "source": [
    "Vamos simular a coleta de duas variáveis aleatórias $X_a$ e $X_b$. Nós sabemos que elas vem de distribuições uniformes diferentes (pois está no código). Observe que elas têm tamanhos diferentes\n",
    "\n"
   ]
  },
  {
   "cell_type": "code",
   "execution_count": 34,
   "metadata": {},
   "outputs": [
    {
     "name": "stdout",
     "output_type": "stream",
     "text": [
      "[-0.14067549 -0.75255865 -0.84048191 -0.6937579  -0.84735413 -0.54395399\n",
      " -0.65933075 -0.67185794 -0.38830296 -0.53756264]\n",
      "\n",
      "[ 0.91567646 -0.14909905 -0.02527587 -0.18669053  0.04487855  0.02942462\n",
      "  0.53258577  0.57842804  0.53990269  0.24642184  0.98222014  0.61714356\n",
      "  0.69048221  0.33023545 -0.19960262]\n"
     ]
    }
   ],
   "source": [
    "Xa = stats.uniform(-1, 1).rvs(10)\n",
    "Xb = stats.uniform(-0.5, 1.5).rvs(15)\n",
    "\n",
    "print(Xa)\n",
    "print()\n",
    "print(Xb)"
   ]
  },
  {
   "cell_type": "markdown",
   "metadata": {},
   "source": [
    "Vamos levantar as hipóteses do teste.\n",
    "\n",
    "-   $H_0$: as distribuições de onde $X_a$ e $X_b$ forma amostradas são iguais\n",
    "\n",
    "-   $H_1$: uma das distribuições de onde amostramos as variáveis aleatórias é estocasticamente maior que a outra (de maneira simples, isso quer dizer que uma das distribuições está deslocada para a direita com relação a outra)\n",
    "\n",
    "Para realizar este teste, executamos o código abaixo.\n",
    "\n"
   ]
  },
  {
   "cell_type": "code",
   "execution_count": 35,
   "metadata": {},
   "outputs": [
    {
     "name": "stdout",
     "output_type": "stream",
     "text": [
      "Com esta observação (pvalor=0.0001), devemos rejeitar H0\n"
     ]
    }
   ],
   "source": [
    "resultado_teste = stats.ranksums(Xa, Xb)\n",
    "\n",
    "pvalor = resultado_teste.pvalue\n",
    "\n",
    "printa_resultado(pvalor, significancia)"
   ]
  },
  {
   "cell_type": "markdown",
   "metadata": {},
   "source": [
    "Com este resultado, agora queremos realizar um teste após o teste para saber para que lado está a mediana. Vamos levantar as hipóteses do teste.\n",
    "\n",
    "-   $H_0$: as distribuições de onde $X_a$ e $X_b$ forma amostradas são iguais\n",
    "\n",
    "-   $H_1$: a distribuição de onde $X_a$ foi amostrada é estocasticamente *maior* do que a distribuição de onde $X_b$ foi amostrada (de maneira simples, isso quer dizer que a distribuição de $X_a$ está *em geral* deslocada para a direita em relação à $X_b$)\n",
    "\n",
    "Para realizar este teste, executamos o código abaixo.\n",
    "\n"
   ]
  },
  {
   "cell_type": "code",
   "execution_count": 36,
   "metadata": {},
   "outputs": [
    {
     "name": "stdout",
     "output_type": "stream",
     "text": [
      "Com esta observação (pvalor=1.0000), não devemos rejeitar H0\n"
     ]
    }
   ],
   "source": [
    "resultado_teste = stats.ranksums(Xa, Xb, alternative=\"greater\")\n",
    "\n",
    "pvalor = resultado_teste.pvalue\n",
    "\n",
    "printa_resultado(pvalor, significancia)"
   ]
  },
  {
   "cell_type": "markdown",
   "metadata": {},
   "source": [
    "## Testes de hipóteses para aprofundar seus conhecimentos\n",
    "\n"
   ]
  },
  {
   "cell_type": "markdown",
   "metadata": {},
   "source": [
    "**Teste de Kruskal-Wallis**: Teste tipo ANOVA não-paramétrico. Requer apenas que as variáveis aleatórias sejam independentes. Ver capítulo 15.4 da Ref. [1] e função do `scipy` [aqui](https://docs.scipy.org/doc/scipy/reference/generated/scipy.stats.kruskal.html).\n",
    "\n",
    "**Teste da variância de Levene**: Teste para checar se duas ou mais variáveis aleatórias têm a mesma variância. Muito útil antes de utilizar ANOVA. Ver a [página na Wikipédia](https://en.wikipedia.org/wiki/Levene%27s_test) e a [função](https://docs.scipy.org/doc/scipy/reference/generated/scipy.stats.levene.html) do `scipy`.\n",
    "\n"
   ]
  },
  {
   "cell_type": "markdown",
   "metadata": {},
   "source": [
    "## XKCD relevante\n",
    "\n"
   ]
  },
  {
   "cell_type": "markdown",
   "metadata": {},
   "source": [
    "![img](https://imgs.xkcd.com/comics/p_values.png)\n",
    "\n",
    "`Imagem: P-Values (XKCD) disponível em https://xkcd.com/1478`\n",
    "\n"
   ]
  },
  {
   "cell_type": "markdown",
   "metadata": {},
   "source": [
    "## Referências\n",
    "\n"
   ]
  },
  {
   "cell_type": "markdown",
   "metadata": {},
   "source": [
    "1.  DEVORE, Jay L. Probabilidade E Estatística Para Engenharia E Ciências. Tradução Da 9ª Edição Norte-Americana. Cengage Learning, 2018.\n",
    "\n",
    "2.  Teste $t$ de Student [https://en.wikipedia.org/wiki/Student%27s_t-test](https://en.wikipedia.org/wiki/Student%27s_t-test)\n",
    "\n",
    "3.  Teste $t$ de Student para duas variáveis independentes [https://en.wikipedia.org/wiki/Student%27s_t-test#Independent_two-sample_t-test](https://en.wikipedia.org/wiki/Student%27s_t-test#Independent_two-sample_t-test)\n",
    "\n",
    "4.  Teste $t$ de Welch [https://en.wikipedia.org/wiki/Welch%27s_t-test](https://en.wikipedia.org/wiki/Welch%27s_t-test)\n",
    "\n",
    "5.  MAGALHÃES, Marcos N.; LIMA, Antonio Carlos Pedroso de. Noções de probabilidade e estatística. 7a. ed. São Paulo: EDUSP, 2011.\n",
    "\n",
    "6.  Distribuição $F$ de Fisher-Senecor [https://en.wikipedia.org/wiki/F-distribution](https://en.wikipedia.org/wiki/F-distribution)\n",
    "\n",
    "7.  Tabela de contingência [https://en.wikipedia.org/wiki/Contingency_table](https://en.wikipedia.org/wiki/Contingency_table)\n",
    "\n",
    "8.  Teste de independência chi-quadrado [https://en.wikipedia.org/wiki/Chi-squared_test](https://en.wikipedia.org/wiki/Chi-squared_test)\n",
    "\n",
    "9.  Teste de aderência chi-quadrado [https://en.wikipedia.org/wiki/Pearson%27s_chi-squared_test](https://en.wikipedia.org/wiki/Pearson%27s_chi-squared_test)\n",
    "\n",
    "10. Teste de Shapiro-Wilk [https://en.wikipedia.org/wiki/Shapiro%E2%80%93Wilk_test](https://en.wikipedia.org/wiki/Shapiro%E2%80%93Wilk_test)\n",
    "\n",
    "11. Análise de variância (Wikipédia) [https://en.wikipedia.org/wiki/One-way_analysis_of_variance](https://en.wikipedia.org/wiki/One-way_analysis_of_variance)\n",
    "\n",
    "12. Handbook of Biological Statistics [https://www.biostathandbook.com/onewayanova.html](https://www.biostathandbook.com/onewayanova.html)\n",
    "\n",
    "13. Referências sobre o teste de Tukey\n",
    "    -   [https://docs.scipy.org/doc/scipy/reference/generated/scipy.stats.tukey_hsd.html](https://docs.scipy.org/doc/scipy/reference/generated/scipy.stats.tukey_hsd.html)\n",
    "    \n",
    "    -   [https://www.biostathandbook.com/onewayanova.html](https://www.biostathandbook.com/onewayanova.html)\n",
    "    \n",
    "    -   [https://en.wikipedia.org/wiki/Tukey%27s_range_test](https://en.wikipedia.org/wiki/Tukey%27s_range_test)\n",
    "\n",
    "14. Berger, Jeffrey S. et al. “Aspirin for the Primary Prevention of Cardiovascular Events in Women and Men: A Sex-Specific Meta-analysis of Randomized Controlled Trials.” JAMA, 295(3):306-313, DOI:10.1001/jama.295.3.306, 2006.\n",
    "\n",
    "15. Teste chi-quadrado do Crash Course [https://www.youtube.com/watch?v=7_cs1YlZoug](https://www.youtube.com/watch?v=7_cs1YlZoug)\n",
    "\n",
    "16. Teste de aderência do chi-quadrado do Zed Statistics [https://www.youtube.com/watch?v=ZNXso_riZag](https://www.youtube.com/watch?v=ZNXso_riZag)\n",
    "\n"
   ]
  }
 ],
 "metadata": {
  "kernelspec": {
   "display_name": "Python 3.10.8 64-bit",
   "language": "python",
   "name": "python3"
  },
  "language_info": {
   "codemirror_mode": {
    "name": "ipython",
    "version": 3
   },
   "file_extension": ".py",
   "mimetype": "text/x-python",
   "name": "python",
   "nbconvert_exporter": "python",
   "pygments_lexer": "ipython3",
   "version": "3.10.8"
  },
  "org": null,
  "vscode": {
   "interpreter": {
    "hash": "26de051ba29f2982a8de78e945f0abaf191376122a1563185a90213a26c5da77"
   }
  }
 },
 "nbformat": 4,
 "nbformat_minor": 4
}
